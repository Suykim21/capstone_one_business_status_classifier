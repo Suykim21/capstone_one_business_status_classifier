{
 "cells": [
  {
   "cell_type": "code",
   "execution_count": 2,
   "metadata": {},
   "outputs": [],
   "source": [
    "# Basics\n",
    "import numpy as np\n",
    "import pandas as pd\n",
    "\n",
    "# Visualization\n",
    "import matplotlib.pyplot as plt\n",
    "import matplotlib.lines as mlines\n",
    "import seaborn as sns\n",
    "\n",
    "# For timing ml algorithms\n",
    "from timeit import timeit\n",
    "\n",
    "# Ignore warning messages\n",
    "import warnings\n",
    "warnings.filterwarnings('ignore')\n",
    "\n",
    "# Saving models\n",
    "import pickle"
   ]
  },
  {
   "cell_type": "code",
   "execution_count": 3,
   "metadata": {},
   "outputs": [],
   "source": [
    "# Machine learning\n",
    "from sklearn.model_selection import train_test_split, RandomizedSearchCV, GridSearchCV\n",
    "from sklearn.ensemble import RandomForestClassifier, AdaBoostClassifier, GradientBoostingClassifier\n",
    "from sklearn.svm import SVC\n",
    "from sklearn import metrics"
   ]
  },
  {
   "cell_type": "code",
   "execution_count": 4,
   "metadata": {},
   "outputs": [],
   "source": [
    "# Read dataset files\n",
    "data_df = pd.read_csv('./dataset/ml_test.csv', index_col=0)"
   ]
  },
  {
   "cell_type": "code",
   "execution_count": 5,
   "metadata": {},
   "outputs": [
    {
     "data": {
      "text/html": [
       "<div>\n",
       "<style scoped>\n",
       "    .dataframe tbody tr th:only-of-type {\n",
       "        vertical-align: middle;\n",
       "    }\n",
       "\n",
       "    .dataframe tbody tr th {\n",
       "        vertical-align: top;\n",
       "    }\n",
       "\n",
       "    .dataframe thead th {\n",
       "        text-align: right;\n",
       "    }\n",
       "</style>\n",
       "<table border=\"1\" class=\"dataframe\">\n",
       "  <thead>\n",
       "    <tr style=\"text-align: right;\">\n",
       "      <th></th>\n",
       "      <th>review_count</th>\n",
       "      <th>adjusted_stars</th>\n",
       "      <th>price</th>\n",
       "      <th>is_open</th>\n",
       "      <th>caters</th>\n",
       "      <th>goodforkids</th>\n",
       "      <th>alcohol</th>\n",
       "      <th>goodforgroups</th>\n",
       "      <th>tableservice</th>\n",
       "      <th>drivethru</th>\n",
       "      <th>...</th>\n",
       "      <th>pos</th>\n",
       "      <th>compound</th>\n",
       "      <th>revenue</th>\n",
       "      <th>pos_review</th>\n",
       "      <th>neg_review</th>\n",
       "      <th>stars_1.0</th>\n",
       "      <th>stars_2.0</th>\n",
       "      <th>stars_3.0</th>\n",
       "      <th>stars_4.0</th>\n",
       "      <th>stars_5.0</th>\n",
       "    </tr>\n",
       "  </thead>\n",
       "  <tbody>\n",
       "    <tr>\n",
       "      <th>0</th>\n",
       "      <td>0.001342</td>\n",
       "      <td>0.670984</td>\n",
       "      <td>0.000000</td>\n",
       "      <td>1.0</td>\n",
       "      <td>0.0</td>\n",
       "      <td>0.0</td>\n",
       "      <td>0.0</td>\n",
       "      <td>0.0</td>\n",
       "      <td>0.0</td>\n",
       "      <td>0.0</td>\n",
       "      <td>...</td>\n",
       "      <td>0.535683</td>\n",
       "      <td>0.953855</td>\n",
       "      <td>0.000066</td>\n",
       "      <td>0.005952</td>\n",
       "      <td>0.002024</td>\n",
       "      <td>0.000000</td>\n",
       "      <td>0.007353</td>\n",
       "      <td>0.000000</td>\n",
       "      <td>0.000000</td>\n",
       "      <td>0.006250</td>\n",
       "    </tr>\n",
       "    <tr>\n",
       "      <th>1</th>\n",
       "      <td>0.004027</td>\n",
       "      <td>0.678756</td>\n",
       "      <td>0.000000</td>\n",
       "      <td>1.0</td>\n",
       "      <td>0.0</td>\n",
       "      <td>1.0</td>\n",
       "      <td>0.0</td>\n",
       "      <td>0.0</td>\n",
       "      <td>0.0</td>\n",
       "      <td>0.0</td>\n",
       "      <td>...</td>\n",
       "      <td>0.453430</td>\n",
       "      <td>0.806740</td>\n",
       "      <td>0.000157</td>\n",
       "      <td>0.008929</td>\n",
       "      <td>0.002024</td>\n",
       "      <td>0.000000</td>\n",
       "      <td>0.000000</td>\n",
       "      <td>0.005917</td>\n",
       "      <td>0.006329</td>\n",
       "      <td>0.006250</td>\n",
       "    </tr>\n",
       "    <tr>\n",
       "      <th>2</th>\n",
       "      <td>0.004027</td>\n",
       "      <td>0.544041</td>\n",
       "      <td>0.000000</td>\n",
       "      <td>0.0</td>\n",
       "      <td>0.0</td>\n",
       "      <td>0.0</td>\n",
       "      <td>1.0</td>\n",
       "      <td>0.0</td>\n",
       "      <td>0.0</td>\n",
       "      <td>0.0</td>\n",
       "      <td>...</td>\n",
       "      <td>0.363436</td>\n",
       "      <td>0.598692</td>\n",
       "      <td>0.000079</td>\n",
       "      <td>0.004464</td>\n",
       "      <td>0.010121</td>\n",
       "      <td>0.006154</td>\n",
       "      <td>0.022059</td>\n",
       "      <td>0.000000</td>\n",
       "      <td>0.003165</td>\n",
       "      <td>0.003125</td>\n",
       "    </tr>\n",
       "    <tr>\n",
       "      <th>3</th>\n",
       "      <td>0.025503</td>\n",
       "      <td>0.704663</td>\n",
       "      <td>0.333333</td>\n",
       "      <td>1.0</td>\n",
       "      <td>0.0</td>\n",
       "      <td>0.0</td>\n",
       "      <td>0.0</td>\n",
       "      <td>0.0</td>\n",
       "      <td>1.0</td>\n",
       "      <td>0.0</td>\n",
       "      <td>...</td>\n",
       "      <td>0.508811</td>\n",
       "      <td>0.909050</td>\n",
       "      <td>0.000931</td>\n",
       "      <td>0.028274</td>\n",
       "      <td>0.010121</td>\n",
       "      <td>0.000000</td>\n",
       "      <td>0.007353</td>\n",
       "      <td>0.011834</td>\n",
       "      <td>0.018987</td>\n",
       "      <td>0.023438</td>\n",
       "    </tr>\n",
       "    <tr>\n",
       "      <th>4</th>\n",
       "      <td>0.100671</td>\n",
       "      <td>0.730570</td>\n",
       "      <td>0.333333</td>\n",
       "      <td>1.0</td>\n",
       "      <td>0.0</td>\n",
       "      <td>0.0</td>\n",
       "      <td>1.0</td>\n",
       "      <td>1.0</td>\n",
       "      <td>0.0</td>\n",
       "      <td>0.0</td>\n",
       "      <td>...</td>\n",
       "      <td>0.593778</td>\n",
       "      <td>0.906064</td>\n",
       "      <td>0.006413</td>\n",
       "      <td>0.101190</td>\n",
       "      <td>0.024291</td>\n",
       "      <td>0.009231</td>\n",
       "      <td>0.007353</td>\n",
       "      <td>0.023669</td>\n",
       "      <td>0.025316</td>\n",
       "      <td>0.100000</td>\n",
       "    </tr>\n",
       "  </tbody>\n",
       "</table>\n",
       "<p>5 rows × 158 columns</p>\n",
       "</div>"
      ],
      "text/plain": [
       "   review_count  adjusted_stars     price  is_open  caters  goodforkids  \\\n",
       "0      0.001342        0.670984  0.000000      1.0     0.0          0.0   \n",
       "1      0.004027        0.678756  0.000000      1.0     0.0          1.0   \n",
       "2      0.004027        0.544041  0.000000      0.0     0.0          0.0   \n",
       "3      0.025503        0.704663  0.333333      1.0     0.0          0.0   \n",
       "4      0.100671        0.730570  0.333333      1.0     0.0          0.0   \n",
       "\n",
       "   alcohol  goodforgroups  tableservice  drivethru  ...       pos  compound  \\\n",
       "0      0.0            0.0           0.0        0.0  ...  0.535683  0.953855   \n",
       "1      0.0            0.0           0.0        0.0  ...  0.453430  0.806740   \n",
       "2      1.0            0.0           0.0        0.0  ...  0.363436  0.598692   \n",
       "3      0.0            0.0           1.0        0.0  ...  0.508811  0.909050   \n",
       "4      1.0            1.0           0.0        0.0  ...  0.593778  0.906064   \n",
       "\n",
       "    revenue  pos_review  neg_review  stars_1.0  stars_2.0  stars_3.0  \\\n",
       "0  0.000066    0.005952    0.002024   0.000000   0.007353   0.000000   \n",
       "1  0.000157    0.008929    0.002024   0.000000   0.000000   0.005917   \n",
       "2  0.000079    0.004464    0.010121   0.006154   0.022059   0.000000   \n",
       "3  0.000931    0.028274    0.010121   0.000000   0.007353   0.011834   \n",
       "4  0.006413    0.101190    0.024291   0.009231   0.007353   0.023669   \n",
       "\n",
       "   stars_4.0  stars_5.0  \n",
       "0   0.000000   0.006250  \n",
       "1   0.006329   0.006250  \n",
       "2   0.003165   0.003125  \n",
       "3   0.018987   0.023438  \n",
       "4   0.025316   0.100000  \n",
       "\n",
       "[5 rows x 158 columns]"
      ]
     },
     "execution_count": 5,
     "metadata": {},
     "output_type": "execute_result"
    }
   ],
   "source": [
    "data_df.head()"
   ]
  },
  {
   "cell_type": "markdown",
   "metadata": {},
   "source": [
    "# Applying Machine Learning\n",
    "In this machine learning part of the project, I'll be utilizing four different machine learning algorithms in solving classification problem:\n",
    "\n",
    "1. **Random Forest** (Bagging)\n",
    "2. **AdaBoost** (use of increasing the weight of misclassified data points)\n",
    "3. **Gradient Boosting** (learning previous mistakes with residual error)\n",
    "\n",
    "Based on the result from those three machine learning algorithms, I'll be determining best machine learning algorithm based on accurarcy and computational time."
   ]
  },
  {
   "cell_type": "markdown",
   "metadata": {},
   "source": [
    "## Random Forest (Bagging Approach)\n",
    "My focus is to prevent or minimizing overfitting or having high false positives in the result; therefore, random forest is chosen since it minimizes overfitting and handles large dataset with high dimensionality."
   ]
  },
  {
   "cell_type": "markdown",
   "metadata": {},
   "source": [
    "#### Default approach without hyperparameter tuning\n",
    "I wanted to see baseline result with 100 decision trees created and evaluated through random forest algorithm"
   ]
  },
  {
   "cell_type": "code",
   "execution_count": 6,
   "metadata": {},
   "outputs": [],
   "source": [
    "# Create X (features) and y (response)\n",
    "X = data_df[data_df.columns[data_df.columns != \"is_open\"]]\n",
    "y = data_df[data_df.columns[data_df.columns == \"is_open\"]]\n",
    "\n",
    "# Use train/test split with different random_state values - spliting into for pieces\n",
    "X_train, X_test, y_train, y_test = train_test_split(X, y, test_size=0.3, random_state=42)"
   ]
  },
  {
   "cell_type": "code",
   "execution_count": 7,
   "metadata": {},
   "outputs": [
    {
     "name": "stdout",
     "output_type": "stream",
     "text": [
      "CPU times: user 5.46 s, sys: 44.2 ms, total: 5.51 s\n",
      "Wall time: 5.51 s\n"
     ]
    }
   ],
   "source": [
    "%%time\n",
    "\n",
    "# Instantiate Random Forest Classifier and train the data\n",
    "rf = RandomForestClassifier(n_estimators=100, max_features='auto', random_state=42)\n",
    "rf.fit(X_train, y_train)\n",
    "\n",
    "y_pred = rf.predict(X_test)"
   ]
  },
  {
   "cell_type": "code",
   "execution_count": 8,
   "metadata": {},
   "outputs": [
    {
     "data": {
      "text/plain": [
       "0.7931034482758621"
      ]
     },
     "execution_count": 8,
     "metadata": {},
     "output_type": "execute_result"
    }
   ],
   "source": [
    "metrics.accuracy_score(y_test, y_pred)"
   ]
  },
  {
   "cell_type": "markdown",
   "metadata": {},
   "source": [
    "Random forest algorithm took **5.26 s** in creating and evaluating 100 decision trees with **79%** accuracy without hyperparameter tuning"
   ]
  },
  {
   "cell_type": "markdown",
   "metadata": {},
   "source": [
    "#### Confusion Matrix\n",
    "Populating confusion matrix to identify type 1 and type 2 errors"
   ]
  },
  {
   "cell_type": "code",
   "execution_count": 9,
   "metadata": {},
   "outputs": [
    {
     "data": {
      "text/html": [
       "<div>\n",
       "<style scoped>\n",
       "    .dataframe tbody tr th:only-of-type {\n",
       "        vertical-align: middle;\n",
       "    }\n",
       "\n",
       "    .dataframe tbody tr th {\n",
       "        vertical-align: top;\n",
       "    }\n",
       "\n",
       "    .dataframe thead th {\n",
       "        text-align: right;\n",
       "    }\n",
       "</style>\n",
       "<table border=\"1\" class=\"dataframe\">\n",
       "  <thead>\n",
       "    <tr style=\"text-align: right;\">\n",
       "      <th>Predicted Business Status</th>\n",
       "      <th>0.0</th>\n",
       "      <th>1.0</th>\n",
       "    </tr>\n",
       "    <tr>\n",
       "      <th>Actual Business Status</th>\n",
       "      <th></th>\n",
       "      <th></th>\n",
       "    </tr>\n",
       "  </thead>\n",
       "  <tbody>\n",
       "    <tr>\n",
       "      <th>0.0</th>\n",
       "      <td>2384</td>\n",
       "      <td>1756</td>\n",
       "    </tr>\n",
       "    <tr>\n",
       "      <th>1.0</th>\n",
       "      <td>656</td>\n",
       "      <td>6862</td>\n",
       "    </tr>\n",
       "  </tbody>\n",
       "</table>\n",
       "</div>"
      ],
      "text/plain": [
       "Predicted Business Status   0.0   1.0\n",
       "Actual Business Status               \n",
       "0.0                        2384  1756\n",
       "1.0                         656  6862"
      ]
     },
     "execution_count": 9,
     "metadata": {},
     "output_type": "execute_result"
    }
   ],
   "source": [
    "# Creating confusion matrix dataframe\n",
    "pd.crosstab(y_test['is_open'], y_pred, rownames=['Actual Business Status'], colnames=['Predicted Business Status'])"
   ]
  },
  {
   "cell_type": "markdown",
   "metadata": {},
   "source": [
    "#### Initial Precision and Recall\n",
    "Identify initial sensitivity and specificity values\n",
    "- recall: all we predicted correctly / all we predicted, correctly or wrongly\n",
    "- precision: all we predicted correctly / all we should have predicted"
   ]
  },
  {
   "cell_type": "code",
   "execution_count": 10,
   "metadata": {},
   "outputs": [
    {
     "name": "stdout",
     "output_type": "stream",
     "text": [
      "              precision    recall  f1-score   support\n",
      "\n",
      "         0.0       0.78      0.58      0.66      4140\n",
      "         1.0       0.80      0.91      0.85      7518\n",
      "\n",
      "    accuracy                           0.79     11658\n",
      "   macro avg       0.79      0.74      0.76     11658\n",
      "weighted avg       0.79      0.79      0.78     11658\n",
      "\n"
     ]
    }
   ],
   "source": [
    "print(metrics.classification_report(y_test, y_pred))"
   ]
  },
  {
   "cell_type": "markdown",
   "metadata": {},
   "source": [
    "According to initial confusion matrix report, random forest classifier is better at identifying open restaurants compared to close businesses. **42% being false positive** and **8% being false negative**. Since this capstone project is about whether to lend money to the restaurant or whether aspiring restauranteur should open a restaurant. I need to adjust machine learning algorithm to focus on reducing false positives because we don't want to lend or invest in business that will eventually close."
   ]
  },
  {
   "cell_type": "markdown",
   "metadata": {},
   "source": [
    "### Selecting the best tuning parameters (aka 'hyperparameters') for Random Forest \n",
    "Below are the parameters I'll be tuning using random search cv."
   ]
  },
  {
   "cell_type": "code",
   "execution_count": 11,
   "metadata": {},
   "outputs": [
    {
     "data": {
      "text/plain": [
       "{'bootstrap': True,\n",
       " 'ccp_alpha': 0.0,\n",
       " 'class_weight': None,\n",
       " 'criterion': 'gini',\n",
       " 'max_depth': None,\n",
       " 'max_features': 'auto',\n",
       " 'max_leaf_nodes': None,\n",
       " 'max_samples': None,\n",
       " 'min_impurity_decrease': 0.0,\n",
       " 'min_impurity_split': None,\n",
       " 'min_samples_leaf': 1,\n",
       " 'min_samples_split': 2,\n",
       " 'min_weight_fraction_leaf': 0.0,\n",
       " 'n_estimators': 100,\n",
       " 'n_jobs': None,\n",
       " 'oob_score': False,\n",
       " 'random_state': 42,\n",
       " 'verbose': 0,\n",
       " 'warm_start': False}"
      ]
     },
     "execution_count": 11,
     "metadata": {},
     "output_type": "execute_result"
    }
   ],
   "source": [
    "rf.get_params()"
   ]
  },
  {
   "cell_type": "markdown",
   "metadata": {},
   "source": [
    "- n_estimators = number of trees in the forest\n",
    "- max_features = max number of features considered for splitting a node\n",
    "- max_depth = max number of levels in each decision tree\n",
    "- min_samples_split = min number of data points placed in a node before the node is split\n",
    "- min_samples_leaf = min number of data points allowed in a leaf node\n",
    "- bootstrap = method for sampling data points (with or without replacement)"
   ]
  },
  {
   "cell_type": "code",
   "execution_count": 12,
   "metadata": {},
   "outputs": [],
   "source": [
    "# Parameters to be used for random search cv\n",
    "param_grid = {'bootstrap': [True, False],\n",
    " 'max_depth': [10, 20, 30, 40, 50, 60, 70, 80, 90, 100, None],\n",
    " 'max_features': ['auto', 'sqrt', 'log2'],\n",
    " 'min_samples_leaf': [1, 2, 4],\n",
    " 'min_samples_split': [2, 5, 10],\n",
    " 'n_estimators': [200, 400, 600, 800, 1000, 1200, 1400, 1600, 1800, 2000],\n",
    " 'criterion': ['gini', 'entropy']}"
   ]
  },
  {
   "cell_type": "code",
   "execution_count": 65,
   "metadata": {},
   "outputs": [
    {
     "name": "stdout",
     "output_type": "stream",
     "text": [
      "Fitting 3 folds for each of 100 candidates, totalling 300 fits\n"
     ]
    },
    {
     "name": "stderr",
     "output_type": "stream",
     "text": [
      "[Parallel(n_jobs=-1)]: Using backend LokyBackend with 16 concurrent workers.\n",
      "[Parallel(n_jobs=-1)]: Done   9 tasks      | elapsed:   19.4s\n",
      "[Parallel(n_jobs=-1)]: Done 130 tasks      | elapsed: 18.7min\n",
      "[Parallel(n_jobs=-1)]: Done 300 out of 300 | elapsed: 43.5min finished\n"
     ]
    },
    {
     "data": {
      "text/plain": [
       "RandomizedSearchCV(cv=3, estimator=RandomForestClassifier(), n_iter=100,\n",
       "                   n_jobs=-1,\n",
       "                   param_distributions={'bootstrap': [True, False],\n",
       "                                        'criterion': ['gini', 'entropy'],\n",
       "                                        'max_depth': [10, 20, 30, 40, 50, 60,\n",
       "                                                      70, 80, 90, 100, None],\n",
       "                                        'max_features': ['auto', 'sqrt',\n",
       "                                                         'log2'],\n",
       "                                        'min_samples_leaf': [1, 2, 4],\n",
       "                                        'min_samples_split': [2, 5, 10],\n",
       "                                        'n_estimators': [200, 400, 600, 800,\n",
       "                                                         1000, 1200, 1400, 1600,\n",
       "                                                         1800, 2000]},\n",
       "                   random_state=42, verbose=2)"
      ]
     },
     "execution_count": 65,
     "metadata": {},
     "output_type": "execute_result"
    }
   ],
   "source": [
    "# Instantiate Random Forest Classifier for tuning\n",
    "rf = RandomForestClassifier()\n",
    "\n",
    "# Search across 100 different combinations using all available cores with 3 fold cross validation\n",
    "random_rf = RandomizedSearchCV(estimator=rf, param_distributions=param_grid, n_iter=100, cv=3, verbose=2, random_state=42, n_jobs=-1)\n",
    "\n",
    "# Fit the random search model\n",
    "random_rf.fit(X_train, y_train)"
   ]
  },
  {
   "cell_type": "code",
   "execution_count": 66,
   "metadata": {},
   "outputs": [
    {
     "data": {
      "text/plain": [
       "{'n_estimators': 1800,\n",
       " 'min_samples_split': 2,\n",
       " 'min_samples_leaf': 1,\n",
       " 'max_features': 'auto',\n",
       " 'max_depth': 50,\n",
       " 'criterion': 'entropy',\n",
       " 'bootstrap': False}"
      ]
     },
     "execution_count": 66,
     "metadata": {},
     "output_type": "execute_result"
    }
   ],
   "source": [
    "random_rf.best_params_"
   ]
  },
  {
   "cell_type": "code",
   "execution_count": 67,
   "metadata": {},
   "outputs": [
    {
     "data": {
      "text/plain": [
       "RandomForestClassifier(bootstrap=False, criterion='entropy', max_depth=50,\n",
       "                       n_estimators=1800)"
      ]
     },
     "execution_count": 67,
     "metadata": {},
     "output_type": "execute_result"
    }
   ],
   "source": [
    "# Seeing random forest classifier\n",
    "random_rf.best_estimator_"
   ]
  },
  {
   "cell_type": "code",
   "execution_count": 85,
   "metadata": {},
   "outputs": [
    {
     "name": "stdout",
     "output_type": "stream",
     "text": [
      "Train accuracy: 1.0\n",
      "Test accuracy: 0.8011665808886601\n",
      "CPU times: user 2min 51s, sys: 960 ms, total: 2min 52s\n",
      "Wall time: 2min 52s\n"
     ]
    }
   ],
   "source": [
    "%%time\n",
    "\n",
    "rf = random_rf.best_estimator_\n",
    "\n",
    "rf.fit(X_train,y_train)\n",
    "\n",
    "# Predict\n",
    "train_preds = rf.predict(X_train)\n",
    "test_preds = rf.predict(X_test)\n",
    "\n",
    "# Get accuracy score for both train and test sets\n",
    "print('Train accuracy:', metrics.accuracy_score(y_train, train_preds))\n",
    "print('Test accuracy:', metrics.accuracy_score(y_test, test_preds))"
   ]
  },
  {
   "cell_type": "markdown",
   "metadata": {},
   "source": [
    "### Save Random Forest model"
   ]
  },
  {
   "cell_type": "code",
   "execution_count": 86,
   "metadata": {},
   "outputs": [],
   "source": [
    "filename = \"./dataset/random_forest_model.pkl\"  \n",
    "\n",
    "with open(filename, 'wb') as file:  \n",
    "    pickle.dump(rf, file)"
   ]
  },
  {
   "cell_type": "code",
   "execution_count": 80,
   "metadata": {},
   "outputs": [
    {
     "data": {
      "text/html": [
       "<div>\n",
       "<style scoped>\n",
       "    .dataframe tbody tr th:only-of-type {\n",
       "        vertical-align: middle;\n",
       "    }\n",
       "\n",
       "    .dataframe tbody tr th {\n",
       "        vertical-align: top;\n",
       "    }\n",
       "\n",
       "    .dataframe thead th {\n",
       "        text-align: right;\n",
       "    }\n",
       "</style>\n",
       "<table border=\"1\" class=\"dataframe\">\n",
       "  <thead>\n",
       "    <tr style=\"text-align: right;\">\n",
       "      <th></th>\n",
       "      <th>tableservice</th>\n",
       "      <th>goodforgroups</th>\n",
       "      <th>goodforkids</th>\n",
       "      <th>review_count</th>\n",
       "      <th>neu</th>\n",
       "      <th>180_days_review_count</th>\n",
       "      <th>90_days_review_count</th>\n",
       "      <th>classy</th>\n",
       "      <th>casual</th>\n",
       "      <th>stars_2.0</th>\n",
       "      <th>...</th>\n",
       "      <th>price</th>\n",
       "      <th>pos</th>\n",
       "      <th>neg</th>\n",
       "      <th>30_days_review_count</th>\n",
       "      <th>adjusted_stars</th>\n",
       "      <th>compound</th>\n",
       "      <th>stars_5.0</th>\n",
       "      <th>revenue</th>\n",
       "      <th>lifespan</th>\n",
       "      <th>is_open</th>\n",
       "    </tr>\n",
       "  </thead>\n",
       "  <tbody>\n",
       "    <tr>\n",
       "      <th>0</th>\n",
       "      <td>0.0</td>\n",
       "      <td>0.0</td>\n",
       "      <td>0.0</td>\n",
       "      <td>0.001342</td>\n",
       "      <td>0.421092</td>\n",
       "      <td>0.00</td>\n",
       "      <td>0.00</td>\n",
       "      <td>0.0</td>\n",
       "      <td>0.0</td>\n",
       "      <td>0.007353</td>\n",
       "      <td>...</td>\n",
       "      <td>0.000000</td>\n",
       "      <td>0.535683</td>\n",
       "      <td>0.091181</td>\n",
       "      <td>0.00</td>\n",
       "      <td>0.670984</td>\n",
       "      <td>0.953855</td>\n",
       "      <td>0.006250</td>\n",
       "      <td>0.000066</td>\n",
       "      <td>0.400396</td>\n",
       "      <td>1.0</td>\n",
       "    </tr>\n",
       "    <tr>\n",
       "      <th>1</th>\n",
       "      <td>0.0</td>\n",
       "      <td>0.0</td>\n",
       "      <td>1.0</td>\n",
       "      <td>0.004027</td>\n",
       "      <td>0.478019</td>\n",
       "      <td>0.00</td>\n",
       "      <td>0.00</td>\n",
       "      <td>0.0</td>\n",
       "      <td>0.0</td>\n",
       "      <td>0.000000</td>\n",
       "      <td>...</td>\n",
       "      <td>0.000000</td>\n",
       "      <td>0.453430</td>\n",
       "      <td>0.131860</td>\n",
       "      <td>0.00</td>\n",
       "      <td>0.678756</td>\n",
       "      <td>0.806740</td>\n",
       "      <td>0.006250</td>\n",
       "      <td>0.000157</td>\n",
       "      <td>0.415567</td>\n",
       "      <td>1.0</td>\n",
       "    </tr>\n",
       "    <tr>\n",
       "      <th>2</th>\n",
       "      <td>0.0</td>\n",
       "      <td>0.0</td>\n",
       "      <td>0.0</td>\n",
       "      <td>0.004027</td>\n",
       "      <td>0.397783</td>\n",
       "      <td>0.02</td>\n",
       "      <td>0.00</td>\n",
       "      <td>0.0</td>\n",
       "      <td>0.0</td>\n",
       "      <td>0.022059</td>\n",
       "      <td>...</td>\n",
       "      <td>0.000000</td>\n",
       "      <td>0.363436</td>\n",
       "      <td>0.424608</td>\n",
       "      <td>0.02</td>\n",
       "      <td>0.544041</td>\n",
       "      <td>0.598692</td>\n",
       "      <td>0.003125</td>\n",
       "      <td>0.000079</td>\n",
       "      <td>0.038918</td>\n",
       "      <td>0.0</td>\n",
       "    </tr>\n",
       "    <tr>\n",
       "      <th>3</th>\n",
       "      <td>1.0</td>\n",
       "      <td>0.0</td>\n",
       "      <td>0.0</td>\n",
       "      <td>0.025503</td>\n",
       "      <td>0.443573</td>\n",
       "      <td>0.05</td>\n",
       "      <td>0.10</td>\n",
       "      <td>0.0</td>\n",
       "      <td>0.0</td>\n",
       "      <td>0.007353</td>\n",
       "      <td>...</td>\n",
       "      <td>0.333333</td>\n",
       "      <td>0.508811</td>\n",
       "      <td>0.097783</td>\n",
       "      <td>0.03</td>\n",
       "      <td>0.704663</td>\n",
       "      <td>0.909050</td>\n",
       "      <td>0.023438</td>\n",
       "      <td>0.000931</td>\n",
       "      <td>0.024406</td>\n",
       "      <td>1.0</td>\n",
       "    </tr>\n",
       "    <tr>\n",
       "      <th>4</th>\n",
       "      <td>0.0</td>\n",
       "      <td>1.0</td>\n",
       "      <td>0.0</td>\n",
       "      <td>0.100671</td>\n",
       "      <td>0.365738</td>\n",
       "      <td>0.04</td>\n",
       "      <td>0.03</td>\n",
       "      <td>0.0</td>\n",
       "      <td>1.0</td>\n",
       "      <td>0.007353</td>\n",
       "      <td>...</td>\n",
       "      <td>0.333333</td>\n",
       "      <td>0.593778</td>\n",
       "      <td>0.088238</td>\n",
       "      <td>0.01</td>\n",
       "      <td>0.730570</td>\n",
       "      <td>0.906064</td>\n",
       "      <td>0.100000</td>\n",
       "      <td>0.006413</td>\n",
       "      <td>0.091029</td>\n",
       "      <td>1.0</td>\n",
       "    </tr>\n",
       "    <tr>\n",
       "      <th>...</th>\n",
       "      <td>...</td>\n",
       "      <td>...</td>\n",
       "      <td>...</td>\n",
       "      <td>...</td>\n",
       "      <td>...</td>\n",
       "      <td>...</td>\n",
       "      <td>...</td>\n",
       "      <td>...</td>\n",
       "      <td>...</td>\n",
       "      <td>...</td>\n",
       "      <td>...</td>\n",
       "      <td>...</td>\n",
       "      <td>...</td>\n",
       "      <td>...</td>\n",
       "      <td>...</td>\n",
       "      <td>...</td>\n",
       "      <td>...</td>\n",
       "      <td>...</td>\n",
       "      <td>...</td>\n",
       "      <td>...</td>\n",
       "      <td>...</td>\n",
       "    </tr>\n",
       "    <tr>\n",
       "      <th>39819</th>\n",
       "      <td>0.0</td>\n",
       "      <td>1.0</td>\n",
       "      <td>0.0</td>\n",
       "      <td>0.006711</td>\n",
       "      <td>0.488913</td>\n",
       "      <td>0.00</td>\n",
       "      <td>0.00</td>\n",
       "      <td>0.0</td>\n",
       "      <td>0.0</td>\n",
       "      <td>0.007353</td>\n",
       "      <td>...</td>\n",
       "      <td>1.000000</td>\n",
       "      <td>0.310022</td>\n",
       "      <td>0.356876</td>\n",
       "      <td>0.00</td>\n",
       "      <td>0.443005</td>\n",
       "      <td>0.497336</td>\n",
       "      <td>0.000000</td>\n",
       "      <td>0.000695</td>\n",
       "      <td>0.457124</td>\n",
       "      <td>0.0</td>\n",
       "    </tr>\n",
       "    <tr>\n",
       "      <th>39820</th>\n",
       "      <td>1.0</td>\n",
       "      <td>1.0</td>\n",
       "      <td>1.0</td>\n",
       "      <td>0.303356</td>\n",
       "      <td>0.426165</td>\n",
       "      <td>0.01</td>\n",
       "      <td>0.06</td>\n",
       "      <td>0.0</td>\n",
       "      <td>1.0</td>\n",
       "      <td>0.058824</td>\n",
       "      <td>...</td>\n",
       "      <td>0.000000</td>\n",
       "      <td>0.506767</td>\n",
       "      <td>0.131571</td>\n",
       "      <td>0.03</td>\n",
       "      <td>0.743523</td>\n",
       "      <td>0.851346</td>\n",
       "      <td>0.198437</td>\n",
       "      <td>0.008538</td>\n",
       "      <td>0.746702</td>\n",
       "      <td>1.0</td>\n",
       "    </tr>\n",
       "    <tr>\n",
       "      <th>39821</th>\n",
       "      <td>0.0</td>\n",
       "      <td>1.0</td>\n",
       "      <td>1.0</td>\n",
       "      <td>0.022819</td>\n",
       "      <td>0.553665</td>\n",
       "      <td>0.01</td>\n",
       "      <td>0.00</td>\n",
       "      <td>0.0</td>\n",
       "      <td>1.0</td>\n",
       "      <td>0.022059</td>\n",
       "      <td>...</td>\n",
       "      <td>0.000000</td>\n",
       "      <td>0.295655</td>\n",
       "      <td>0.269738</td>\n",
       "      <td>0.00</td>\n",
       "      <td>0.437824</td>\n",
       "      <td>0.640372</td>\n",
       "      <td>0.001563</td>\n",
       "      <td>0.000341</td>\n",
       "      <td>0.711082</td>\n",
       "      <td>1.0</td>\n",
       "    </tr>\n",
       "    <tr>\n",
       "      <th>39822</th>\n",
       "      <td>1.0</td>\n",
       "      <td>1.0</td>\n",
       "      <td>0.0</td>\n",
       "      <td>0.122148</td>\n",
       "      <td>0.412800</td>\n",
       "      <td>0.08</td>\n",
       "      <td>0.04</td>\n",
       "      <td>0.0</td>\n",
       "      <td>0.0</td>\n",
       "      <td>0.088235</td>\n",
       "      <td>...</td>\n",
       "      <td>0.333333</td>\n",
       "      <td>0.531041</td>\n",
       "      <td>0.113417</td>\n",
       "      <td>0.00</td>\n",
       "      <td>0.733161</td>\n",
       "      <td>0.912972</td>\n",
       "      <td>0.081250</td>\n",
       "      <td>0.005049</td>\n",
       "      <td>0.091029</td>\n",
       "      <td>0.0</td>\n",
       "    </tr>\n",
       "    <tr>\n",
       "      <th>39823</th>\n",
       "      <td>0.0</td>\n",
       "      <td>1.0</td>\n",
       "      <td>1.0</td>\n",
       "      <td>0.001342</td>\n",
       "      <td>0.386047</td>\n",
       "      <td>0.00</td>\n",
       "      <td>0.00</td>\n",
       "      <td>0.0</td>\n",
       "      <td>0.0</td>\n",
       "      <td>0.000000</td>\n",
       "      <td>...</td>\n",
       "      <td>0.333333</td>\n",
       "      <td>0.567401</td>\n",
       "      <td>0.098655</td>\n",
       "      <td>0.00</td>\n",
       "      <td>0.670984</td>\n",
       "      <td>0.981578</td>\n",
       "      <td>0.003125</td>\n",
       "      <td>0.000249</td>\n",
       "      <td>0.177441</td>\n",
       "      <td>0.0</td>\n",
       "    </tr>\n",
       "  </tbody>\n",
       "</table>\n",
       "<p>38858 rows × 21 columns</p>\n",
       "</div>"
      ],
      "text/plain": [
       "       tableservice  goodforgroups  goodforkids  review_count       neu  \\\n",
       "0               0.0            0.0          0.0      0.001342  0.421092   \n",
       "1               0.0            0.0          1.0      0.004027  0.478019   \n",
       "2               0.0            0.0          0.0      0.004027  0.397783   \n",
       "3               1.0            0.0          0.0      0.025503  0.443573   \n",
       "4               0.0            1.0          0.0      0.100671  0.365738   \n",
       "...             ...            ...          ...           ...       ...   \n",
       "39819           0.0            1.0          0.0      0.006711  0.488913   \n",
       "39820           1.0            1.0          1.0      0.303356  0.426165   \n",
       "39821           0.0            1.0          1.0      0.022819  0.553665   \n",
       "39822           1.0            1.0          0.0      0.122148  0.412800   \n",
       "39823           0.0            1.0          1.0      0.001342  0.386047   \n",
       "\n",
       "       180_days_review_count  90_days_review_count  classy  casual  stars_2.0  \\\n",
       "0                       0.00                  0.00     0.0     0.0   0.007353   \n",
       "1                       0.00                  0.00     0.0     0.0   0.000000   \n",
       "2                       0.02                  0.00     0.0     0.0   0.022059   \n",
       "3                       0.05                  0.10     0.0     0.0   0.007353   \n",
       "4                       0.04                  0.03     0.0     1.0   0.007353   \n",
       "...                      ...                   ...     ...     ...        ...   \n",
       "39819                   0.00                  0.00     0.0     0.0   0.007353   \n",
       "39820                   0.01                  0.06     0.0     1.0   0.058824   \n",
       "39821                   0.01                  0.00     0.0     1.0   0.022059   \n",
       "39822                   0.08                  0.04     0.0     0.0   0.088235   \n",
       "39823                   0.00                  0.00     0.0     0.0   0.000000   \n",
       "\n",
       "       ...     price       pos       neg  30_days_review_count  \\\n",
       "0      ...  0.000000  0.535683  0.091181                  0.00   \n",
       "1      ...  0.000000  0.453430  0.131860                  0.00   \n",
       "2      ...  0.000000  0.363436  0.424608                  0.02   \n",
       "3      ...  0.333333  0.508811  0.097783                  0.03   \n",
       "4      ...  0.333333  0.593778  0.088238                  0.01   \n",
       "...    ...       ...       ...       ...                   ...   \n",
       "39819  ...  1.000000  0.310022  0.356876                  0.00   \n",
       "39820  ...  0.000000  0.506767  0.131571                  0.03   \n",
       "39821  ...  0.000000  0.295655  0.269738                  0.00   \n",
       "39822  ...  0.333333  0.531041  0.113417                  0.00   \n",
       "39823  ...  0.333333  0.567401  0.098655                  0.00   \n",
       "\n",
       "       adjusted_stars  compound  stars_5.0   revenue  lifespan  is_open  \n",
       "0            0.670984  0.953855   0.006250  0.000066  0.400396      1.0  \n",
       "1            0.678756  0.806740   0.006250  0.000157  0.415567      1.0  \n",
       "2            0.544041  0.598692   0.003125  0.000079  0.038918      0.0  \n",
       "3            0.704663  0.909050   0.023438  0.000931  0.024406      1.0  \n",
       "4            0.730570  0.906064   0.100000  0.006413  0.091029      1.0  \n",
       "...               ...       ...        ...       ...       ...      ...  \n",
       "39819        0.443005  0.497336   0.000000  0.000695  0.457124      0.0  \n",
       "39820        0.743523  0.851346   0.198437  0.008538  0.746702      1.0  \n",
       "39821        0.437824  0.640372   0.001563  0.000341  0.711082      1.0  \n",
       "39822        0.733161  0.912972   0.081250  0.005049  0.091029      0.0  \n",
       "39823        0.670984  0.981578   0.003125  0.000249  0.177441      0.0  \n",
       "\n",
       "[38858 rows x 21 columns]"
      ]
     },
     "execution_count": 80,
     "metadata": {},
     "output_type": "execute_result"
    }
   ],
   "source": [
    "feats = feat_importances.nlargest(20).sort_values(ascending=True).keys().tolist()\n",
    "feats.append('is_open')\n",
    "\n",
    "test_df = data_df[feats]\n",
    "test_df"
   ]
  },
  {
   "cell_type": "code",
   "execution_count": 81,
   "metadata": {},
   "outputs": [],
   "source": [
    "# Create X (features) and y (response)\n",
    "X = test_df[test_df.columns[test_df.columns != \"is_open\"]]\n",
    "y = test_df[test_df.columns[test_df.columns == \"is_open\"]]\n",
    "\n",
    "# Use train/test split with different random_state values - spliting into for pieces\n",
    "X_train, X_test, y_train, y_test = train_test_split(X, y, test_size=0.3, random_state=42)"
   ]
  },
  {
   "cell_type": "code",
   "execution_count": 82,
   "metadata": {},
   "outputs": [
    {
     "name": "stdout",
     "output_type": "stream",
     "text": [
      "Train accuracy: 1.0\n",
      "Test accuracy: 0.7785211871676102\n",
      "CPU times: user 2min 22s, sys: 642 ms, total: 2min 23s\n",
      "Wall time: 2min 23s\n"
     ]
    }
   ],
   "source": [
    "%%time\n",
    "\n",
    "rf = random_rf.best_estimator_\n",
    "\n",
    "rf.fit(X_train,y_train)\n",
    "\n",
    "# Predict\n",
    "train_preds = rf.predict(X_train)\n",
    "test_preds = rf.predict(X_test)\n",
    "\n",
    "# Get accuracy score for both train and test sets\n",
    "print('Train accuracy:', metrics.accuracy_score(y_train, train_preds))\n",
    "print('Test accuracy:', metrics.accuracy_score(y_test, test_preds))"
   ]
  },
  {
   "cell_type": "markdown",
   "metadata": {},
   "source": [
    "## OVERFITTING for RANDOM FOREST"
   ]
  },
  {
   "cell_type": "markdown",
   "metadata": {},
   "source": [
    "## Understanding feature importance (Gini)"
   ]
  },
  {
   "cell_type": "code",
   "execution_count": 13,
   "metadata": {},
   "outputs": [
    {
     "data": {
      "image/png": "[encoded data removed]",
      "text/plain": [
       "<Figure size 432x288 with 1 Axes>"
      ]
     },
     "metadata": {
      "needs_background": "light"
     },
     "output_type": "display_data"
    }
   ],
   "source": [
    "feat_importances = pd.Series(rf.feature_importances_, index=X_train.columns)\n",
    "feat_importances = feat_importances.nlargest(20).sort_values(ascending=True)\n",
    "feat_importances.plot(kind='barh');"
   ]
  },
  {
   "cell_type": "markdown",
   "metadata": {},
   "source": [
    "## AdaBoost\n",
    "Tested with AdaBoost algorithm to inspect how well it performs when we focus on what the model misclassifies through **sampling distribution**."
   ]
  },
  {
   "cell_type": "markdown",
   "metadata": {},
   "source": [
    "#### Default approach without hyperparameter tuning\n",
    "Inspecting baseline when AdaBoost is used without tuning with the exception n_estimators (how many stumps we like to create)."
   ]
  },
  {
   "cell_type": "code",
   "execution_count": 14,
   "metadata": {},
   "outputs": [
    {
     "name": "stdout",
     "output_type": "stream",
     "text": [
      "CPU times: user 5.49 s, sys: 176 ms, total: 5.67 s\n",
      "Wall time: 5.67 s\n"
     ]
    }
   ],
   "source": [
    "%%time\n",
    "\n",
    "ada_clf = AdaBoostClassifier(n_estimators=100)\n",
    "ada_clf.fit(X_train, y_train)\n",
    "\n",
    "y_pred = ada_clf.predict(X_test)"
   ]
  },
  {
   "cell_type": "code",
   "execution_count": 15,
   "metadata": {},
   "outputs": [
    {
     "data": {
      "text/plain": [
       "0.7635958140332819"
      ]
     },
     "execution_count": 15,
     "metadata": {},
     "output_type": "execute_result"
    }
   ],
   "source": [
    "metrics.accuracy_score(y_test, y_pred)"
   ]
  },
  {
   "cell_type": "markdown",
   "metadata": {},
   "source": [
    "AdaBoost algorithm took **5.45 s** in creating and evaluating 100 decision trees with **76%** accuracy without hyperparameter tuning."
   ]
  },
  {
   "cell_type": "code",
   "execution_count": 55,
   "metadata": {},
   "outputs": [
    {
     "name": "stdout",
     "output_type": "stream",
     "text": [
      "              precision    recall  f1-score   support\n",
      "\n",
      "         0.0       0.76      0.57      0.65      4140\n",
      "         1.0       0.79      0.90      0.84      7518\n",
      "\n",
      "    accuracy                           0.78     11658\n",
      "   macro avg       0.78      0.73      0.75     11658\n",
      "weighted avg       0.78      0.78      0.77     11658\n",
      "\n"
     ]
    }
   ],
   "source": [
    "print(metrics.classification_report(y_test, y_pred))"
   ]
  },
  {
   "cell_type": "code",
   "execution_count": 17,
   "metadata": {},
   "outputs": [
    {
     "data": {
      "text/html": [
       "<div>\n",
       "<style scoped>\n",
       "    .dataframe tbody tr th:only-of-type {\n",
       "        vertical-align: middle;\n",
       "    }\n",
       "\n",
       "    .dataframe tbody tr th {\n",
       "        vertical-align: top;\n",
       "    }\n",
       "\n",
       "    .dataframe thead th {\n",
       "        text-align: right;\n",
       "    }\n",
       "</style>\n",
       "<table border=\"1\" class=\"dataframe\">\n",
       "  <thead>\n",
       "    <tr style=\"text-align: right;\">\n",
       "      <th>Predicted Business Status</th>\n",
       "      <th>0.0</th>\n",
       "      <th>1.0</th>\n",
       "    </tr>\n",
       "    <tr>\n",
       "      <th>Actual Business Status</th>\n",
       "      <th></th>\n",
       "      <th></th>\n",
       "    </tr>\n",
       "  </thead>\n",
       "  <tbody>\n",
       "    <tr>\n",
       "      <th>0.0</th>\n",
       "      <td>2460</td>\n",
       "      <td>1680</td>\n",
       "    </tr>\n",
       "    <tr>\n",
       "      <th>1.0</th>\n",
       "      <td>1076</td>\n",
       "      <td>6442</td>\n",
       "    </tr>\n",
       "  </tbody>\n",
       "</table>\n",
       "</div>"
      ],
      "text/plain": [
       "Predicted Business Status   0.0   1.0\n",
       "Actual Business Status               \n",
       "0.0                        2460  1680\n",
       "1.0                        1076  6442"
      ]
     },
     "execution_count": 17,
     "metadata": {},
     "output_type": "execute_result"
    }
   ],
   "source": [
    "# Creating confusion matrix dataframe\n",
    "pd.crosstab(y_test['is_open'], y_pred, rownames=['Actual Business Status'], colnames=['Predicted Business Status'])"
   ]
  },
  {
   "cell_type": "markdown",
   "metadata": {},
   "source": [
    "Overall AdaBoost provided less desirable result compared to random forest classifier since AdaBoost had higher false negative at **14%**. However, it did provide lower false positives at **40.5%**, decrease from **42%**."
   ]
  },
  {
   "cell_type": "markdown",
   "metadata": {},
   "source": [
    "### Selecting the best tuning parameters for AdaBoost \n",
    "Will be using GridSearchCV for optimization by tuning the following parameters below:\n",
    "\n",
    "- **n_estimators**: maximum number of estimators (stumps at which boosting is terminated\n",
    "- **learning_rate**: rate at which we are adjusting the weights of our model with respect to the loss gradient"
   ]
  },
  {
   "cell_type": "code",
   "execution_count": 18,
   "metadata": {},
   "outputs": [],
   "source": [
    "# Hyperparameters for tuning\n",
    "param_grid = {\n",
    "    'n_estimators': [100,200],\n",
    "    'learning_rate': [0.001, 0.01, 0.1, 0.2, 0.5]\n",
    "}"
   ]
  },
  {
   "cell_type": "code",
   "execution_count": 19,
   "metadata": {},
   "outputs": [],
   "source": [
    "# Instantiate AdaBoost Classifier for tuning\n",
    "ada_clf = AdaBoostClassifier()\n",
    "\n",
    "# Intantiate GridSearchCV\n",
    "gs_ada_clf = GridSearchCV(ada_clf, param_grid=param_grid)"
   ]
  },
  {
   "cell_type": "markdown",
   "metadata": {},
   "source": [
    "#### Fit and predict based on AdaBoost's adjusted parameters"
   ]
  },
  {
   "cell_type": "code",
   "execution_count": 20,
   "metadata": {},
   "outputs": [
    {
     "name": "stdout",
     "output_type": "stream",
     "text": [
      "Train accuracy: 0.7773529411764706\n",
      "Test accuracy: 0.770372276548293\n",
      "CPU times: user 5min 15s, sys: 2.07 s, total: 5min 17s\n",
      "Wall time: 5min 17s\n"
     ]
    }
   ],
   "source": [
    "%%time\n",
    "\n",
    "# Fit model\n",
    "gs_ada_clf.fit(X_train, y_train)\n",
    "\n",
    "# Predict\n",
    "train_preds = gs_ada_clf.predict(X_train)\n",
    "test_preds = gs_ada_clf.predict(X_test)\n",
    "\n",
    "# Get accuracy score for both train and test sets\n",
    "print('Train accuracy:', metrics.accuracy_score(y_train, train_preds))\n",
    "print('Test accuracy:', metrics.accuracy_score(y_test, test_preds))"
   ]
  },
  {
   "cell_type": "code",
   "execution_count": 21,
   "metadata": {},
   "outputs": [
    {
     "data": {
      "text/html": [
       "<div>\n",
       "<style scoped>\n",
       "    .dataframe tbody tr th:only-of-type {\n",
       "        vertical-align: middle;\n",
       "    }\n",
       "\n",
       "    .dataframe tbody tr th {\n",
       "        vertical-align: top;\n",
       "    }\n",
       "\n",
       "    .dataframe thead th {\n",
       "        text-align: right;\n",
       "    }\n",
       "</style>\n",
       "<table border=\"1\" class=\"dataframe\">\n",
       "  <thead>\n",
       "    <tr style=\"text-align: right;\">\n",
       "      <th>Predicted Business Status</th>\n",
       "      <th>0.0</th>\n",
       "      <th>1.0</th>\n",
       "    </tr>\n",
       "    <tr>\n",
       "      <th>Actual Business Status</th>\n",
       "      <th></th>\n",
       "      <th></th>\n",
       "    </tr>\n",
       "  </thead>\n",
       "  <tbody>\n",
       "    <tr>\n",
       "      <th>0.0</th>\n",
       "      <td>2424</td>\n",
       "      <td>1716</td>\n",
       "    </tr>\n",
       "    <tr>\n",
       "      <th>1.0</th>\n",
       "      <td>961</td>\n",
       "      <td>6557</td>\n",
       "    </tr>\n",
       "  </tbody>\n",
       "</table>\n",
       "</div>"
      ],
      "text/plain": [
       "Predicted Business Status   0.0   1.0\n",
       "Actual Business Status               \n",
       "0.0                        2424  1716\n",
       "1.0                         961  6557"
      ]
     },
     "execution_count": 21,
     "metadata": {},
     "output_type": "execute_result"
    }
   ],
   "source": [
    "# Creating confusion matrix dataframe\n",
    "pd.crosstab(y_test['is_open'], test_preds, rownames=['Actual Business Status'], colnames=['Predicted Business Status'])"
   ]
  },
  {
   "cell_type": "markdown",
   "metadata": {},
   "source": [
    "#### Identifying best parameters and features for AdaBoost"
   ]
  },
  {
   "cell_type": "code",
   "execution_count": 22,
   "metadata": {},
   "outputs": [
    {
     "data": {
      "text/plain": [
       "AdaBoostClassifier(learning_rate=0.5, n_estimators=200)"
      ]
     },
     "execution_count": 22,
     "metadata": {},
     "output_type": "execute_result"
    }
   ],
   "source": [
    "gs_ada_clf.best_estimator_"
   ]
  },
  {
   "cell_type": "code",
   "execution_count": 23,
   "metadata": {},
   "outputs": [
    {
     "data": {
      "image/png": "[encoded data removed]",
      "text/plain": [
       "<Figure size 432x288 with 1 Axes>"
      ]
     },
     "metadata": {
      "needs_background": "light"
     },
     "output_type": "display_data"
    }
   ],
   "source": [
    "feat_importances = pd.Series(gs_ada_clf.best_estimator_.feature_importances_, index=X_train.columns)\n",
    "feat_importances = feat_importances.nlargest(20).sort_values(ascending=True)\n",
    "feat_importances.plot(kind='barh');"
   ]
  },
  {
   "cell_type": "markdown",
   "metadata": {},
   "source": [
    "### AdaBoost Summary\n",
    "Initial AdaBoost algorithm with default setting took **5.45 s** in creating and evaluating 100 decision trees with **76%** accuracy which is lower than Random Forest's initial accuracy. However it did provide lower false positives at **40.5%**, decrease from **42%**. I tuned its hyperparameters using GridSearchCV adjusting **n_estimators at 200** with **learning_rate of 0.5**.\n",
    "\n",
    "It yielded better overall result at **77%** getting better result at obtaining higher true negatives but at the expense of gaining more false positives."
   ]
  },
  {
   "cell_type": "markdown",
   "metadata": {},
   "source": [
    "## Gradient Boosting\n",
    "Learns from the mistake - residual error directly, instead learning from weights of the data points."
   ]
  },
  {
   "cell_type": "code",
   "execution_count": 24,
   "metadata": {},
   "outputs": [
    {
     "name": "stdout",
     "output_type": "stream",
     "text": [
      "0.7834105335392005\n",
      "CPU times: user 11.8 s, sys: 42 ms, total: 11.8 s\n",
      "Wall time: 11.8 s\n"
     ]
    }
   ],
   "source": [
    "%%time\n",
    "\n",
    "grad_clf = GradientBoostingClassifier(n_estimators=100)\n",
    "grad_clf.fit(X_train, y_train)\n",
    "y_pred = grad_clf.predict(X_test)\n",
    "print(metrics.accuracy_score(y_test, y_pred))"
   ]
  },
  {
   "cell_type": "code",
   "execution_count": 25,
   "metadata": {},
   "outputs": [
    {
     "data": {
      "text/html": [
       "<div>\n",
       "<style scoped>\n",
       "    .dataframe tbody tr th:only-of-type {\n",
       "        vertical-align: middle;\n",
       "    }\n",
       "\n",
       "    .dataframe tbody tr th {\n",
       "        vertical-align: top;\n",
       "    }\n",
       "\n",
       "    .dataframe thead th {\n",
       "        text-align: right;\n",
       "    }\n",
       "</style>\n",
       "<table border=\"1\" class=\"dataframe\">\n",
       "  <thead>\n",
       "    <tr style=\"text-align: right;\">\n",
       "      <th>Predicted Business Status</th>\n",
       "      <th>0.0</th>\n",
       "      <th>1.0</th>\n",
       "    </tr>\n",
       "    <tr>\n",
       "      <th>Actual Business Status</th>\n",
       "      <th></th>\n",
       "      <th></th>\n",
       "    </tr>\n",
       "  </thead>\n",
       "  <tbody>\n",
       "    <tr>\n",
       "      <th>0.0</th>\n",
       "      <td>2347</td>\n",
       "      <td>1793</td>\n",
       "    </tr>\n",
       "    <tr>\n",
       "      <th>1.0</th>\n",
       "      <td>732</td>\n",
       "      <td>6786</td>\n",
       "    </tr>\n",
       "  </tbody>\n",
       "</table>\n",
       "</div>"
      ],
      "text/plain": [
       "Predicted Business Status   0.0   1.0\n",
       "Actual Business Status               \n",
       "0.0                        2347  1793\n",
       "1.0                         732  6786"
      ]
     },
     "execution_count": 25,
     "metadata": {},
     "output_type": "execute_result"
    }
   ],
   "source": [
    "# Creating confusion matrix dataframe\n",
    "pd.crosstab(y_test['is_open'], y_pred, rownames=['Actual Business Status'], colnames=['Predicted Business Status'])"
   ]
  },
  {
   "cell_type": "code",
   "execution_count": 26,
   "metadata": {},
   "outputs": [
    {
     "name": "stdout",
     "output_type": "stream",
     "text": [
      "              precision    recall  f1-score   support\n",
      "\n",
      "         0.0       0.76      0.57      0.65      4140\n",
      "         1.0       0.79      0.90      0.84      7518\n",
      "\n",
      "    accuracy                           0.78     11658\n",
      "   macro avg       0.78      0.73      0.75     11658\n",
      "weighted avg       0.78      0.78      0.77     11658\n",
      "\n"
     ]
    }
   ],
   "source": [
    "print(metrics.classification_report(y_test, y_pred))"
   ]
  },
  {
   "cell_type": "markdown",
   "metadata": {},
   "source": [
    "Gradient boosting did better at predicting open and closed restaurants than AdaBoost but did poorer than Random Forest, similar to all algorithms - It did not do very good job at predicting closed restaurants - instead it misclassified closed restaurants as open. It has the highest false positives (**43%**) compared to other algorithms. Overall it has initial accuracy at **78%**."
   ]
  },
  {
   "cell_type": "markdown",
   "metadata": {},
   "source": [
    "### Selecting the best tuning parameters for Gradient Boosting\n",
    "Same as AdaBoost, I will be using GridSearchCV for optimization by tuning the following parameters below:\n",
    "\n",
    "- **n_estimators**: maximum number of estimators (stumps at which boosting is terminated\n",
    "- **learning_rate**: rate at which we are adjusting the weights of our model with respect to the loss gradient"
   ]
  },
  {
   "cell_type": "code",
   "execution_count": 27,
   "metadata": {},
   "outputs": [],
   "source": [
    "# Hyperparameters for tuning\n",
    "param_grid = {\n",
    "    'n_estimators': [100,200],\n",
    "    'learning_rate': [0.001, 0.01, 0.1, 0.2, 0.5]\n",
    "}"
   ]
  },
  {
   "cell_type": "code",
   "execution_count": 28,
   "metadata": {},
   "outputs": [],
   "source": [
    "# Instantiate Gradient Boosting Classifier for tuning\n",
    "grad_clf = GradientBoostingClassifier()\n",
    "\n",
    "# Intantiate GridSearchCV\n",
    "gs_grad_clf = GridSearchCV(grad_clf, param_grid=param_grid)"
   ]
  },
  {
   "cell_type": "markdown",
   "metadata": {},
   "source": [
    "#### Fit and predict based on Gradient Boosting's adjusted parameters"
   ]
  },
  {
   "cell_type": "code",
   "execution_count": 29,
   "metadata": {},
   "outputs": [
    {
     "name": "stdout",
     "output_type": "stream",
     "text": [
      "Train accuracy: 0.8335661764705883\n",
      "Test accuracy: 0.7997941327843541\n",
      "CPU times: user 10min 2s, sys: 1.35 s, total: 10min 3s\n",
      "Wall time: 10min 3s\n"
     ]
    }
   ],
   "source": [
    "%%time\n",
    "\n",
    "# Fit model\n",
    "gs_grad_clf.fit(X_train, y_train)\n",
    "\n",
    "# Predict\n",
    "train_preds = gs_grad_clf.predict(X_train)\n",
    "test_preds = gs_grad_clf.predict(X_test)\n",
    "\n",
    "# Get accuracy score for both train and test sets\n",
    "print('Train accuracy:', metrics.accuracy_score(y_train, train_preds))\n",
    "print('Test accuracy:', metrics.accuracy_score(y_test, test_preds))"
   ]
  },
  {
   "cell_type": "code",
   "execution_count": 30,
   "metadata": {},
   "outputs": [
    {
     "data": {
      "text/html": [
       "<div>\n",
       "<style scoped>\n",
       "    .dataframe tbody tr th:only-of-type {\n",
       "        vertical-align: middle;\n",
       "    }\n",
       "\n",
       "    .dataframe tbody tr th {\n",
       "        vertical-align: top;\n",
       "    }\n",
       "\n",
       "    .dataframe thead th {\n",
       "        text-align: right;\n",
       "    }\n",
       "</style>\n",
       "<table border=\"1\" class=\"dataframe\">\n",
       "  <thead>\n",
       "    <tr style=\"text-align: right;\">\n",
       "      <th>Predicted Business Status</th>\n",
       "      <th>0.0</th>\n",
       "      <th>1.0</th>\n",
       "    </tr>\n",
       "    <tr>\n",
       "      <th>Actual Business Status</th>\n",
       "      <th></th>\n",
       "      <th></th>\n",
       "    </tr>\n",
       "  </thead>\n",
       "  <tbody>\n",
       "    <tr>\n",
       "      <th>0.0</th>\n",
       "      <td>2612</td>\n",
       "      <td>1528</td>\n",
       "    </tr>\n",
       "    <tr>\n",
       "      <th>1.0</th>\n",
       "      <td>806</td>\n",
       "      <td>6712</td>\n",
       "    </tr>\n",
       "  </tbody>\n",
       "</table>\n",
       "</div>"
      ],
      "text/plain": [
       "Predicted Business Status   0.0   1.0\n",
       "Actual Business Status               \n",
       "0.0                        2612  1528\n",
       "1.0                         806  6712"
      ]
     },
     "execution_count": 30,
     "metadata": {},
     "output_type": "execute_result"
    }
   ],
   "source": [
    "# Creating confusion matrix dataframe\n",
    "pd.crosstab(y_test['is_open'], test_preds, rownames=['Actual Business Status'], colnames=['Predicted Business Status'])"
   ]
  },
  {
   "cell_type": "markdown",
   "metadata": {},
   "source": [
    "#### Identifying best parameters and features for Gradient Boosting"
   ]
  },
  {
   "cell_type": "code",
   "execution_count": 31,
   "metadata": {},
   "outputs": [
    {
     "data": {
      "text/plain": [
       "GradientBoostingClassifier(learning_rate=0.2, n_estimators=200)"
      ]
     },
     "execution_count": 31,
     "metadata": {},
     "output_type": "execute_result"
    }
   ],
   "source": [
    "gs_grad_clf.best_estimator_"
   ]
  },
  {
   "cell_type": "code",
   "execution_count": 32,
   "metadata": {},
   "outputs": [
    {
     "data": {
      "image/png": "[encoded data removed]",
      "text/plain": [
       "<Figure size 432x288 with 1 Axes>"
      ]
     },
     "metadata": {
      "needs_background": "light"
     },
     "output_type": "display_data"
    }
   ],
   "source": [
    "feat_importances = pd.Series(gs_grad_clf.best_estimator_.feature_importances_, index=X_train.columns)\n",
    "feat_importances = feat_importances.nlargest(20).sort_values(ascending=True)\n",
    "feat_importances.plot(kind='barh');"
   ]
  },
  {
   "cell_type": "markdown",
   "metadata": {},
   "source": [
    "### Gradient Boosting Summary\n",
    "Initial GradientBoosting algorithm with default setting took **9.24 s** in creating and evaluating 100 decision trees with **78%** accuracy which is lower than Random Forest's initial accuracy but higher than AdaBoost's accurracy. However it did provided highest false positives at **43%**. I tuned its hyperparameters using GridSearchCV adjusting **n_estimators at 200** with **learning_rate of 0.2**.\n",
    "\n",
    "It yielded best overall accuracy result at **79.9%** and getting least false positives at **36.9%**. So far, I would recommend using gradient boosting as it has lower chance of lending or investing on businesses that is going to fail."
   ]
  },
  {
   "cell_type": "code",
   "execution_count": 36,
   "metadata": {},
   "outputs": [],
   "source": [
    "# pd.read_pickle method \n",
    "random_rf = pd.read_pickle('./dataset/random_forest_model.pkl')"
   ]
  },
  {
   "cell_type": "markdown",
   "metadata": {},
   "source": [
    "## ROC and AUC\n",
    "To visually see which machine learning algorithm performed the best."
   ]
  },
  {
   "cell_type": "markdown",
   "metadata": {},
   "source": [
    "### Prediction probabilities"
   ]
  },
  {
   "cell_type": "code",
   "execution_count": 42,
   "metadata": {},
   "outputs": [],
   "source": [
    "r_probs = [0 for _ in range(len(y_test))] # baseline\n",
    "grad_clf_probs = gs_grad_clf.predict_proba(X_test)\n",
    "ada_clf_probs = gs_ada_clf.predict_proba(X_test)\n",
    "rf_probs = random_rf.predict_proba(X_test)"
   ]
  },
  {
   "cell_type": "markdown",
   "metadata": {},
   "source": [
    "### Probabilities for the positive outcome"
   ]
  },
  {
   "cell_type": "code",
   "execution_count": 43,
   "metadata": {},
   "outputs": [],
   "source": [
    "grad_clf_probs = grad_clf_probs[:, 1]\n",
    "ada_clf_probs = ada_clf_probs[:, 1]\n",
    "rf_probs = rf_probs[:, 1]"
   ]
  },
  {
   "cell_type": "markdown",
   "metadata": {},
   "source": [
    "### Computing AUROC and ROC curve values"
   ]
  },
  {
   "cell_type": "code",
   "execution_count": 45,
   "metadata": {},
   "outputs": [],
   "source": [
    "r_auc = metrics.roc_auc_score(y_test, r_probs)\n",
    "grad_clf_auc = metrics.roc_auc_score(y_test, grad_clf_probs)\n",
    "ada_clf_auc = metrics.roc_auc_score(y_test, ada_clf_probs)\n",
    "rf_auc = metrics.roc_auc_score(y_test, rf_probs)"
   ]
  },
  {
   "cell_type": "markdown",
   "metadata": {},
   "source": [
    "### AUROC scores"
   ]
  },
  {
   "cell_type": "code",
   "execution_count": 47,
   "metadata": {},
   "outputs": [
    {
     "name": "stdout",
     "output_type": "stream",
     "text": [
      "Random Forest: AUROC 0.860920827052112\n",
      "AdaBoost: AUROC 0.8279969136873435\n",
      "Gradient Boosting: AUROC 0.8607765196057643\n",
      "Random chance prediction: AUROC 0.5\n"
     ]
    }
   ],
   "source": [
    "print(f'Random Forest: AUROC {rf_auc}')\n",
    "print(f'AdaBoost: AUROC {ada_clf_auc}')\n",
    "print(f'Gradient Boosting: AUROC {grad_clf_auc}')ro\n",
    "print(f'Random chance prediction: AUROC {r_auc}')"
   ]
  },
  {
   "cell_type": "markdown",
   "metadata": {},
   "source": [
    "### Calculate ROC curve and Plot"
   ]
  },
  {
   "cell_type": "code",
   "execution_count": 52,
   "metadata": {},
   "outputs": [],
   "source": [
    "r_fpr, r_tpr, _ = metrics.roc_curve(y_test, r_probs)\n",
    "rf_fpr, rf_tpr, _ = metrics.roc_curve(y_test, rf_probs)\n",
    "ada_fpr, ada_tpr, _ = metrics.roc_curve(y_test, ada_clf_probs)\n",
    "grad_fpr, grad_tpr, _ = metrics.roc_curve(y_test, grad_clf_probs)"
   ]
  },
  {
   "cell_type": "code",
   "execution_count": 54,
   "metadata": {},
   "outputs": [
    {
     "data": {
      "image/png": "[encoded data removed]",
      "text/plain": [
       "<Figure size 432x288 with 1 Axes>"
      ]
     },
     "metadata": {
      "needs_background": "light"
     },
     "output_type": "display_data"
    }
   ],
   "source": [
    "plt.plot(r_fpr, r_tpr, linestyle='--', label= 'Random prediction: (AUROC = %0.3f)' % r_auc)\n",
    "plt.plot(rf_fpr, rf_tpr, linestyle='-', label= 'Random Forest: (AUROC = %0.3f)' % rf_auc)\n",
    "plt.plot(ada_fpr, ada_tpr, linestyle='-.', label= 'AdaBoost: (AUROC = %0.3f)' % ada_clf_auc)\n",
    "plt.plot(grad_fpr, grad_tpr, linestyle='solid', label= 'Gradient Boosting: (AUROC = %0.3f)' % grad_clf_auc)\n",
    "\n",
    "plt.title('ROC Plot') # Title\n",
    "plt.xlabel('False Positive Rate') # Axis labels\n",
    "plt.ylabel('True Positive Rate')\n",
    "plt.legend() # Show legend\n",
    "plt.show() "
   ]
  },
  {
   "cell_type": "markdown",
   "metadata": {},
   "source": [
    "### Summary\n",
    "Random forest and Gradient Boosting algorithm gave the best outcome in predicting whether restaurants are open or closed based on given features. Each algorithms had differing feature importance but few features repeatedly came into view such as lifespan, sentiment score, star rating, revenue, and review count. Those five features are important in determining whether restaurant will strive or fail in hospitality industry."
   ]
  }
 ],
 "metadata": {
  "kernelspec": {
   "display_name": "Python 3",
   "language": "python",
   "name": "python3"
  },
  "language_info": {
   "codemirror_mode": {
    "name": "ipython",
    "version": 3
   },
   "file_extension": ".py",
   "mimetype": "text/x-python",
   "name": "python",
   "nbconvert_exporter": "python",
   "pygments_lexer": "ipython3",
   "version": "3.8.3"
  }
 },
 "nbformat": 4,
 "nbformat_minor": 4
}
