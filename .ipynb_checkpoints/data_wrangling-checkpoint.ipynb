{
 "cells": [
  {
   "cell_type": "markdown",
   "metadata": {},
   "source": [
    "# Overview of Yelp Dataset\n",
    "The Yelp dataset contains wealth of information on users and businesses spanning 10 metropolitan cities (Montreal, Calgary, Toronto, Pittsburgh, Charlotte, Urbana-Champaign, Phoenix, Las Vegas, Madison, and Cleveland).\n",
    "- 8,021,122 reviews\n",
    "- 209,393 businesses\n",
    "- 1,320,761 tips\n",
    "- 1,968,703 users\n",
    "- 175,187 check-ins\n",
    "\n",
    "Prior to data wrangling, I utilized json_to_csv.py to flatten nested json objects within business' attributes column (link: https://github.com/Yelp/dataset-examples/blob/master/json_to_csv_converter.py)"
   ]
  },
  {
   "cell_type": "code",
   "execution_count": 6,
   "metadata": {},
   "outputs": [],
   "source": [
    "# Import essentials\n",
    "import pandas as pd\n",
    "\n",
    "# Ignore warning messages\n",
    "import warnings\n",
    "warnings.filterwarnings('ignore')"
   ]
  },
  {
   "cell_type": "code",
   "execution_count": 7,
   "metadata": {},
   "outputs": [],
   "source": [
    "# Utilize helper functions\n",
    "%run helper_functions.ipynb"
   ]
  },
  {
   "cell_type": "code",
   "execution_count": 8,
   "metadata": {},
   "outputs": [],
   "source": [
    "# Read dataset files\n",
    "business_df = pd.read_csv('./dataset/business.csv') # utilized json_to_csv.py that flattened nested json objects\n",
    "checkin_df = pd.read_csv('./dataset/checkin.csv')\n",
    "review_df = pd.read_csv('./dataset/review.csv')\n",
    "user_df = pd.read_csv('./dataset/user.csv')\n",
    "tip_df = pd.read_csv('./dataset/tip.csv')"
   ]
  },
  {
   "cell_type": "markdown",
   "metadata": {},
   "source": [
    "## 1) Cleaning Business Dataset\n",
    "We will mainly focus on independent businesses; therefore, we will be excluding chain restaurants/businesses for this capstone project.\n",
    "1. Remove chain restaurants/businesses based on business title\n",
    "2. Filter out non-restaurant related businesses and identify 100 most popular business categories\n",
    "3. Remove columns that are not needed and lowercase all remaining column names\n",
    "4. Create new columns based on ambience, categories, music, goodformeal, and noiselevel row values\n",
    "5. Combine Alcohol, Byob, Corkage, and other alcohol related columns into one column as they are related\n",
    "6. Handling NaNs in all columns\n",
    "7. Create adjusted star rating"
   ]
  },
  {
   "cell_type": "markdown",
   "metadata": {},
   "source": [
    "#### Viewing initial NaNs in Percentage per column"
   ]
  },
  {
   "cell_type": "code",
   "execution_count": 9,
   "metadata": {},
   "outputs": [
    {
     "data": {
      "text/plain": [
       "attributes.AgesAllowed                   1.00\n",
       "attributes.RestaurantsCounterService     1.00\n",
       "attributes.Open24Hours                   1.00\n",
       "attributes.DietaryRestrictions           1.00\n",
       "attributes.BYOB                          1.00\n",
       "attributes.Corkage                       0.99\n",
       "attributes.HairSpecializesIn             0.99\n",
       "attributes.BYOBCorkage                   0.99\n",
       "attributes.CoatCheck                     0.98\n",
       "attributes.DriveThru                     0.98\n",
       "attributes.GoodForDancing                0.98\n",
       "attributes.Smoking                       0.98\n",
       "attributes.BestNights                    0.97\n",
       "attributes.AcceptsInsurance              0.96\n",
       "attributes.Music                         0.96\n",
       "attributes.HappyHour                     0.93\n",
       "attributes.BusinessAcceptsBitcoin        0.92\n",
       "attributes.DogsAllowed                   0.92\n",
       "attributes.RestaurantsTableService       0.90\n",
       "attributes.WheelchairAccessible          0.86\n",
       "attributes.GoodForMeal                   0.83\n",
       "attributes.Caters                        0.79\n",
       "attributes.NoiseLevel                    0.78\n",
       "attributes.Alcohol                       0.76\n",
       "attributes.RestaurantsAttire             0.76\n",
       "attributes.HasTV                         0.75\n",
       "attributes.RestaurantsReservations       0.74\n",
       "attributes.Ambience                      0.74\n",
       "attributes.RestaurantsDelivery           0.73\n",
       "attributes.RestaurantsGoodForGroups      0.73\n",
       "attributes.OutdoorSeating                0.72\n",
       "attributes.ByAppointmentOnly             0.71\n",
       "attributes.WiFi                          0.69\n",
       "attributes.RestaurantsTakeOut            0.68\n",
       "attributes.GoodForKids                   0.67\n",
       "attributes.BikeParking                   0.57\n",
       "hours.Sunday                             0.51\n",
       "attributes.RestaurantsPriceRange2        0.47\n",
       "attributes.BusinessParking               0.45\n",
       "attributes.BusinessAcceptsCreditCards    0.42\n",
       "hours.Saturday                           0.33\n",
       "hours.Monday                             0.27\n",
       "hours.Tuesday                            0.24\n",
       "hours.Wednesday                          0.23\n",
       "hours.Friday                             0.23\n",
       "hours.Thursday                           0.22\n",
       "hours                                    0.21\n",
       "attributes                               0.14\n",
       "address                                  0.04\n",
       "city                                     0.00\n",
       "categories                               0.00\n",
       "review_count                             0.00\n",
       "name                                     0.00\n",
       "stars                                    0.00\n",
       "state                                    0.00\n",
       "postal_code                              0.00\n",
       "latitude                                 0.00\n",
       "business_id                              0.00\n",
       "longitude                                0.00\n",
       "is_open                                  0.00\n",
       "dtype: float64"
      ]
     },
     "execution_count": 9,
     "metadata": {},
     "output_type": "execute_result"
    }
   ],
   "source": [
    "nan_status = round(business_df.isnull().sum() / business_df.shape[0],2)\n",
    "nan_status.sort_values(ascending=False)"
   ]
  },
  {
   "cell_type": "markdown",
   "metadata": {},
   "source": [
    "Majority of the NaNs are coming from attributes related columns such as Corkage, DietaryRestrictions, DogsAllowed and etc. All those NaNs columns will be resolved in the following cells."
   ]
  },
  {
   "cell_type": "code",
   "execution_count": 10,
   "metadata": {},
   "outputs": [
    {
     "name": "stdout",
     "output_type": "stream",
     "text": [
      "<class 'pandas.core.frame.DataFrame'>\n",
      "RangeIndex: 209393 entries, 0 to 209392\n",
      "Data columns (total 60 columns):\n",
      " #   Column                                 Non-Null Count   Dtype  \n",
      "---  ------                                 --------------   -----  \n",
      " 0   is_open                                209393 non-null  int64  \n",
      " 1   attributes.Caters                      43969 non-null   object \n",
      " 2   attributes.RestaurantsAttire           49567 non-null   object \n",
      " 3   attributes.AcceptsInsurance            8660 non-null    object \n",
      " 4   attributes.GoodForKids                 68535 non-null   object \n",
      " 5   attributes.RestaurantsPriceRange2      111288 non-null  object \n",
      " 6   attributes.Corkage                     1090 non-null    object \n",
      " 7   attributes.Alcohol                     50838 non-null   object \n",
      " 8   hours.Friday                           161515 non-null  object \n",
      " 9   attributes.BestNights                  5483 non-null    object \n",
      " 10  attributes.RestaurantsReservations     55361 non-null   object \n",
      " 11  attributes.BusinessParking             115215 non-null  object \n",
      " 12  attributes.BusinessAcceptsBitcoin      16532 non-null   object \n",
      " 13  attributes.Music                       7912 non-null    object \n",
      " 14  attributes.Open24Hours                 14 non-null      object \n",
      " 15  review_count                           209393 non-null  int64  \n",
      " 16  name                                   209392 non-null  object \n",
      " 17  attributes.RestaurantsGoodForGroups    56162 non-null   object \n",
      " 18  stars                                  209393 non-null  float64\n",
      " 19  state                                  209393 non-null  object \n",
      " 20  attributes.ByAppointmentOnly           60799 non-null   object \n",
      " 21  attributes.DietaryRestrictions         61 non-null      object \n",
      " 22  attributes.HairSpecializesIn           1260 non-null    object \n",
      " 23  hours.Thursday                         162281 non-null  object \n",
      " 24  attributes.WiFi                        65331 non-null   object \n",
      " 25  hours.Wednesday                        161491 non-null  object \n",
      " 26  latitude                               209393 non-null  float64\n",
      " 27  hours.Tuesday                          159636 non-null  object \n",
      " 28  attributes.GoodForMeal                 35182 non-null   object \n",
      " 29  attributes.HappyHour                   15324 non-null   object \n",
      " 30  hours.Monday                           151872 non-null  object \n",
      " 31  attributes.WheelchairAccessible        28635 non-null   object \n",
      " 32  attributes.RestaurantsTableService     20785 non-null   object \n",
      " 33  hours.Saturday                         139579 non-null  object \n",
      " 34  attributes.DogsAllowed                 17539 non-null   object \n",
      " 35  attributes.HasTV                       53388 non-null   object \n",
      " 36  business_id                            209393 non-null  object \n",
      " 37  longitude                              209393 non-null  float64\n",
      " 38  attributes.BusinessAcceptsCreditCards  122237 non-null  object \n",
      " 39  attributes.BYOBCorkage                 1425 non-null    object \n",
      " 40  attributes.BYOB                        740 non-null     object \n",
      " 41  attributes.DriveThru                   4282 non-null    object \n",
      " 42  attributes.OutdoorSeating              58441 non-null   object \n",
      " 43  hours.Sunday                           102117 non-null  object \n",
      " 44  attributes.NoiseLevel                  46559 non-null   object \n",
      " 45  attributes.BikeParking                 89765 non-null   object \n",
      " 46  attributes.RestaurantsDelivery         56679 non-null   object \n",
      " 47  address                                200714 non-null  object \n",
      " 48  postal_code                            208884 non-null  object \n",
      " 49  categories                             208869 non-null  object \n",
      " 50  attributes.RestaurantsTakeOut          66301 non-null   object \n",
      " 51  attributes.Ambience                    53806 non-null   object \n",
      " 52  city                                   209391 non-null  object \n",
      " 53  attributes.GoodForDancing              5186 non-null    object \n",
      " 54  hours                                  164550 non-null  object \n",
      " 55  attributes                             180348 non-null  object \n",
      " 56  attributes.RestaurantsCounterService   13 non-null      object \n",
      " 57  attributes.AgesAllowed                 136 non-null     object \n",
      " 58  attributes.Smoking                     4270 non-null    object \n",
      " 59  attributes.CoatCheck                   4909 non-null    object \n",
      "dtypes: float64(3), int64(2), object(55)\n",
      "memory usage: 95.9+ MB\n"
     ]
    }
   ],
   "source": [
    "business_df.info()"
   ]
  },
  {
   "cell_type": "markdown",
   "metadata": {},
   "source": [
    "### 1.1 Remove chain restaurants/businesses based on business title"
   ]
  },
  {
   "cell_type": "code",
   "execution_count": 11,
   "metadata": {},
   "outputs": [
    {
     "data": {
      "text/plain": [
       "132            tim hortons\n",
       "283                wendy's\n",
       "302                wendy's\n",
       "303              starbucks\n",
       "329       church's chicken\n",
       "                ...       \n",
       "209384     sunbelt rentals\n",
       "209385            domino's\n",
       "209387                aldo\n",
       "209389             walmart\n",
       "209390           five guys\n",
       "Name: name, Length: 52954, dtype: object"
      ]
     },
     "execution_count": 11,
     "metadata": {},
     "output_type": "execute_result"
    }
   ],
   "source": [
    "# Lowercase all characters and remove whitespace on all business titles\n",
    "business_df['name'] = business_df['name'].str.lower().str.strip()\n",
    "\n",
    "# Validate whether duplicate businesses exists based on business title\n",
    "chain_restaurants_df = business_df[business_df.name.duplicated()]\n",
    "chain_restaurants_df.name"
   ]
  },
  {
   "cell_type": "code",
   "execution_count": 12,
   "metadata": {},
   "outputs": [],
   "source": [
    "# Remove all chain businesses\n",
    "business_df.drop_duplicates(subset='name', keep=False, inplace=True)\n",
    "business_df.reset_index(drop=True, inplace=True)"
   ]
  },
  {
   "cell_type": "code",
   "execution_count": 13,
   "metadata": {},
   "outputs": [
    {
     "data": {
      "text/plain": [
       "(143958, 60)"
      ]
     },
     "execution_count": 13,
     "metadata": {},
     "output_type": "execute_result"
    }
   ],
   "source": [
    "business_df.shape"
   ]
  },
  {
   "cell_type": "markdown",
   "metadata": {},
   "source": [
    "Removed 52954 businesses that were part of chain restaurants which cut reduced to 143,958 (38% reduction)"
   ]
  },
  {
   "cell_type": "markdown",
   "metadata": {},
   "source": [
    "### 1.2 Filter out non-restaurant related businesses and identify 100 most popular business categories\n",
    "- Filter out categories that are not food/drinks related\n",
    "- Add top 100 categories as new columns and set default value as 0 and remove non-hospitality related businesses\n",
    "- Update newly created top 100 categories column row values to 1 when applicable"
   ]
  },
  {
   "cell_type": "code",
   "execution_count": 14,
   "metadata": {},
   "outputs": [
    {
     "data": {
      "text/plain": [
       "[('restaurants', 38108),\n",
       " ('nightlife', 11359),\n",
       " ('bars', 9743),\n",
       " ('american (traditional)', 4278),\n",
       " ('pizza', 3582),\n",
       " ('coffee & tea', 3567),\n",
       " ('breakfast & brunch', 3490),\n",
       " ('american (new)', 3460),\n",
       " ('sandwiches', 3452),\n",
       " ('specialty food', 3442),\n",
       " ('chinese', 3302),\n",
       " ('italian', 3260),\n",
       " ('mexican', 2578),\n",
       " ('bakeries', 2566),\n",
       " ('cafes', 2527),\n",
       " ('hotels', 2465),\n",
       " ('desserts', 2401),\n",
       " ('burgers', 2132),\n",
       " ('japanese', 2071),\n",
       " ('seafood', 1945),\n",
       " ('pubs', 1811),\n",
       " ('sushi bars', 1736),\n",
       " ('beer', 1702),\n",
       " ('wine & spirits', 1702),\n",
       " ('sports bars', 1563),\n",
       " ('asian fusion', 1555),\n",
       " ('ice cream & frozen yogurt', 1444),\n",
       " ('mediterranean', 1424),\n",
       " ('canadian (new)', 1371),\n",
       " ('barbeque', 1326),\n",
       " ('indian', 1273),\n",
       " ('salad', 1271),\n",
       " ('cocktail bars', 1250),\n",
       " ('thai', 1104),\n",
       " ('vietnamese', 1082),\n",
       " ('fast food', 1052),\n",
       " ('wine bars', 1047),\n",
       " ('steakhouses', 1046),\n",
       " ('delis', 1030),\n",
       " ('juice bars & smoothies', 937),\n",
       " ('french', 911),\n",
       " ('chicken wings', 910),\n",
       " ('food trucks', 903),\n",
       " ('diners', 873),\n",
       " ('vegetarian', 849),\n",
       " ('ethnic food', 816),\n",
       " ('greek', 795),\n",
       " ('korean', 793),\n",
       " ('dance clubs', 777),\n",
       " ('vegan', 690),\n",
       " ('food delivery services', 639),\n",
       " ('dive bars', 596),\n",
       " ('buffets', 581),\n",
       " ('caribbean', 571),\n",
       " ('gastropubs', 519),\n",
       " ('latin american', 517),\n",
       " ('comfort food', 516),\n",
       " ('halal', 513),\n",
       " ('breweries', 499),\n",
       " ('tapas/small plates', 494),\n",
       " ('gluten-free', 481),\n",
       " ('beer bar', 473),\n",
       " ('hot dogs', 471),\n",
       " ('noodles', 424),\n",
       " ('bubble tea', 411),\n",
       " ('tapas bars', 401),\n",
       " ('pakistani', 384),\n",
       " ('farmers market', 383),\n",
       " ('southern', 350),\n",
       " ('food stands', 316),\n",
       " ('tea rooms', 305),\n",
       " ('soul food', 297),\n",
       " ('fruits & veggies', 286),\n",
       " ('hookah bars', 281),\n",
       " ('dim sum', 280),\n",
       " ('donuts', 275),\n",
       " ('tacos', 258),\n",
       " ('bagels', 252),\n",
       " ('fish & chips', 249),\n",
       " ('cupcakes', 238),\n",
       " ('ramen', 230),\n",
       " ('candy stores', 219),\n",
       " ('custom cakes', 219),\n",
       " ('hawaiian', 213),\n",
       " ('portuguese', 208),\n",
       " ('modern european', 205),\n",
       " ('cajun/creole', 203),\n",
       " ('filipino', 202),\n",
       " ('creperies', 195),\n",
       " ('lebanese', 188),\n",
       " ('persian/iranian', 176),\n",
       " ('cheese shops', 175),\n",
       " ('shaved ice', 174),\n",
       " ('chicken shop', 172),\n",
       " ('seafood markets', 172),\n",
       " ('taiwanese', 167),\n",
       " ('wineries', 167),\n",
       " ('bistros', 167),\n",
       " ('tex-mex', 163),\n",
       " ('irish', 152)]"
      ]
     },
     "execution_count": 14,
     "metadata": {},
     "output_type": "execute_result"
    }
   ],
   "source": [
    "from collections import Counter \n",
    "\n",
    "# Remove rows that does not have categories value\n",
    "business_df = business_df.loc[~business_df.categories.isna()]\n",
    "\n",
    "# Creating new columns based on categorical values (ex: restaurants, bars, gastropubs, japanese, etc.)\n",
    "categories = []\n",
    "\n",
    "for cat in business_df['categories']:\n",
    "    for category in cat.split(','):\n",
    "        \n",
    "        category = category.strip().lower()\n",
    "        \n",
    "        # Only get food and drink related categories\n",
    "        if category in target_cols:\n",
    "            categories.append(category)\n",
    "            \n",
    "features = Counter(categories).most_common()[:100] # Get top 100 most popular categories\n",
    "features"
   ]
  },
  {
   "cell_type": "code",
   "execution_count": 15,
   "metadata": {},
   "outputs": [],
   "source": [
    "# Add top 100 categories as new columns\n",
    "new_features = [] \n",
    "default_values = []\n",
    "\n",
    "for i in range(len(features)):\n",
    "    new_features.append(features[i][0]) # Get list of top 100 categories\n",
    "    default_values.append(0) # Set default values as 0 for new categorical columns\n",
    "    \n",
    "# Concating dataframe with business_df\n",
    "business_df = pd.concat(\n",
    "    [\n",
    "        business_df,\n",
    "        pd.DataFrame(\n",
    "            [default_values],\n",
    "            index = business_df.index,\n",
    "            columns = new_features\n",
    "        )\n",
    "    ], axis = 1\n",
    ")"
   ]
  },
  {
   "cell_type": "markdown",
   "metadata": {},
   "source": [
    "### NOTE:\n",
    "Below is the example of categories column which consist of list of categories for each businesses. In the following cell below, I will be removing non-hospitality related businesses such as law firms, nail salon, auto shops, and etc. from the business dataframe."
   ]
  },
  {
   "cell_type": "code",
   "execution_count": 16,
   "metadata": {},
   "outputs": [
    {
     "data": {
      "text/plain": [
       "0         Active Life, Gun/Rifle Ranges, Guns & Ammo, Sh...\n",
       "1         Health & Medical, Fitness & Instruction, Yoga,...\n",
       "2                          Pets, Pet Services, Pet Groomers\n",
       "3         Home Services, Plumbing, Electricians, Handyma...\n",
       "4         Auto Repair, Automotive, Oil Change Stations, ...\n",
       "                                ...                        \n",
       "143953       Pets, Pet Sitting, Veterinarians, Pet Services\n",
       "143954    Contractors, Local Services, Appliances & Repa...\n",
       "143955                    Japanese, Sushi Bars, Restaurants\n",
       "143956                     Pet Services, Pet Training, Pets\n",
       "143957    Tax Services, Professional Services, Accountan...\n",
       "Name: categories, Length: 143536, dtype: object"
      ]
     },
     "execution_count": 16,
     "metadata": {},
     "output_type": "execute_result"
    }
   ],
   "source": [
    "business_df['categories']"
   ]
  },
  {
   "cell_type": "markdown",
   "metadata": {},
   "source": [
    "I did realize that some of the business data had inaccurate information regarding its business type. See cell below; clearly this is human error where it defined having pizza and being a restaurant when it is mainly for dog training facility.\n",
    "\n",
    "To filter out non-hospitality related businesses more accurately, I will be checking each categorical values on each businesses to determine whether its business categories contain less than 50% of hospitality related attributes. If so, I will be removing the business from business dataframe."
   ]
  },
  {
   "cell_type": "code",
   "execution_count": 17,
   "metadata": {},
   "outputs": [
    {
     "data": {
      "text/plain": [
       "'Pizza, Life Coach, Education, Pet Services, Dog Walkers, Animal Physical Therapy, Animal Assisted Therapy, Professional Services, Animal Shelters, Pet Training, Holistic Animal Care, Pet Stores, Restaurants, Private Tutors, Pets, Health & Medical'"
      ]
     },
     "execution_count": 17,
     "metadata": {},
     "output_type": "execute_result"
    }
   ],
   "source": [
    "business_df[business_df['name'] == 'the k-9 handler all breed certified dog training']['categories'][118677]"
   ]
  },
  {
   "cell_type": "code",
   "execution_count": 18,
   "metadata": {},
   "outputs": [],
   "source": [
    "non_hospitality_biz = [] # Used for appending non-hospitality businesses to remove from the business dataframe\n",
    "\n",
    "# Loop through categories column\n",
    "for row in business_df.itertuples():\n",
    "    \n",
    "    filtered_categories = [] # Used for appending food/drink related categories\n",
    "    \n",
    "    #Remove whitespace, lowercase, replace comma with space and split\n",
    "    categories = row.categories.strip().lower().replace(', ', ',').split(',')\n",
    "    \n",
    "    for category in categories:\n",
    "        \n",
    "        # Get all food and drink related categories\n",
    "        if category in new_features:\n",
    "            filtered_categories.append(category)\n",
    "    \n",
    "    # Append all non-hospitality related businesses\n",
    "    if len(filtered_categories) / len(categories) < 0.5:\n",
    "        non_hospitality_biz.append(row.Index)\n",
    "    else:\n",
    "        business_df.loc[row.Index, filtered_categories] = 1 # Set to 1 for all food/drink related categories\n",
    "    \n",
    "# Remove non-hospitality related businesses from the business dataframe\n",
    "business_df.drop(non_hospitality_biz, inplace=True)\n",
    "business_df.reset_index(drop=True, inplace=True)"
   ]
  },
  {
   "cell_type": "code",
   "execution_count": 19,
   "metadata": {},
   "outputs": [],
   "source": [
    "# Drop categories column\n",
    "business_df.drop(['categories'], axis=1, inplace=True)"
   ]
  },
  {
   "cell_type": "code",
   "execution_count": 20,
   "metadata": {},
   "outputs": [
    {
     "data": {
      "text/html": [
       "<div>\n",
       "<style scoped>\n",
       "    .dataframe tbody tr th:only-of-type {\n",
       "        vertical-align: middle;\n",
       "    }\n",
       "\n",
       "    .dataframe tbody tr th {\n",
       "        vertical-align: top;\n",
       "    }\n",
       "\n",
       "    .dataframe thead th {\n",
       "        text-align: right;\n",
       "    }\n",
       "</style>\n",
       "<table border=\"1\" class=\"dataframe\">\n",
       "  <thead>\n",
       "    <tr style=\"text-align: right;\">\n",
       "      <th></th>\n",
       "      <th>restaurants</th>\n",
       "      <th>nightlife</th>\n",
       "      <th>bars</th>\n",
       "      <th>american (traditional)</th>\n",
       "      <th>pizza</th>\n",
       "      <th>coffee &amp; tea</th>\n",
       "      <th>breakfast &amp; brunch</th>\n",
       "      <th>american (new)</th>\n",
       "      <th>sandwiches</th>\n",
       "      <th>specialty food</th>\n",
       "      <th>...</th>\n",
       "      <th>persian/iranian</th>\n",
       "      <th>cheese shops</th>\n",
       "      <th>shaved ice</th>\n",
       "      <th>chicken shop</th>\n",
       "      <th>seafood markets</th>\n",
       "      <th>taiwanese</th>\n",
       "      <th>wineries</th>\n",
       "      <th>bistros</th>\n",
       "      <th>tex-mex</th>\n",
       "      <th>irish</th>\n",
       "    </tr>\n",
       "  </thead>\n",
       "  <tbody>\n",
       "    <tr>\n",
       "      <th>0</th>\n",
       "      <td>1</td>\n",
       "      <td>0</td>\n",
       "      <td>0</td>\n",
       "      <td>0</td>\n",
       "      <td>0</td>\n",
       "      <td>0</td>\n",
       "      <td>0</td>\n",
       "      <td>0</td>\n",
       "      <td>0</td>\n",
       "      <td>1</td>\n",
       "      <td>...</td>\n",
       "      <td>0</td>\n",
       "      <td>0</td>\n",
       "      <td>0</td>\n",
       "      <td>0</td>\n",
       "      <td>0</td>\n",
       "      <td>0</td>\n",
       "      <td>0</td>\n",
       "      <td>0</td>\n",
       "      <td>0</td>\n",
       "      <td>0</td>\n",
       "    </tr>\n",
       "    <tr>\n",
       "      <th>1</th>\n",
       "      <td>1</td>\n",
       "      <td>0</td>\n",
       "      <td>0</td>\n",
       "      <td>0</td>\n",
       "      <td>0</td>\n",
       "      <td>0</td>\n",
       "      <td>0</td>\n",
       "      <td>0</td>\n",
       "      <td>0</td>\n",
       "      <td>0</td>\n",
       "      <td>...</td>\n",
       "      <td>0</td>\n",
       "      <td>0</td>\n",
       "      <td>0</td>\n",
       "      <td>0</td>\n",
       "      <td>0</td>\n",
       "      <td>0</td>\n",
       "      <td>0</td>\n",
       "      <td>0</td>\n",
       "      <td>0</td>\n",
       "      <td>0</td>\n",
       "    </tr>\n",
       "    <tr>\n",
       "      <th>2</th>\n",
       "      <td>0</td>\n",
       "      <td>0</td>\n",
       "      <td>0</td>\n",
       "      <td>0</td>\n",
       "      <td>0</td>\n",
       "      <td>1</td>\n",
       "      <td>0</td>\n",
       "      <td>0</td>\n",
       "      <td>0</td>\n",
       "      <td>0</td>\n",
       "      <td>...</td>\n",
       "      <td>0</td>\n",
       "      <td>0</td>\n",
       "      <td>0</td>\n",
       "      <td>0</td>\n",
       "      <td>0</td>\n",
       "      <td>0</td>\n",
       "      <td>0</td>\n",
       "      <td>0</td>\n",
       "      <td>0</td>\n",
       "      <td>0</td>\n",
       "    </tr>\n",
       "    <tr>\n",
       "      <th>3</th>\n",
       "      <td>1</td>\n",
       "      <td>0</td>\n",
       "      <td>0</td>\n",
       "      <td>0</td>\n",
       "      <td>0</td>\n",
       "      <td>0</td>\n",
       "      <td>0</td>\n",
       "      <td>0</td>\n",
       "      <td>0</td>\n",
       "      <td>0</td>\n",
       "      <td>...</td>\n",
       "      <td>0</td>\n",
       "      <td>0</td>\n",
       "      <td>0</td>\n",
       "      <td>0</td>\n",
       "      <td>0</td>\n",
       "      <td>0</td>\n",
       "      <td>0</td>\n",
       "      <td>0</td>\n",
       "      <td>0</td>\n",
       "      <td>0</td>\n",
       "    </tr>\n",
       "    <tr>\n",
       "      <th>4</th>\n",
       "      <td>0</td>\n",
       "      <td>1</td>\n",
       "      <td>1</td>\n",
       "      <td>0</td>\n",
       "      <td>0</td>\n",
       "      <td>0</td>\n",
       "      <td>0</td>\n",
       "      <td>0</td>\n",
       "      <td>0</td>\n",
       "      <td>0</td>\n",
       "      <td>...</td>\n",
       "      <td>0</td>\n",
       "      <td>0</td>\n",
       "      <td>0</td>\n",
       "      <td>0</td>\n",
       "      <td>0</td>\n",
       "      <td>0</td>\n",
       "      <td>0</td>\n",
       "      <td>0</td>\n",
       "      <td>0</td>\n",
       "      <td>0</td>\n",
       "    </tr>\n",
       "  </tbody>\n",
       "</table>\n",
       "<p>5 rows × 100 columns</p>\n",
       "</div>"
      ],
      "text/plain": [
       "   restaurants  nightlife  bars  american (traditional)  pizza  coffee & tea  \\\n",
       "0            1          0     0                       0      0             0   \n",
       "1            1          0     0                       0      0             0   \n",
       "2            0          0     0                       0      0             1   \n",
       "3            1          0     0                       0      0             0   \n",
       "4            0          1     1                       0      0             0   \n",
       "\n",
       "   breakfast & brunch  american (new)  sandwiches  specialty food  ...  \\\n",
       "0                   0               0           0               1  ...   \n",
       "1                   0               0           0               0  ...   \n",
       "2                   0               0           0               0  ...   \n",
       "3                   0               0           0               0  ...   \n",
       "4                   0               0           0               0  ...   \n",
       "\n",
       "   persian/iranian  cheese shops  shaved ice  chicken shop  seafood markets  \\\n",
       "0                0             0           0             0                0   \n",
       "1                0             0           0             0                0   \n",
       "2                0             0           0             0                0   \n",
       "3                0             0           0             0                0   \n",
       "4                0             0           0             0                0   \n",
       "\n",
       "   taiwanese  wineries  bistros  tex-mex  irish  \n",
       "0          0         0        0        0      0  \n",
       "1          0         0        0        0      0  \n",
       "2          0         0        0        0      0  \n",
       "3          0         0        0        0      0  \n",
       "4          0         0        0        0      0  \n",
       "\n",
       "[5 rows x 100 columns]"
      ]
     },
     "execution_count": 20,
     "metadata": {},
     "output_type": "execute_result"
    }
   ],
   "source": [
    "# Sample of newly created columns based on categorical values\n",
    "business_df[new_features].head()"
   ]
  },
  {
   "cell_type": "code",
   "execution_count": 21,
   "metadata": {},
   "outputs": [
    {
     "data": {
      "text/plain": [
       "(44046, 159)"
      ]
     },
     "execution_count": 21,
     "metadata": {},
     "output_type": "execute_result"
    }
   ],
   "source": [
    "business_df.shape"
   ]
  },
  {
   "cell_type": "markdown",
   "metadata": {},
   "source": [
    "Removed non-food/drinks related businesses reducing from 143,958 to 44,046 businesses (30.6% reduction)"
   ]
  },
  {
   "cell_type": "markdown",
   "metadata": {},
   "source": [
    "### 1.3 Remove columns that are not needed and lowercase all remaining column names\n",
    "- Remove portion of the column name that starts with 'attributes' and 'Restaurants'\n",
    "- Remove hours related columns\n",
    "- Rename PriceRange2 to price\n",
    "- Remove columns that are not needed for the project\n",
    "- Lowercase all column names\n",
    "- Reorder columns"
   ]
  },
  {
   "cell_type": "code",
   "execution_count": 22,
   "metadata": {},
   "outputs": [],
   "source": [
    "# Remove 'attributes.' and 'Restaurants' portion of the column names\n",
    "business_df.columns = business_df.columns.str.replace('attributes.', '')\n",
    "business_df.columns = business_df.columns.str.replace('Restaurants', '')\n",
    "\n",
    "# Remove all hours related columns\n",
    "business_df = business_df.loc[:, ~business_df.columns.str.startswith('hours')]\n",
    "\n",
    "# Rename PriceRange2 to price\n",
    "business_df.rename(columns={'PriceRange2': 'price'}, inplace=True)\n",
    "\n",
    "# Remove columns that are not needed\n",
    "remove_cols = ['attributes', 'BestNights', 'AgesAllowed', 'Attire','ByAppointmentOnly', 'BusinessAcceptsBitcoin', \n",
    "               'DietaryRestrictions','WiFi', 'HasTV', 'BusinessAcceptsCreditCards', 'HairSpecializesIn', \n",
    "               'WheelchairAccessible', 'AcceptsInsurance', 'Reservations', 'CoatCheck', 'BusinessParking', \n",
    "               'Smoking', 'BikeParking','Open24Hours', 'DogsAllowed', 'latitude', 'longitude', 'address', \n",
    "               'postal_code','city']\n",
    "\n",
    "business_df.drop(remove_cols, axis=1, inplace=True)"
   ]
  },
  {
   "cell_type": "code",
   "execution_count": 23,
   "metadata": {},
   "outputs": [],
   "source": [
    "# Lowercase all column names\n",
    "business_df.columns = map(str.lower, business_df.columns)"
   ]
  },
  {
   "cell_type": "code",
   "execution_count": 25,
   "metadata": {},
   "outputs": [
    {
     "data": {
      "text/plain": [
       "Index(['business_id', 'name', 'review_count', 'stars', 'price', 'state',\n",
       "       'is_open', 'caters', 'goodforkids', 'corkage',\n",
       "       ...\n",
       "       'persian/iranian', 'cheese shops', 'shaved ice', 'chicken shop',\n",
       "       'seafood markets', 'taiwanese', 'wineries', 'bistros', 'tex-mex',\n",
       "       'irish'],\n",
       "      dtype='object', length=126)"
      ]
     },
     "execution_count": 25,
     "metadata": {},
     "output_type": "execute_result"
    }
   ],
   "source": [
    "# Reorder columns\n",
    "first_cols = ['business_id', 'name', 'review_count', 'stars', 'price', 'state', 'is_open']\n",
    "last_cols = [col for col in business_df.columns if col not in first_cols]\n",
    "business_df = business_df[first_cols + last_cols]\n",
    "business_df.columns"
   ]
  },
  {
   "cell_type": "markdown",
   "metadata": {},
   "source": [
    "### 1.4 Create new columns based on ambience, music, goodformeal, and noiselevel row values\n",
    "The purpose in creating new columns is to identify each business' ambience type, music, and goodformeal, and noiselevel through encoding.\n",
    "- Fill all NaNs to 0 in ambience, goodformeal, noiseleve, and music columns\n",
    "- Set new columns based on attributes (ex: casual, upscale, trendy, dj, background_music, etc.)"
   ]
  },
  {
   "cell_type": "code",
   "execution_count": 26,
   "metadata": {},
   "outputs": [],
   "source": [
    "# fill all NaNs to 0\n",
    "business_df['ambience'].fillna(0, inplace=True)\n",
    "business_df['ambience'].replace('None', 0, inplace=True)\n",
    "\n",
    "business_df['goodformeal'].fillna(0, inplace=True)\n",
    "business_df['goodformeal'].replace('None', 0, inplace=True)\n",
    "\n",
    "business_df['noiselevel'].fillna(0, inplace=True)\n",
    "business_df['noiselevel'].replace('None', 0, inplace=True)\n",
    "\n",
    "business_df['music'].fillna(0, inplace=True)\n",
    "business_df['music'].replace('None', 0, inplace=True)"
   ]
  },
  {
   "cell_type": "code",
   "execution_count": 27,
   "metadata": {},
   "outputs": [],
   "source": [
    "# Creating columns based on attributes (ex: casual, upscale, trendy, dj, background_music, etc.)\n",
    "attrs = ['ambience', 'goodformeal', 'music']\n",
    "for attr in attrs:\n",
    "    create_attr_columns(business_df, attr)"
   ]
  },
  {
   "cell_type": "code",
   "execution_count": 28,
   "metadata": {},
   "outputs": [],
   "source": [
    "# Remove ambience, goodformeal, noiselevel, and music columns which contains nested json objects\n",
    "business_df.drop(attrs, axis=1, inplace=True)"
   ]
  },
  {
   "cell_type": "markdown",
   "metadata": {},
   "source": [
    "#### Update noiselevel column\n",
    "- Replace current string value to four designated values (quiet, average, loud, very_loud)\n",
    "- Create dummy dataframe around noiselevel column and rename back to simpler column name by removing 'noiselevel'"
   ]
  },
  {
   "cell_type": "code",
   "execution_count": 29,
   "metadata": {},
   "outputs": [
    {
     "data": {
      "text/plain": [
       "array([\"u'quiet'\", 0, \"u'average'\", \"'quiet'\", \"u'loud'\", \"'average'\",\n",
       "       \"'loud'\", \"u'very_loud'\", \"'very_loud'\"], dtype=object)"
      ]
     },
     "execution_count": 29,
     "metadata": {},
     "output_type": "execute_result"
    }
   ],
   "source": [
    "business_df['noiselevel'].unique()"
   ]
  },
  {
   "cell_type": "code",
   "execution_count": 30,
   "metadata": {},
   "outputs": [],
   "source": [
    "# Replacing 0 to average by default and replacing rest of the values\n",
    "replace_values = {\"u'quiet'\": 'quiet', \n",
    "                  \"'quiet'\": 'quiet', \n",
    "                  \"u'average'\": 'average',\n",
    "                  \"'average'\": 'average',\n",
    "                  0: 'average',\n",
    "                  \"u'loud'\": 'loud',\n",
    "                  \"'loud'\": 'loud',\n",
    "                  \"u'very_loud'\": 'very_loud',\n",
    "                  \"'very_loud'\": 'very_loud'\n",
    "                 }\n",
    "business_df = business_df.replace({'noiselevel': replace_values})"
   ]
  },
  {
   "cell_type": "code",
   "execution_count": 31,
   "metadata": {},
   "outputs": [
    {
     "data": {
      "text/plain": [
       "array(['quiet', 'average', 'loud', 'very_loud'], dtype=object)"
      ]
     },
     "execution_count": 31,
     "metadata": {},
     "output_type": "execute_result"
    }
   ],
   "source": [
    "business_df['noiselevel'].unique()"
   ]
  },
  {
   "cell_type": "code",
   "execution_count": 32,
   "metadata": {},
   "outputs": [],
   "source": [
    "# Convert noiselevel values to integers\n",
    "business_df = pd.get_dummies(business_df, columns=['noiselevel'])\n",
    "business_df.rename(columns = {'noiselevel_average' : 'average noise',\n",
    "                  'noiselevel_loud' : 'loud noise',\n",
    "                  'noiselevel_quiet': 'quiet',\n",
    "                  'noiselevel_very_loud' : 'very loud'},\n",
    "                 inplace = True)"
   ]
  },
  {
   "cell_type": "code",
   "execution_count": 33,
   "metadata": {},
   "outputs": [
    {
     "data": {
      "text/plain": [
       "Index(['business_id', 'name', 'review_count', 'stars', 'price', 'state',\n",
       "       'is_open', 'caters', 'goodforkids', 'corkage',\n",
       "       ...\n",
       "       'live', 'jukebox', 'dj', 'background_music', 'karaoke', 'video',\n",
       "       'average noise', 'loud noise', 'quiet', 'very loud'],\n",
       "      dtype='object', length=147)"
      ]
     },
     "execution_count": 33,
     "metadata": {},
     "output_type": "execute_result"
    }
   ],
   "source": [
    "business_df.columns"
   ]
  },
  {
   "cell_type": "code",
   "execution_count": 34,
   "metadata": {},
   "outputs": [
    {
     "data": {
      "text/html": [
       "<div>\n",
       "<style scoped>\n",
       "    .dataframe tbody tr th:only-of-type {\n",
       "        vertical-align: middle;\n",
       "    }\n",
       "\n",
       "    .dataframe tbody tr th {\n",
       "        vertical-align: top;\n",
       "    }\n",
       "\n",
       "    .dataframe thead th {\n",
       "        text-align: right;\n",
       "    }\n",
       "</style>\n",
       "<table border=\"1\" class=\"dataframe\">\n",
       "  <thead>\n",
       "    <tr style=\"text-align: right;\">\n",
       "      <th></th>\n",
       "      <th>quiet</th>\n",
       "      <th>average noise</th>\n",
       "      <th>loud noise</th>\n",
       "      <th>very loud</th>\n",
       "    </tr>\n",
       "  </thead>\n",
       "  <tbody>\n",
       "    <tr>\n",
       "      <th>0</th>\n",
       "      <td>1</td>\n",
       "      <td>0</td>\n",
       "      <td>0</td>\n",
       "      <td>0</td>\n",
       "    </tr>\n",
       "    <tr>\n",
       "      <th>1</th>\n",
       "      <td>0</td>\n",
       "      <td>1</td>\n",
       "      <td>0</td>\n",
       "      <td>0</td>\n",
       "    </tr>\n",
       "    <tr>\n",
       "      <th>2</th>\n",
       "      <td>0</td>\n",
       "      <td>1</td>\n",
       "      <td>0</td>\n",
       "      <td>0</td>\n",
       "    </tr>\n",
       "    <tr>\n",
       "      <th>3</th>\n",
       "      <td>0</td>\n",
       "      <td>1</td>\n",
       "      <td>0</td>\n",
       "      <td>0</td>\n",
       "    </tr>\n",
       "    <tr>\n",
       "      <th>4</th>\n",
       "      <td>0</td>\n",
       "      <td>1</td>\n",
       "      <td>0</td>\n",
       "      <td>0</td>\n",
       "    </tr>\n",
       "  </tbody>\n",
       "</table>\n",
       "</div>"
      ],
      "text/plain": [
       "   quiet  average noise  loud noise  very loud\n",
       "0      1              0           0          0\n",
       "1      0              1           0          0\n",
       "2      0              1           0          0\n",
       "3      0              1           0          0\n",
       "4      0              1           0          0"
      ]
     },
     "execution_count": 34,
     "metadata": {},
     "output_type": "execute_result"
    }
   ],
   "source": [
    "# Sample of noiselevel related columns\n",
    "business_df[['quiet', 'average noise', 'loud noise', 'very loud']].head()"
   ]
  },
  {
   "cell_type": "markdown",
   "metadata": {},
   "source": [
    "### 1.5 Combine Alcohol, Byob, Corkage, and other alcohol related columns into one column as they are related"
   ]
  },
  {
   "cell_type": "code",
   "execution_count": 35,
   "metadata": {},
   "outputs": [
    {
     "data": {
      "text/plain": [
       "array([\"'none'\", \"u'none'\", nan, \"u'beer_and_wine'\", \"u'full_bar'\",\n",
       "       \"'full_bar'\", \"'beer_and_wine'\", 'None'], dtype=object)"
      ]
     },
     "execution_count": 35,
     "metadata": {},
     "output_type": "execute_result"
    }
   ],
   "source": [
    "business_df['alcohol'].unique() # View unique values"
   ]
  },
  {
   "cell_type": "code",
   "execution_count": 36,
   "metadata": {},
   "outputs": [],
   "source": [
    "# Convert with binary values\n",
    "replace_values = {\"'none'\": 0, \"u'none'\": 0}\n",
    "\n",
    "business_df = business_df.replace(replace_values)\n",
    "business_df.loc[business_df['alcohol'] != 0, 'alcohol'] = 1"
   ]
  },
  {
   "cell_type": "code",
   "execution_count": 37,
   "metadata": {},
   "outputs": [],
   "source": [
    "# When one of the alcohol related columns (byob, happyhour, corkage, etc.) are set to true (1) - set Alcohol column as true\n",
    "business_df.loc[(business_df['byobcorkage'] == 1) |\n",
    "                (business_df['happyhour'] == 1) |\n",
    "                (business_df['alcohol'] == 1) |\n",
    "                (business_df['corkage'] == 1) |\n",
    "                (business_df['byob'] == 1), 'alcohol'] = 1"
   ]
  },
  {
   "cell_type": "code",
   "execution_count": 38,
   "metadata": {},
   "outputs": [],
   "source": [
    "# Remove byob, happyhour, corkage, and byobcorkage columns\n",
    "business_df.drop(['byobcorkage', 'happyhour', 'corkage', 'byob'], axis=1, inplace=True)"
   ]
  },
  {
   "cell_type": "markdown",
   "metadata": {},
   "source": [
    "### 1.6 Handling NaNs\n",
    "- Replace NaNs to 0 to all attributes related columns\n",
    "- Fill in missing price based on most similar businesses' average price using cosine similarity\n",
    "- Round the average price between 1 - 5"
   ]
  },
  {
   "cell_type": "code",
   "execution_count": 39,
   "metadata": {},
   "outputs": [
    {
     "data": {
      "text/plain": [
       "business_id        0\n",
       "name               0\n",
       "review_count       0\n",
       "stars              0\n",
       "price           7246\n",
       "state              0\n",
       "is_open            0\n",
       "dtype: int64"
      ]
     },
     "execution_count": 39,
     "metadata": {},
     "output_type": "execute_result"
    }
   ],
   "source": [
    "# Viewing non-attributes related columns for any NaNs\n",
    "business_df.isna().sum()[:7]"
   ]
  },
  {
   "cell_type": "code",
   "execution_count": 43,
   "metadata": {},
   "outputs": [],
   "source": [
    "# Handle NaNs in attributes related columns\n",
    "business_df.iloc[:, 7:] = business_df.iloc[:, 7:].fillna(0) # replace NaNs to 0 to all attributes related columns"
   ]
  },
  {
   "cell_type": "code",
   "execution_count": 44,
   "metadata": {},
   "outputs": [
    {
     "name": "stdout",
     "output_type": "stream",
     "text": [
      "Review count NaNs: 0, Stars NaNs: 0, Price NaNs: 7246\n"
     ]
    }
   ],
   "source": [
    "# Checking NaN count for review_count, stars, and price as those cannot be binary value\n",
    "review_count_nan = business_df.review_count.isna().sum()\n",
    "stars_nan = business_df.stars.isna().sum()\n",
    "price_nan = business_df.price.isna().sum()\n",
    "\n",
    "print(f'Review count NaNs: {review_count_nan}, Stars NaNs: {stars_nan}, Price NaNs: {price_nan}')"
   ]
  },
  {
   "cell_type": "code",
   "execution_count": 45,
   "metadata": {},
   "outputs": [],
   "source": [
    "# Replace 'True', 'None', and 'False' to 1, 0, 0 respectively\n",
    "business_df.replace('True', 1, inplace=True)\n",
    "business_df.replace('None', 0, inplace=True)\n",
    "business_df.replace('False',0, inplace=True)\n",
    "business_df.replace(True, 1, inplace=True)\n",
    "business_df.replace(False, 0, inplace=True)"
   ]
  },
  {
   "cell_type": "markdown",
   "metadata": {},
   "source": [
    "#### 1.6.1 Dealing NaN values in Price column\n",
    "Missing price value is replaced by averaging price from most similar businesses. Most similar businesses are defined using cosine similarity based on businesses' attributes."
   ]
  },
  {
   "cell_type": "code",
   "execution_count": 47,
   "metadata": {},
   "outputs": [],
   "source": [
    "# Replace NaN to 0 in price column\n",
    "business_df['price'] = business_df['price'].fillna(0)\n",
    "\n",
    "# Convert price column from str to int datatype\n",
    "business_df['price'] = business_df['price'].apply(pd.to_numeric)"
   ]
  },
  {
   "cell_type": "code",
   "execution_count": 48,
   "metadata": {},
   "outputs": [
    {
     "data": {
      "text/html": [
       "<div>\n",
       "<style scoped>\n",
       "    .dataframe tbody tr th:only-of-type {\n",
       "        vertical-align: middle;\n",
       "    }\n",
       "\n",
       "    .dataframe tbody tr th {\n",
       "        vertical-align: top;\n",
       "    }\n",
       "\n",
       "    .dataframe thead th {\n",
       "        text-align: right;\n",
       "    }\n",
       "</style>\n",
       "<table border=\"1\" class=\"dataframe\">\n",
       "  <thead>\n",
       "    <tr style=\"text-align: right;\">\n",
       "      <th></th>\n",
       "      <th>caters</th>\n",
       "      <th>goodforkids</th>\n",
       "      <th>alcohol</th>\n",
       "      <th>goodforgroups</th>\n",
       "      <th>tableservice</th>\n",
       "      <th>drivethru</th>\n",
       "      <th>outdoorseating</th>\n",
       "      <th>delivery</th>\n",
       "      <th>takeout</th>\n",
       "      <th>goodfordancing</th>\n",
       "      <th>...</th>\n",
       "      <th>live</th>\n",
       "      <th>jukebox</th>\n",
       "      <th>dj</th>\n",
       "      <th>background_music</th>\n",
       "      <th>karaoke</th>\n",
       "      <th>video</th>\n",
       "      <th>average noise</th>\n",
       "      <th>loud noise</th>\n",
       "      <th>quiet</th>\n",
       "      <th>very loud</th>\n",
       "    </tr>\n",
       "    <tr>\n",
       "      <th>business_id</th>\n",
       "      <th></th>\n",
       "      <th></th>\n",
       "      <th></th>\n",
       "      <th></th>\n",
       "      <th></th>\n",
       "      <th></th>\n",
       "      <th></th>\n",
       "      <th></th>\n",
       "      <th></th>\n",
       "      <th></th>\n",
       "      <th></th>\n",
       "      <th></th>\n",
       "      <th></th>\n",
       "      <th></th>\n",
       "      <th></th>\n",
       "      <th></th>\n",
       "      <th></th>\n",
       "      <th></th>\n",
       "      <th></th>\n",
       "      <th></th>\n",
       "      <th></th>\n",
       "    </tr>\n",
       "  </thead>\n",
       "  <tbody>\n",
       "    <tr>\n",
       "      <th>pQeaRpvuhoEqudo3uymHIQ</th>\n",
       "      <td>0</td>\n",
       "      <td>0</td>\n",
       "      <td>0</td>\n",
       "      <td>0</td>\n",
       "      <td>0</td>\n",
       "      <td>0</td>\n",
       "      <td>0</td>\n",
       "      <td>1</td>\n",
       "      <td>1</td>\n",
       "      <td>0</td>\n",
       "      <td>...</td>\n",
       "      <td>0.0</td>\n",
       "      <td>0.0</td>\n",
       "      <td>0.0</td>\n",
       "      <td>0.0</td>\n",
       "      <td>0.0</td>\n",
       "      <td>0.0</td>\n",
       "      <td>0</td>\n",
       "      <td>0</td>\n",
       "      <td>1</td>\n",
       "      <td>0</td>\n",
       "    </tr>\n",
       "    <tr>\n",
       "      <th>lu7vtrp_bE9PnxWfA8g4Pg</th>\n",
       "      <td>0</td>\n",
       "      <td>1</td>\n",
       "      <td>0</td>\n",
       "      <td>0</td>\n",
       "      <td>0</td>\n",
       "      <td>0</td>\n",
       "      <td>0</td>\n",
       "      <td>1</td>\n",
       "      <td>1</td>\n",
       "      <td>0</td>\n",
       "      <td>...</td>\n",
       "      <td>0.0</td>\n",
       "      <td>0.0</td>\n",
       "      <td>0.0</td>\n",
       "      <td>0.0</td>\n",
       "      <td>0.0</td>\n",
       "      <td>0.0</td>\n",
       "      <td>1</td>\n",
       "      <td>0</td>\n",
       "      <td>0</td>\n",
       "      <td>0</td>\n",
       "    </tr>\n",
       "    <tr>\n",
       "      <th>DCsS3SgVFO56F6wRO_ewgA</th>\n",
       "      <td>0</td>\n",
       "      <td>0</td>\n",
       "      <td>1</td>\n",
       "      <td>0</td>\n",
       "      <td>0</td>\n",
       "      <td>0</td>\n",
       "      <td>0</td>\n",
       "      <td>0</td>\n",
       "      <td>0</td>\n",
       "      <td>0</td>\n",
       "      <td>...</td>\n",
       "      <td>0.0</td>\n",
       "      <td>0.0</td>\n",
       "      <td>0.0</td>\n",
       "      <td>0.0</td>\n",
       "      <td>0.0</td>\n",
       "      <td>0.0</td>\n",
       "      <td>1</td>\n",
       "      <td>0</td>\n",
       "      <td>0</td>\n",
       "      <td>0</td>\n",
       "    </tr>\n",
       "    <tr>\n",
       "      <th>98hyK2QEUeI8v2y0AghfZA</th>\n",
       "      <td>0</td>\n",
       "      <td>0</td>\n",
       "      <td>0</td>\n",
       "      <td>0</td>\n",
       "      <td>1</td>\n",
       "      <td>0</td>\n",
       "      <td>0</td>\n",
       "      <td>1</td>\n",
       "      <td>1</td>\n",
       "      <td>0</td>\n",
       "      <td>...</td>\n",
       "      <td>0.0</td>\n",
       "      <td>0.0</td>\n",
       "      <td>0.0</td>\n",
       "      <td>0.0</td>\n",
       "      <td>0.0</td>\n",
       "      <td>0.0</td>\n",
       "      <td>1</td>\n",
       "      <td>0</td>\n",
       "      <td>0</td>\n",
       "      <td>0</td>\n",
       "    </tr>\n",
       "    <tr>\n",
       "      <th>Mmd5WDFq9hHcQ3uClngGjQ</th>\n",
       "      <td>0</td>\n",
       "      <td>0</td>\n",
       "      <td>1</td>\n",
       "      <td>1</td>\n",
       "      <td>0</td>\n",
       "      <td>0</td>\n",
       "      <td>0</td>\n",
       "      <td>0</td>\n",
       "      <td>0</td>\n",
       "      <td>0</td>\n",
       "      <td>...</td>\n",
       "      <td>1.0</td>\n",
       "      <td>0.0</td>\n",
       "      <td>0.0</td>\n",
       "      <td>0.0</td>\n",
       "      <td>0.0</td>\n",
       "      <td>0.0</td>\n",
       "      <td>1</td>\n",
       "      <td>0</td>\n",
       "      <td>0</td>\n",
       "      <td>0</td>\n",
       "    </tr>\n",
       "  </tbody>\n",
       "</table>\n",
       "<p>5 rows × 136 columns</p>\n",
       "</div>"
      ],
      "text/plain": [
       "                        caters  goodforkids  alcohol  goodforgroups  \\\n",
       "business_id                                                           \n",
       "pQeaRpvuhoEqudo3uymHIQ       0            0        0              0   \n",
       "lu7vtrp_bE9PnxWfA8g4Pg       0            1        0              0   \n",
       "DCsS3SgVFO56F6wRO_ewgA       0            0        1              0   \n",
       "98hyK2QEUeI8v2y0AghfZA       0            0        0              0   \n",
       "Mmd5WDFq9hHcQ3uClngGjQ       0            0        1              1   \n",
       "\n",
       "                        tableservice  drivethru  outdoorseating  delivery  \\\n",
       "business_id                                                                 \n",
       "pQeaRpvuhoEqudo3uymHIQ             0          0               0         1   \n",
       "lu7vtrp_bE9PnxWfA8g4Pg             0          0               0         1   \n",
       "DCsS3SgVFO56F6wRO_ewgA             0          0               0         0   \n",
       "98hyK2QEUeI8v2y0AghfZA             1          0               0         1   \n",
       "Mmd5WDFq9hHcQ3uClngGjQ             0          0               0         0   \n",
       "\n",
       "                        takeout  goodfordancing  ...  live  jukebox   dj  \\\n",
       "business_id                                      ...                       \n",
       "pQeaRpvuhoEqudo3uymHIQ        1               0  ...   0.0      0.0  0.0   \n",
       "lu7vtrp_bE9PnxWfA8g4Pg        1               0  ...   0.0      0.0  0.0   \n",
       "DCsS3SgVFO56F6wRO_ewgA        0               0  ...   0.0      0.0  0.0   \n",
       "98hyK2QEUeI8v2y0AghfZA        1               0  ...   0.0      0.0  0.0   \n",
       "Mmd5WDFq9hHcQ3uClngGjQ        0               0  ...   1.0      0.0  0.0   \n",
       "\n",
       "                        background_music  karaoke  video  average noise  \\\n",
       "business_id                                                               \n",
       "pQeaRpvuhoEqudo3uymHIQ               0.0      0.0    0.0              0   \n",
       "lu7vtrp_bE9PnxWfA8g4Pg               0.0      0.0    0.0              1   \n",
       "DCsS3SgVFO56F6wRO_ewgA               0.0      0.0    0.0              1   \n",
       "98hyK2QEUeI8v2y0AghfZA               0.0      0.0    0.0              1   \n",
       "Mmd5WDFq9hHcQ3uClngGjQ               0.0      0.0    0.0              1   \n",
       "\n",
       "                        loud noise  quiet  very loud  \n",
       "business_id                                           \n",
       "pQeaRpvuhoEqudo3uymHIQ           0      1          0  \n",
       "lu7vtrp_bE9PnxWfA8g4Pg           0      0          0  \n",
       "DCsS3SgVFO56F6wRO_ewgA           0      0          0  \n",
       "98hyK2QEUeI8v2y0AghfZA           0      0          0  \n",
       "Mmd5WDFq9hHcQ3uClngGjQ           0      0          0  \n",
       "\n",
       "[5 rows x 136 columns]"
      ]
     },
     "execution_count": 48,
     "metadata": {},
     "output_type": "execute_result"
    }
   ],
   "source": [
    "from sklearn.metrics.pairwise import cosine_similarity\n",
    "\n",
    "# Get business id column and attributes columns\n",
    "business_ids = business_df['business_id']\n",
    "attributes_df = business_df.iloc[:, 7:]\n",
    "\n",
    "# Creating dataframe for cosine similarity matrix\n",
    "cos_df = pd.concat([business_ids, attributes_df], axis=1) # horizontal stack\n",
    "cos_df.set_index('business_id', inplace=True) # setting business_id column as index\n",
    "cos_df.head()"
   ]
  },
  {
   "cell_type": "code",
   "execution_count": 49,
   "metadata": {},
   "outputs": [
    {
     "data": {
      "text/plain": [
       "(44046, 44046)"
      ]
     },
     "execution_count": 49,
     "metadata": {},
     "output_type": "execute_result"
    }
   ],
   "source": [
    "# Cosine Similarity\n",
    "cos_sim_matrix = cosine_similarity(cos_df, cos_df)\n",
    "cos_sim_matrix.shape"
   ]
  },
  {
   "cell_type": "code",
   "execution_count": 50,
   "metadata": {},
   "outputs": [
    {
     "data": {
      "text/html": [
       "<div>\n",
       "<style scoped>\n",
       "    .dataframe tbody tr th:only-of-type {\n",
       "        vertical-align: middle;\n",
       "    }\n",
       "\n",
       "    .dataframe tbody tr th {\n",
       "        vertical-align: top;\n",
       "    }\n",
       "\n",
       "    .dataframe thead th {\n",
       "        text-align: right;\n",
       "    }\n",
       "</style>\n",
       "<table border=\"1\" class=\"dataframe\">\n",
       "  <thead>\n",
       "    <tr style=\"text-align: right;\">\n",
       "      <th></th>\n",
       "      <th>the empanadas house</th>\n",
       "      <th>banzai sushi</th>\n",
       "      <th>missy donuts &amp; coffee</th>\n",
       "      <th>pho lee's vietnamese restaurant</th>\n",
       "      <th>irene's tap room</th>\n",
       "      <th>lelulos pizzeria</th>\n",
       "      <th>mi mi restaurant</th>\n",
       "      <th>ganga restaurant</th>\n",
       "      <th>scramblers - strongsville</th>\n",
       "      <th>mama napoli pizza</th>\n",
       "      <th>...</th>\n",
       "      <th>galaxy cafe</th>\n",
       "      <th>the notorious pig</th>\n",
       "      <th>the black bull</th>\n",
       "      <th>the original graziano's pizza restaurant</th>\n",
       "      <th>dragon noodle co.</th>\n",
       "      <th>island buffet</th>\n",
       "      <th>yao fine chinese cuisine</th>\n",
       "      <th>steak &amp; cheese &amp; quick pita restaurant</th>\n",
       "      <th>julep</th>\n",
       "      <th>nishi sushi</th>\n",
       "    </tr>\n",
       "  </thead>\n",
       "  <tbody>\n",
       "    <tr>\n",
       "      <th>the empanadas house</th>\n",
       "      <td>1.000000</td>\n",
       "      <td>0.428571</td>\n",
       "      <td>0.000000</td>\n",
       "      <td>0.462910</td>\n",
       "      <td>0.000000</td>\n",
       "      <td>0.571429</td>\n",
       "      <td>0.227921</td>\n",
       "      <td>0.358569</td>\n",
       "      <td>0.239046</td>\n",
       "      <td>0.462910</td>\n",
       "      <td>...</td>\n",
       "      <td>0.436436</td>\n",
       "      <td>0.267261</td>\n",
       "      <td>0.000000</td>\n",
       "      <td>0.341882</td>\n",
       "      <td>0.227921</td>\n",
       "      <td>0.169031</td>\n",
       "      <td>0.218218</td>\n",
       "      <td>0.428571</td>\n",
       "      <td>0.109109</td>\n",
       "      <td>0.400892</td>\n",
       "    </tr>\n",
       "    <tr>\n",
       "      <th>banzai sushi</th>\n",
       "      <td>0.428571</td>\n",
       "      <td>1.000000</td>\n",
       "      <td>0.169031</td>\n",
       "      <td>0.617213</td>\n",
       "      <td>0.142857</td>\n",
       "      <td>0.571429</td>\n",
       "      <td>0.455842</td>\n",
       "      <td>0.478091</td>\n",
       "      <td>0.478091</td>\n",
       "      <td>0.462910</td>\n",
       "      <td>...</td>\n",
       "      <td>0.436436</td>\n",
       "      <td>0.534522</td>\n",
       "      <td>0.125988</td>\n",
       "      <td>0.569803</td>\n",
       "      <td>0.455842</td>\n",
       "      <td>0.338062</td>\n",
       "      <td>0.436436</td>\n",
       "      <td>0.428571</td>\n",
       "      <td>0.218218</td>\n",
       "      <td>0.534522</td>\n",
       "    </tr>\n",
       "    <tr>\n",
       "      <th>missy donuts &amp; coffee</th>\n",
       "      <td>0.000000</td>\n",
       "      <td>0.169031</td>\n",
       "      <td>1.000000</td>\n",
       "      <td>0.182574</td>\n",
       "      <td>0.338062</td>\n",
       "      <td>0.000000</td>\n",
       "      <td>0.269680</td>\n",
       "      <td>0.282843</td>\n",
       "      <td>0.141421</td>\n",
       "      <td>0.365148</td>\n",
       "      <td>...</td>\n",
       "      <td>0.129099</td>\n",
       "      <td>0.316228</td>\n",
       "      <td>0.298142</td>\n",
       "      <td>0.269680</td>\n",
       "      <td>0.269680</td>\n",
       "      <td>0.400000</td>\n",
       "      <td>0.258199</td>\n",
       "      <td>0.000000</td>\n",
       "      <td>0.258199</td>\n",
       "      <td>0.158114</td>\n",
       "    </tr>\n",
       "    <tr>\n",
       "      <th>pho lee's vietnamese restaurant</th>\n",
       "      <td>0.462910</td>\n",
       "      <td>0.617213</td>\n",
       "      <td>0.182574</td>\n",
       "      <td>1.000000</td>\n",
       "      <td>0.154303</td>\n",
       "      <td>0.462910</td>\n",
       "      <td>0.615457</td>\n",
       "      <td>0.645497</td>\n",
       "      <td>0.387298</td>\n",
       "      <td>0.500000</td>\n",
       "      <td>...</td>\n",
       "      <td>0.353553</td>\n",
       "      <td>0.433013</td>\n",
       "      <td>0.136083</td>\n",
       "      <td>0.492366</td>\n",
       "      <td>0.492366</td>\n",
       "      <td>0.365148</td>\n",
       "      <td>0.471405</td>\n",
       "      <td>0.308607</td>\n",
       "      <td>0.353553</td>\n",
       "      <td>0.288675</td>\n",
       "    </tr>\n",
       "    <tr>\n",
       "      <th>irene's tap room</th>\n",
       "      <td>0.000000</td>\n",
       "      <td>0.142857</td>\n",
       "      <td>0.338062</td>\n",
       "      <td>0.154303</td>\n",
       "      <td>1.000000</td>\n",
       "      <td>0.142857</td>\n",
       "      <td>0.455842</td>\n",
       "      <td>0.239046</td>\n",
       "      <td>0.239046</td>\n",
       "      <td>0.308607</td>\n",
       "      <td>...</td>\n",
       "      <td>0.218218</td>\n",
       "      <td>0.400892</td>\n",
       "      <td>0.755929</td>\n",
       "      <td>0.455842</td>\n",
       "      <td>0.455842</td>\n",
       "      <td>0.507093</td>\n",
       "      <td>0.436436</td>\n",
       "      <td>0.285714</td>\n",
       "      <td>0.545545</td>\n",
       "      <td>0.267261</td>\n",
       "    </tr>\n",
       "  </tbody>\n",
       "</table>\n",
       "<p>5 rows × 44046 columns</p>\n",
       "</div>"
      ],
      "text/plain": [
       "                                 the empanadas house  banzai sushi  \\\n",
       "the empanadas house                         1.000000      0.428571   \n",
       "banzai sushi                                0.428571      1.000000   \n",
       "missy donuts & coffee                       0.000000      0.169031   \n",
       "pho lee's vietnamese restaurant             0.462910      0.617213   \n",
       "irene's tap room                            0.000000      0.142857   \n",
       "\n",
       "                                 missy donuts & coffee  \\\n",
       "the empanadas house                           0.000000   \n",
       "banzai sushi                                  0.169031   \n",
       "missy donuts & coffee                         1.000000   \n",
       "pho lee's vietnamese restaurant               0.182574   \n",
       "irene's tap room                              0.338062   \n",
       "\n",
       "                                 pho lee's vietnamese restaurant  \\\n",
       "the empanadas house                                     0.462910   \n",
       "banzai sushi                                            0.617213   \n",
       "missy donuts & coffee                                   0.182574   \n",
       "pho lee's vietnamese restaurant                         1.000000   \n",
       "irene's tap room                                        0.154303   \n",
       "\n",
       "                                 irene's tap room  lelulos pizzeria  \\\n",
       "the empanadas house                      0.000000          0.571429   \n",
       "banzai sushi                             0.142857          0.571429   \n",
       "missy donuts & coffee                    0.338062          0.000000   \n",
       "pho lee's vietnamese restaurant          0.154303          0.462910   \n",
       "irene's tap room                         1.000000          0.142857   \n",
       "\n",
       "                                 mi mi restaurant  ganga restaurant  \\\n",
       "the empanadas house                      0.227921          0.358569   \n",
       "banzai sushi                             0.455842          0.478091   \n",
       "missy donuts & coffee                    0.269680          0.282843   \n",
       "pho lee's vietnamese restaurant          0.615457          0.645497   \n",
       "irene's tap room                         0.455842          0.239046   \n",
       "\n",
       "                                 scramblers - strongsville  mama napoli pizza  \\\n",
       "the empanadas house                               0.239046           0.462910   \n",
       "banzai sushi                                      0.478091           0.462910   \n",
       "missy donuts & coffee                             0.141421           0.365148   \n",
       "pho lee's vietnamese restaurant                   0.387298           0.500000   \n",
       "irene's tap room                                  0.239046           0.308607   \n",
       "\n",
       "                                 ...  galaxy cafe  the notorious pig  \\\n",
       "the empanadas house              ...     0.436436           0.267261   \n",
       "banzai sushi                     ...     0.436436           0.534522   \n",
       "missy donuts & coffee            ...     0.129099           0.316228   \n",
       "pho lee's vietnamese restaurant  ...     0.353553           0.433013   \n",
       "irene's tap room                 ...     0.218218           0.400892   \n",
       "\n",
       "                                 the black bull  \\\n",
       "the empanadas house                    0.000000   \n",
       "banzai sushi                           0.125988   \n",
       "missy donuts & coffee                  0.298142   \n",
       "pho lee's vietnamese restaurant        0.136083   \n",
       "irene's tap room                       0.755929   \n",
       "\n",
       "                                 the original graziano's pizza restaurant  \\\n",
       "the empanadas house                                              0.341882   \n",
       "banzai sushi                                                     0.569803   \n",
       "missy donuts & coffee                                            0.269680   \n",
       "pho lee's vietnamese restaurant                                  0.492366   \n",
       "irene's tap room                                                 0.455842   \n",
       "\n",
       "                                 dragon noodle co.  island buffet  \\\n",
       "the empanadas house                       0.227921       0.169031   \n",
       "banzai sushi                              0.455842       0.338062   \n",
       "missy donuts & coffee                     0.269680       0.400000   \n",
       "pho lee's vietnamese restaurant           0.492366       0.365148   \n",
       "irene's tap room                          0.455842       0.507093   \n",
       "\n",
       "                                 yao fine chinese cuisine  \\\n",
       "the empanadas house                              0.218218   \n",
       "banzai sushi                                     0.436436   \n",
       "missy donuts & coffee                            0.258199   \n",
       "pho lee's vietnamese restaurant                  0.471405   \n",
       "irene's tap room                                 0.436436   \n",
       "\n",
       "                                 steak & cheese & quick pita restaurant  \\\n",
       "the empanadas house                                            0.428571   \n",
       "banzai sushi                                                   0.428571   \n",
       "missy donuts & coffee                                          0.000000   \n",
       "pho lee's vietnamese restaurant                                0.308607   \n",
       "irene's tap room                                               0.285714   \n",
       "\n",
       "                                    julep  nishi sushi  \n",
       "the empanadas house              0.109109     0.400892  \n",
       "banzai sushi                     0.218218     0.534522  \n",
       "missy donuts & coffee            0.258199     0.158114  \n",
       "pho lee's vietnamese restaurant  0.353553     0.288675  \n",
       "irene's tap room                 0.545545     0.267261  \n",
       "\n",
       "[5 rows x 44046 columns]"
      ]
     },
     "execution_count": 50,
     "metadata": {},
     "output_type": "execute_result"
    }
   ],
   "source": [
    "biz_matrix_df = pd.DataFrame(data=cos_sim_matrix, index=business_df['name'].values, columns=business_df['name'].values)\n",
    "biz_matrix_df.head()"
   ]
  },
  {
   "cell_type": "markdown",
   "metadata": {},
   "source": [
    "#### 1.6.2 Fill in missing price based on most similar businesses' average price using cosine similarity\n",
    "The list below shows similar businesses to 'Mama Napoli Pizza' based on business attributes, with this information, I will replace missing price value with average price range using top 10 most similar businesses' price values."
   ]
  },
  {
   "cell_type": "code",
   "execution_count": 51,
   "metadata": {},
   "outputs": [
    {
     "data": {
      "text/plain": [
       "Index(['killer b’s', 'pizza plus', '900 degree pizza',\n",
       "       'dépanneur nouveau forum', 'dani's pizzeria', 'papa john' pizza',\n",
       "       'a pizza 555', 'za pizza bistro adelaide',\n",
       "       'triple triple pizza & chicken'],\n",
       "      dtype='object')"
      ]
     },
     "execution_count": 51,
     "metadata": {},
     "output_type": "execute_result"
    }
   ],
   "source": [
    "biz_matrix_df['mama napoli pizza'].sort_values(ascending=False)[1:10].index"
   ]
  },
  {
   "cell_type": "code",
   "execution_count": 54,
   "metadata": {},
   "outputs": [],
   "source": [
    "# Get businesses without price values\n",
    "businesses = business_df[business_df['price'] == 0]['name'].reset_index(drop=True)\n",
    "\n",
    "for business in businesses:\n",
    "\n",
    "    # Find top ten businesses that are most similar to the business based on attributes\n",
    "    similar_businesses = biz_matrix_df[business]\n",
    "    similar_businesses = similar_businesses.sort_values(ascending=False)[1:50].index\n",
    "        \n",
    "    avg_price = 0\n",
    "    i = 0\n",
    "    \n",
    "    # Loop over similar businesses\n",
    "    for sim_business in similar_businesses:\n",
    "        \n",
    "        # Get price per restaurant\n",
    "        price = business_df.loc[business_df['name'] == sim_business, 'price'].values[0]\n",
    "        \n",
    "        # When price exist and 10 businesses with price values is not looped - add price\n",
    "        if i == 10:\n",
    "            break\n",
    "            \n",
    "        if price != 0:\n",
    "            avg_price += price\n",
    "            i += 1\n",
    "            \n",
    "    # Set price value based on average price value accumulated from most similar businesses\n",
    "    business_df.loc[business_df['name'] == business, 'price'] = round(avg_price / i, 2)"
   ]
  },
  {
   "cell_type": "code",
   "execution_count": 55,
   "metadata": {},
   "outputs": [
    {
     "data": {
      "text/plain": [
       "array([1.  , 1.17, 1.5 , 1.75, 2.  , 1.57, 2.38, 1.44, 3.  , 2.22, 4.  ,\n",
       "       1.8 , 2.13, 1.67, 1.9 , 1.81, 2.05, 1.29, 1.43, 2.18, 2.09, 1.33,\n",
       "       1.59, 1.86, 2.67, 2.14, 1.83, 2.12, 1.6 , 2.69, 1.73, 1.82, 2.5 ,\n",
       "       1.78, 1.92, 1.11, 1.91, 2.06, 2.17, 1.39, 1.71, 2.2 , 1.36, 1.3 ,\n",
       "       1.65, 1.94, 1.27, 2.56, 1.08, 1.47, 1.62, 1.55, 1.58, 2.25, 1.46,\n",
       "       1.88, 1.56, 1.4 , 2.15, 1.31, 1.87, 2.08, 1.85, 1.77, 1.93, 1.14,\n",
       "       2.7 , 1.66, 2.33, 3.13, 2.3 , 2.16, 2.1 , 1.7 , 2.4 , 2.02, 1.22,\n",
       "       1.2 , 2.45, 2.48, 1.72, 1.61, 2.43, 1.63, 1.84, 1.99, 1.79, 1.35,\n",
       "       1.45, 3.1 , 2.35, 2.01, 2.44, 2.8 , 2.62, 2.41, 1.38, 1.26, 2.34,\n",
       "       2.11, 1.34, 2.6 , 1.98, 1.76, 3.15, 1.53, 2.23, 1.68, 1.41, 2.27,\n",
       "       1.24, 2.21, 2.58, 1.49, 2.42, 2.47, 2.87, 2.46, 1.42, 1.64, 2.39,\n",
       "       1.69, 1.1 , 2.32, 1.95, 1.37, 1.89, 1.52, 2.71, 1.54, 1.48, 1.25,\n",
       "       1.28, 1.97, 2.03, 2.86, 1.04, 1.96, 2.9 , 1.23, 1.19, 2.26, 1.13,\n",
       "       2.53, 1.21, 1.32, 2.07, 2.64, 2.04, 2.79, 2.24, 2.36, 1.12, 1.51,\n",
       "       2.28, 1.74, 3.06, 2.19, 2.31, 2.59, 3.4 , 1.18, 1.07, 2.65, 2.51,\n",
       "       2.97, 1.06, 2.29, 2.55, 3.11, 2.95, 2.93, 3.2 , 2.57, 2.49, 3.12,\n",
       "       1.01, 1.15, 1.02, 2.78, 2.61, 2.54, 2.68, 2.52, 2.88, 2.74, 1.03,\n",
       "       2.37, 1.16, 1.09, 2.75, 2.63, 3.24, 2.76, 2.77, 2.66, 2.72, 2.82,\n",
       "       2.83, 2.73, 2.85, 3.07, 2.91, 2.92, 2.89, 1.05, 3.08, 3.04, 2.84,\n",
       "       2.98, 2.96])"
      ]
     },
     "execution_count": 55,
     "metadata": {},
     "output_type": "execute_result"
    }
   ],
   "source": [
    "# Double check to make sure there aren't 0 values in price column\n",
    "business_df.price.unique()"
   ]
  },
  {
   "cell_type": "markdown",
   "metadata": {},
   "source": [
    "#### 1.6.3 Round the average price between 1 - 4\n",
    "For ensure price is between 1-4, round the price value to ensure uniformity."
   ]
  },
  {
   "cell_type": "code",
   "execution_count": 56,
   "metadata": {},
   "outputs": [],
   "source": [
    "business_df.loc[(business_df['price'] >= 1) & (business_df['price'] < 1.5), 'price'] = 1\n",
    "business_df.loc[(business_df['price'] >= 1.5) & (business_df['price'] < 2), 'price'] = 2\n",
    "business_df.loc[(business_df['price'] >= 2) & (business_df['price'] < 2.5), 'price'] = 2\n",
    "business_df.loc[(business_df['price'] >= 2.5) & (business_df['price'] < 3), 'price'] = 3\n",
    "business_df.loc[(business_df['price'] >= 3) & (business_df['price'] < 3.5), 'price'] = 3\n",
    "business_df.loc[(business_df['price'] >= 3.5), 'price'] = 4"
   ]
  },
  {
   "cell_type": "code",
   "execution_count": 57,
   "metadata": {},
   "outputs": [
    {
     "data": {
      "text/plain": [
       "array([1., 2., 3., 4.])"
      ]
     },
     "execution_count": 57,
     "metadata": {},
     "output_type": "execute_result"
    }
   ],
   "source": [
    "# Double check to make sure there aren't 0 values in price column\n",
    "business_df.price.unique()"
   ]
  },
  {
   "cell_type": "code",
   "execution_count": 58,
   "metadata": {},
   "outputs": [
    {
     "data": {
      "text/html": [
       "<div>\n",
       "<style scoped>\n",
       "    .dataframe tbody tr th:only-of-type {\n",
       "        vertical-align: middle;\n",
       "    }\n",
       "\n",
       "    .dataframe tbody tr th {\n",
       "        vertical-align: top;\n",
       "    }\n",
       "\n",
       "    .dataframe thead th {\n",
       "        text-align: right;\n",
       "    }\n",
       "</style>\n",
       "<table border=\"1\" class=\"dataframe\">\n",
       "  <thead>\n",
       "    <tr style=\"text-align: right;\">\n",
       "      <th></th>\n",
       "      <th>business_id</th>\n",
       "      <th>name</th>\n",
       "      <th>review_count</th>\n",
       "      <th>stars</th>\n",
       "      <th>price</th>\n",
       "      <th>state</th>\n",
       "      <th>is_open</th>\n",
       "      <th>caters</th>\n",
       "      <th>goodforkids</th>\n",
       "      <th>alcohol</th>\n",
       "      <th>...</th>\n",
       "      <th>live</th>\n",
       "      <th>jukebox</th>\n",
       "      <th>dj</th>\n",
       "      <th>background_music</th>\n",
       "      <th>karaoke</th>\n",
       "      <th>video</th>\n",
       "      <th>average noise</th>\n",
       "      <th>loud noise</th>\n",
       "      <th>quiet</th>\n",
       "      <th>very loud</th>\n",
       "    </tr>\n",
       "  </thead>\n",
       "  <tbody>\n",
       "  </tbody>\n",
       "</table>\n",
       "<p>0 rows × 143 columns</p>\n",
       "</div>"
      ],
      "text/plain": [
       "Empty DataFrame\n",
       "Columns: [business_id, name, review_count, stars, price, state, is_open, caters, goodforkids, alcohol, goodforgroups, tableservice, drivethru, outdoorseating, delivery, takeout, goodfordancing, counterservice, restaurants, nightlife, bars, american (traditional), pizza, coffee & tea, breakfast & brunch, american (new), sandwiches, specialty food, chinese, italian, mexican, bakeries, cafes, hotels, desserts, burgers, japanese, seafood, pubs, sushi bars, beer, wine & spirits, sports bars, asian fusion, ice cream & frozen yogurt, mediterranean, canadian (new), barbeque, indian, salad, cocktail bars, thai, vietnamese, fast food, wine bars, steakhouses, delis, juice bars & smoothies, french, chicken wings, food trucks, diners, vegetarian, ethnic food, greek, korean, dance clubs, vegan, food delivery services, dive bars, buffets, caribbean, gastropubs, latin american, comfort food, halal, breweries, tapas/small plates, gluten-free, beer bar, hot dogs, noodles, bubble tea, tapas bars, pakistani, farmers market, southern, food stands, tea rooms, soul food, fruits & veggies, hookah bars, dim sum, donuts, tacos, bagels, fish & chips, cupcakes, ramen, candy stores, ...]\n",
       "Index: []\n",
       "\n",
       "[0 rows x 143 columns]"
      ]
     },
     "execution_count": 58,
     "metadata": {},
     "output_type": "execute_result"
    }
   ],
   "source": [
    "# Validating all rows are free from NaNs\n",
    "business_df[business_df.isnull().any(axis=1)]"
   ]
  },
  {
   "cell_type": "markdown",
   "metadata": {},
   "source": [
    "## 1.7 Create adjusted star rating\n",
    "One restaurant having average star rating of 5 stars with 2 reviews and other restaurant with 3.5 with 100+ reviews are not the same representation, therefore, we need to adjust star ratings by number of ratings it has and set dumping strength of 20, which is the 50% quantile of the review counts for all businesses"
   ]
  },
  {
   "cell_type": "code",
   "execution_count": 75,
   "metadata": {},
   "outputs": [
    {
     "data": {
      "text/plain": [
       "0        3.69\n",
       "1        3.72\n",
       "2        3.20\n",
       "3        3.82\n",
       "4        3.92\n",
       "         ... \n",
       "44041    2.81\n",
       "44042    3.97\n",
       "44043    2.79\n",
       "44044    3.93\n",
       "44045    3.69\n",
       "Name: adjusted_stars, Length: 44046, dtype: float64"
      ]
     },
     "execution_count": 75,
     "metadata": {},
     "output_type": "execute_result"
    }
   ],
   "source": [
    "# Get 50% quantile value of the review count column\n",
    "s = business_df['review_count'].quantile(q=0.5)\n",
    "\n",
    "mean = ((business_df['stars'] * business_df['review_count']).sum())/(business_df['review_count'].sum())\n",
    "business_df['adjusted_stars'] = round((business_df['review_count'] * business_df['stars'] + s * mean)/(business_df['review_count'] + s),2)\n",
    "business_df['adjusted_stars']"
   ]
  },
  {
   "cell_type": "code",
   "execution_count": 77,
   "metadata": {},
   "outputs": [
    {
     "data": {
      "text/plain": [
       "Index(['business_id', 'name', 'review_count', 'stars', 'price', 'state',\n",
       "       'is_open', 'caters', 'goodforkids', 'alcohol',\n",
       "       ...\n",
       "       'jukebox', 'dj', 'background_music', 'karaoke', 'video',\n",
       "       'average noise', 'loud noise', 'quiet', 'very loud', 'adjusted_stars'],\n",
       "      dtype='object', length=144)"
      ]
     },
     "execution_count": 77,
     "metadata": {},
     "output_type": "execute_result"
    }
   ],
   "source": [
    "# Clean business dataframe\n",
    "business_df.columns"
   ]
  },
  {
   "cell_type": "code",
   "execution_count": 80,
   "metadata": {},
   "outputs": [
    {
     "data": {
      "text/plain": [
       "Index(['business_id', 'name', 'review_count', 'stars', 'adjusted_stars',\n",
       "       'price', 'state', 'is_open', 'caters', 'goodforkids',\n",
       "       ...\n",
       "       'live', 'jukebox', 'dj', 'background_music', 'karaoke', 'video',\n",
       "       'average noise', 'loud noise', 'quiet', 'very loud'],\n",
       "      dtype='object', length=144)"
      ]
     },
     "execution_count": 80,
     "metadata": {},
     "output_type": "execute_result"
    }
   ],
   "source": [
    "# Reorder columns\n",
    "first_cols = ['business_id', 'name', 'review_count', 'stars', 'adjusted_stars', 'price', 'state', 'is_open']\n",
    "last_cols = [col for col in business_df.columns if col not in first_cols]\n",
    "business_df = business_df[first_cols + last_cols]\n",
    "business_df.columns"
   ]
  },
  {
   "cell_type": "code",
   "execution_count": 81,
   "metadata": {},
   "outputs": [
    {
     "data": {
      "text/html": [
       "<div>\n",
       "<style scoped>\n",
       "    .dataframe tbody tr th:only-of-type {\n",
       "        vertical-align: middle;\n",
       "    }\n",
       "\n",
       "    .dataframe tbody tr th {\n",
       "        vertical-align: top;\n",
       "    }\n",
       "\n",
       "    .dataframe thead th {\n",
       "        text-align: right;\n",
       "    }\n",
       "</style>\n",
       "<table border=\"1\" class=\"dataframe\">\n",
       "  <thead>\n",
       "    <tr style=\"text-align: right;\">\n",
       "      <th></th>\n",
       "      <th>business_id</th>\n",
       "      <th>name</th>\n",
       "      <th>review_count</th>\n",
       "      <th>stars</th>\n",
       "      <th>adjusted_stars</th>\n",
       "      <th>price</th>\n",
       "      <th>state</th>\n",
       "      <th>is_open</th>\n",
       "      <th>caters</th>\n",
       "      <th>goodforkids</th>\n",
       "      <th>...</th>\n",
       "      <th>live</th>\n",
       "      <th>jukebox</th>\n",
       "      <th>dj</th>\n",
       "      <th>background_music</th>\n",
       "      <th>karaoke</th>\n",
       "      <th>video</th>\n",
       "      <th>average noise</th>\n",
       "      <th>loud noise</th>\n",
       "      <th>quiet</th>\n",
       "      <th>very loud</th>\n",
       "    </tr>\n",
       "  </thead>\n",
       "  <tbody>\n",
       "    <tr>\n",
       "      <th>0</th>\n",
       "      <td>pQeaRpvuhoEqudo3uymHIQ</td>\n",
       "      <td>the empanadas house</td>\n",
       "      <td>5</td>\n",
       "      <td>4</td>\n",
       "      <td>3.69</td>\n",
       "      <td>1.0</td>\n",
       "      <td>IL</td>\n",
       "      <td>1</td>\n",
       "      <td>0</td>\n",
       "      <td>0</td>\n",
       "      <td>...</td>\n",
       "      <td>0.0</td>\n",
       "      <td>0.0</td>\n",
       "      <td>0.0</td>\n",
       "      <td>0.0</td>\n",
       "      <td>0.0</td>\n",
       "      <td>0.0</td>\n",
       "      <td>0</td>\n",
       "      <td>0</td>\n",
       "      <td>1</td>\n",
       "      <td>0</td>\n",
       "    </tr>\n",
       "    <tr>\n",
       "      <th>1</th>\n",
       "      <td>lu7vtrp_bE9PnxWfA8g4Pg</td>\n",
       "      <td>banzai sushi</td>\n",
       "      <td>7</td>\n",
       "      <td>4</td>\n",
       "      <td>3.72</td>\n",
       "      <td>1.0</td>\n",
       "      <td>ON</td>\n",
       "      <td>1</td>\n",
       "      <td>0</td>\n",
       "      <td>1</td>\n",
       "      <td>...</td>\n",
       "      <td>0.0</td>\n",
       "      <td>0.0</td>\n",
       "      <td>0.0</td>\n",
       "      <td>0.0</td>\n",
       "      <td>0.0</td>\n",
       "      <td>0.0</td>\n",
       "      <td>1</td>\n",
       "      <td>0</td>\n",
       "      <td>0</td>\n",
       "      <td>0</td>\n",
       "    </tr>\n",
       "    <tr>\n",
       "      <th>2</th>\n",
       "      <td>DCsS3SgVFO56F6wRO_ewgA</td>\n",
       "      <td>missy donuts &amp; coffee</td>\n",
       "      <td>7</td>\n",
       "      <td>2</td>\n",
       "      <td>3.20</td>\n",
       "      <td>1.0</td>\n",
       "      <td>AZ</td>\n",
       "      <td>0</td>\n",
       "      <td>0</td>\n",
       "      <td>0</td>\n",
       "      <td>...</td>\n",
       "      <td>0.0</td>\n",
       "      <td>0.0</td>\n",
       "      <td>0.0</td>\n",
       "      <td>0.0</td>\n",
       "      <td>0.0</td>\n",
       "      <td>0.0</td>\n",
       "      <td>1</td>\n",
       "      <td>0</td>\n",
       "      <td>0</td>\n",
       "      <td>0</td>\n",
       "    </tr>\n",
       "    <tr>\n",
       "      <th>3</th>\n",
       "      <td>98hyK2QEUeI8v2y0AghfZA</td>\n",
       "      <td>pho lee's vietnamese restaurant</td>\n",
       "      <td>23</td>\n",
       "      <td>4</td>\n",
       "      <td>3.82</td>\n",
       "      <td>2.0</td>\n",
       "      <td>OH</td>\n",
       "      <td>1</td>\n",
       "      <td>0</td>\n",
       "      <td>0</td>\n",
       "      <td>...</td>\n",
       "      <td>0.0</td>\n",
       "      <td>0.0</td>\n",
       "      <td>0.0</td>\n",
       "      <td>0.0</td>\n",
       "      <td>0.0</td>\n",
       "      <td>0.0</td>\n",
       "      <td>1</td>\n",
       "      <td>0</td>\n",
       "      <td>0</td>\n",
       "      <td>0</td>\n",
       "    </tr>\n",
       "    <tr>\n",
       "      <th>4</th>\n",
       "      <td>Mmd5WDFq9hHcQ3uClngGjQ</td>\n",
       "      <td>irene's tap room</td>\n",
       "      <td>79</td>\n",
       "      <td>4</td>\n",
       "      <td>3.92</td>\n",
       "      <td>2.0</td>\n",
       "      <td>AZ</td>\n",
       "      <td>1</td>\n",
       "      <td>0</td>\n",
       "      <td>0</td>\n",
       "      <td>...</td>\n",
       "      <td>1.0</td>\n",
       "      <td>0.0</td>\n",
       "      <td>0.0</td>\n",
       "      <td>0.0</td>\n",
       "      <td>0.0</td>\n",
       "      <td>0.0</td>\n",
       "      <td>1</td>\n",
       "      <td>0</td>\n",
       "      <td>0</td>\n",
       "      <td>0</td>\n",
       "    </tr>\n",
       "  </tbody>\n",
       "</table>\n",
       "<p>5 rows × 144 columns</p>\n",
       "</div>"
      ],
      "text/plain": [
       "              business_id                             name  review_count  \\\n",
       "0  pQeaRpvuhoEqudo3uymHIQ              the empanadas house             5   \n",
       "1  lu7vtrp_bE9PnxWfA8g4Pg                     banzai sushi             7   \n",
       "2  DCsS3SgVFO56F6wRO_ewgA            missy donuts & coffee             7   \n",
       "3  98hyK2QEUeI8v2y0AghfZA  pho lee's vietnamese restaurant            23   \n",
       "4  Mmd5WDFq9hHcQ3uClngGjQ                 irene's tap room            79   \n",
       "\n",
       "   stars  adjusted_stars  price state  is_open  caters  goodforkids  ...  \\\n",
       "0      4            3.69    1.0    IL        1       0            0  ...   \n",
       "1      4            3.72    1.0    ON        1       0            1  ...   \n",
       "2      2            3.20    1.0    AZ        0       0            0  ...   \n",
       "3      4            3.82    2.0    OH        1       0            0  ...   \n",
       "4      4            3.92    2.0    AZ        1       0            0  ...   \n",
       "\n",
       "   live  jukebox   dj  background_music  karaoke  video  average noise  \\\n",
       "0   0.0      0.0  0.0               0.0      0.0    0.0              0   \n",
       "1   0.0      0.0  0.0               0.0      0.0    0.0              1   \n",
       "2   0.0      0.0  0.0               0.0      0.0    0.0              1   \n",
       "3   0.0      0.0  0.0               0.0      0.0    0.0              1   \n",
       "4   1.0      0.0  0.0               0.0      0.0    0.0              1   \n",
       "\n",
       "   loud noise  quiet  very loud  \n",
       "0           0      1          0  \n",
       "1           0      0          0  \n",
       "2           0      0          0  \n",
       "3           0      0          0  \n",
       "4           0      0          0  \n",
       "\n",
       "[5 rows x 144 columns]"
      ]
     },
     "execution_count": 81,
     "metadata": {},
     "output_type": "execute_result"
    }
   ],
   "source": [
    "business_df.head()"
   ]
  },
  {
   "cell_type": "markdown",
   "metadata": {},
   "source": [
    "###### Summary of Business Dataset\n",
    "1. Filtered business dataset to only populate hospitality related businesses (restaurants, clubs, bars, etc.).\n",
    "2. Removed businesses that were missing both attributes and categories values as those will be essential for feature engineering.\n",
    "3. Removed multi-unit restaurants such as chain restaurants as this project is concerned with single-unit businesses.\n",
    "4. Used categories and attributes data to identify restaurants' characteristics and what type of food/cuisine they are serving.\n",
    "5. Used cosine similarity amongst businesses to fill in missing price range.\n",
    "6. Removed columns that were not needed such as address, city, state, and etc.\n",
    "7. Increase column size from 60 to 144 columns\n",
    "8. Adjusted average star rating to have better representation at the same scale. For instance, one restaurant with 5 stars rating with 2 reviews is not same as other restaurant with 3.5 stars with 100+ reviews.\n",
    "8. Reduced business dataset from 209393 to 44046 rows."
   ]
  },
  {
   "cell_type": "markdown",
   "metadata": {},
   "source": [
    "## 2) Cleaning Review Dataset\n",
    "1. Filter review dataset by business id using business.csv\n",
    "2. Find and replace null values if any\n",
    "3. Define review as positive (1) or negative (0) based on user's average star rating"
   ]
  },
  {
   "cell_type": "code",
   "execution_count": 82,
   "metadata": {},
   "outputs": [
    {
     "name": "stdout",
     "output_type": "stream",
     "text": [
      "<class 'pandas.core.frame.DataFrame'>\n",
      "RangeIndex: 8021122 entries, 0 to 8021121\n",
      "Data columns (total 9 columns):\n",
      " #   Column       Dtype  \n",
      "---  ------       -----  \n",
      " 0   funny        int64  \n",
      " 1   review_id    object \n",
      " 2   useful       int64  \n",
      " 3   date         object \n",
      " 4   business_id  object \n",
      " 5   text         object \n",
      " 6   cool         int64  \n",
      " 7   stars        float64\n",
      " 8   user_id      object \n",
      "dtypes: float64(1), int64(3), object(5)\n",
      "memory usage: 550.8+ MB\n"
     ]
    }
   ],
   "source": [
    "review_df.info()"
   ]
  },
  {
   "cell_type": "code",
   "execution_count": 89,
   "metadata": {},
   "outputs": [],
   "source": [
    "# Convert text column to string datatype\n",
    "review_df['text'] = review_df['text'].astype(\"string\")"
   ]
  },
  {
   "cell_type": "markdown",
   "metadata": {},
   "source": [
    "### 2.1 Filter review dataset by business id\n",
    "- Remove all reviews that are not not associated with businesses in business dataframe"
   ]
  },
  {
   "cell_type": "code",
   "execution_count": 91,
   "metadata": {},
   "outputs": [],
   "source": [
    "# Get reviews that are in business dataframe\n",
    "m = review_df['business_id'].isin(business_df['business_id'])\n",
    "review_df = review_df[m].reset_index(drop=True)"
   ]
  },
  {
   "cell_type": "code",
   "execution_count": 92,
   "metadata": {},
   "outputs": [
    {
     "data": {
      "text/plain": [
       "(3270132, 9)"
      ]
     },
     "execution_count": 92,
     "metadata": {},
     "output_type": "execute_result"
    }
   ],
   "source": [
    "review_df.shape"
   ]
  },
  {
   "cell_type": "markdown",
   "metadata": {},
   "source": [
    "### 2.2 Remove NaNs"
   ]
  },
  {
   "cell_type": "code",
   "execution_count": 94,
   "metadata": {},
   "outputs": [
    {
     "data": {
      "text/plain": [
       "funny          0\n",
       "review_id      0\n",
       "useful         0\n",
       "date           0\n",
       "business_id    0\n",
       "text           0\n",
       "cool           0\n",
       "stars          0\n",
       "user_id        0\n",
       "dtype: int64"
      ]
     },
     "execution_count": 94,
     "metadata": {},
     "output_type": "execute_result"
    }
   ],
   "source": [
    "review_df.isna().sum()"
   ]
  },
  {
   "cell_type": "markdown",
   "metadata": {},
   "source": [
    "### 2.3 Define positive and negative reviews based on user average rating\n",
    "Every user rates differently and star ratings can be subjective; therefore, to minimize subjectivity, I am defining whether the review is positive or negative relative to user's average rating. For example, if user rated one restaurant with 2.5 but has the given average rating of 2.1 stars, I am defining as positive since its above the average."
   ]
  },
  {
   "cell_type": "code",
   "execution_count": 145,
   "metadata": {},
   "outputs": [
    {
     "data": {
      "text/html": [
       "<div>\n",
       "<style scoped>\n",
       "    .dataframe tbody tr th:only-of-type {\n",
       "        vertical-align: middle;\n",
       "    }\n",
       "\n",
       "    .dataframe tbody tr th {\n",
       "        vertical-align: top;\n",
       "    }\n",
       "\n",
       "    .dataframe thead th {\n",
       "        text-align: right;\n",
       "    }\n",
       "</style>\n",
       "<table border=\"1\" class=\"dataframe\">\n",
       "  <thead>\n",
       "    <tr style=\"text-align: right;\">\n",
       "      <th></th>\n",
       "      <th>review_id</th>\n",
       "      <th>user_id</th>\n",
       "      <th>business_id</th>\n",
       "      <th>stars</th>\n",
       "      <th>text</th>\n",
       "      <th>cool</th>\n",
       "      <th>useful</th>\n",
       "      <th>date</th>\n",
       "      <th>neg</th>\n",
       "      <th>neu</th>\n",
       "      <th>pos</th>\n",
       "      <th>compound</th>\n",
       "      <th>review_type</th>\n",
       "    </tr>\n",
       "  </thead>\n",
       "  <tbody>\n",
       "    <tr>\n",
       "      <th>0</th>\n",
       "      <td>LG2ZaYiOgpr2DK_90pYjNw</td>\n",
       "      <td>V34qejxNsCbcgD8C0HVk-Q</td>\n",
       "      <td>HQl28KMwrEKHqhFrrDqVNQ</td>\n",
       "      <td>5.0</td>\n",
       "      <td>I love Deagan's. I do. I really do. The atmosp...</td>\n",
       "      <td>0.0</td>\n",
       "      <td>1.0</td>\n",
       "      <td>2015-12-05 03:18:11</td>\n",
       "      <td>0.026</td>\n",
       "      <td>0.745</td>\n",
       "      <td>0.229</td>\n",
       "      <td>0.9499</td>\n",
       "      <td>0</td>\n",
       "    </tr>\n",
       "    <tr>\n",
       "      <th>1</th>\n",
       "      <td>14_N-s_7TsEpzgjnXJMu9Q</td>\n",
       "      <td>V34qejxNsCbcgD8C0HVk-Q</td>\n",
       "      <td>eoJfl5vG7X87QhcKb0nt5Q</td>\n",
       "      <td>4.0</td>\n",
       "      <td>This is exactly what you think it will be. A h...</td>\n",
       "      <td>3.0</td>\n",
       "      <td>4.0</td>\n",
       "      <td>2014-11-27 05:28:11</td>\n",
       "      <td>0.000</td>\n",
       "      <td>0.682</td>\n",
       "      <td>0.318</td>\n",
       "      <td>0.9862</td>\n",
       "      <td>0</td>\n",
       "    </tr>\n",
       "    <tr>\n",
       "      <th>2</th>\n",
       "      <td>B6-F7JQzRIiMQpphyPR3VA</td>\n",
       "      <td>V34qejxNsCbcgD8C0HVk-Q</td>\n",
       "      <td>0youcKV6-eE3F2MQj1l6Fw</td>\n",
       "      <td>4.0</td>\n",
       "      <td>I attended a group event here with about 80 pe...</td>\n",
       "      <td>1.0</td>\n",
       "      <td>1.0</td>\n",
       "      <td>2014-11-08 19:11:34</td>\n",
       "      <td>0.000</td>\n",
       "      <td>0.676</td>\n",
       "      <td>0.324</td>\n",
       "      <td>0.9814</td>\n",
       "      <td>0</td>\n",
       "    </tr>\n",
       "  </tbody>\n",
       "</table>\n",
       "</div>"
      ],
      "text/plain": [
       "                review_id                 user_id             business_id  \\\n",
       "0  LG2ZaYiOgpr2DK_90pYjNw  V34qejxNsCbcgD8C0HVk-Q  HQl28KMwrEKHqhFrrDqVNQ   \n",
       "1  14_N-s_7TsEpzgjnXJMu9Q  V34qejxNsCbcgD8C0HVk-Q  eoJfl5vG7X87QhcKb0nt5Q   \n",
       "2  B6-F7JQzRIiMQpphyPR3VA  V34qejxNsCbcgD8C0HVk-Q  0youcKV6-eE3F2MQj1l6Fw   \n",
       "\n",
       "   stars                                               text  cool  useful  \\\n",
       "0    5.0  I love Deagan's. I do. I really do. The atmosp...   0.0     1.0   \n",
       "1    4.0  This is exactly what you think it will be. A h...   3.0     4.0   \n",
       "2    4.0  I attended a group event here with about 80 pe...   1.0     1.0   \n",
       "\n",
       "                  date    neg    neu    pos  compound  review_type  \n",
       "0  2015-12-05 03:18:11  0.026  0.745  0.229    0.9499            0  \n",
       "1  2014-11-27 05:28:11  0.000  0.682  0.318    0.9862            0  \n",
       "2  2014-11-08 19:11:34  0.000  0.676  0.324    0.9814            0  "
      ]
     },
     "execution_count": 145,
     "metadata": {},
     "output_type": "execute_result"
    }
   ],
   "source": [
    "'''\n",
    "Creating review_type column which will identify whether it is positive/negative relative to user's average rating \n",
    "for review dataframe. 0 being negative and 1 being positive\n",
    "'''\n",
    "review_df['review_type'] = 0\n",
    "review_df.head(3)"
   ]
  },
  {
   "cell_type": "code",
   "execution_count": 146,
   "metadata": {},
   "outputs": [],
   "source": [
    "# Get user_id and average_stars column from user dataframe\n",
    "user_star_df = user_df[['user_id', 'average_stars']]\n",
    "\n",
    "# Merge two dataframes based on common user_id values - adding average_stars column\n",
    "review_df = pd.merge(review_df, user_star_df, on=['user_id'])\n",
    "\n",
    "# When star rating per review is higher than user's avg star rating - set review_type as 1 (positive rating)\n",
    "review_df.loc[review_df['stars'] >= review_df['average_stars'], 'review_type'] = 1"
   ]
  },
  {
   "cell_type": "code",
   "execution_count": 147,
   "metadata": {},
   "outputs": [
    {
     "data": {
      "text/html": [
       "<div>\n",
       "<style scoped>\n",
       "    .dataframe tbody tr th:only-of-type {\n",
       "        vertical-align: middle;\n",
       "    }\n",
       "\n",
       "    .dataframe tbody tr th {\n",
       "        vertical-align: top;\n",
       "    }\n",
       "\n",
       "    .dataframe thead th {\n",
       "        text-align: right;\n",
       "    }\n",
       "</style>\n",
       "<table border=\"1\" class=\"dataframe\">\n",
       "  <thead>\n",
       "    <tr style=\"text-align: right;\">\n",
       "      <th></th>\n",
       "      <th>review_id</th>\n",
       "      <th>user_id</th>\n",
       "      <th>business_id</th>\n",
       "      <th>stars</th>\n",
       "      <th>text</th>\n",
       "      <th>cool</th>\n",
       "      <th>useful</th>\n",
       "      <th>date</th>\n",
       "      <th>neg</th>\n",
       "      <th>neu</th>\n",
       "      <th>pos</th>\n",
       "      <th>compound</th>\n",
       "      <th>review_type</th>\n",
       "      <th>average_stars</th>\n",
       "      <th>text_count</th>\n",
       "    </tr>\n",
       "  </thead>\n",
       "  <tbody>\n",
       "    <tr>\n",
       "      <th>0</th>\n",
       "      <td>LG2ZaYiOgpr2DK_90pYjNw</td>\n",
       "      <td>V34qejxNsCbcgD8C0HVk-Q</td>\n",
       "      <td>HQl28KMwrEKHqhFrrDqVNQ</td>\n",
       "      <td>5.0</td>\n",
       "      <td>I love Deagan's. I do. I really do. The atmosp...</td>\n",
       "      <td>0.0</td>\n",
       "      <td>1.0</td>\n",
       "      <td>2015-12-05 03:18:11</td>\n",
       "      <td>0.026</td>\n",
       "      <td>0.745</td>\n",
       "      <td>0.229</td>\n",
       "      <td>0.9499</td>\n",
       "      <td>1</td>\n",
       "      <td>4.02</td>\n",
       "      <td>83</td>\n",
       "    </tr>\n",
       "    <tr>\n",
       "      <th>1</th>\n",
       "      <td>14_N-s_7TsEpzgjnXJMu9Q</td>\n",
       "      <td>V34qejxNsCbcgD8C0HVk-Q</td>\n",
       "      <td>eoJfl5vG7X87QhcKb0nt5Q</td>\n",
       "      <td>4.0</td>\n",
       "      <td>This is exactly what you think it will be. A h...</td>\n",
       "      <td>3.0</td>\n",
       "      <td>4.0</td>\n",
       "      <td>2014-11-27 05:28:11</td>\n",
       "      <td>0.000</td>\n",
       "      <td>0.682</td>\n",
       "      <td>0.318</td>\n",
       "      <td>0.9862</td>\n",
       "      <td>0</td>\n",
       "      <td>4.02</td>\n",
       "      <td>88</td>\n",
       "    </tr>\n",
       "    <tr>\n",
       "      <th>2</th>\n",
       "      <td>B6-F7JQzRIiMQpphyPR3VA</td>\n",
       "      <td>V34qejxNsCbcgD8C0HVk-Q</td>\n",
       "      <td>0youcKV6-eE3F2MQj1l6Fw</td>\n",
       "      <td>4.0</td>\n",
       "      <td>I attended a group event here with about 80 pe...</td>\n",
       "      <td>1.0</td>\n",
       "      <td>1.0</td>\n",
       "      <td>2014-11-08 19:11:34</td>\n",
       "      <td>0.000</td>\n",
       "      <td>0.676</td>\n",
       "      <td>0.324</td>\n",
       "      <td>0.9814</td>\n",
       "      <td>0</td>\n",
       "      <td>4.02</td>\n",
       "      <td>69</td>\n",
       "    </tr>\n",
       "    <tr>\n",
       "      <th>3</th>\n",
       "      <td>jCza0LPv1vNU0FF-NFMWQA</td>\n",
       "      <td>V34qejxNsCbcgD8C0HVk-Q</td>\n",
       "      <td>ErxACeMyF4hSQyGhpEt4Tw</td>\n",
       "      <td>5.0</td>\n",
       "      <td>This is definitely one of my favorite Thai res...</td>\n",
       "      <td>1.0</td>\n",
       "      <td>1.0</td>\n",
       "      <td>2019-12-04 14:09:06</td>\n",
       "      <td>0.021</td>\n",
       "      <td>0.749</td>\n",
       "      <td>0.231</td>\n",
       "      <td>0.9894</td>\n",
       "      <td>1</td>\n",
       "      <td>4.02</td>\n",
       "      <td>162</td>\n",
       "    </tr>\n",
       "    <tr>\n",
       "      <th>4</th>\n",
       "      <td>VVWXis_BbvDbts-IgCmegA</td>\n",
       "      <td>V34qejxNsCbcgD8C0HVk-Q</td>\n",
       "      <td>54ne9NBqgiWQAx0-RrOaFQ</td>\n",
       "      <td>3.0</td>\n",
       "      <td>I'd heard of this place, but I had no idea wha...</td>\n",
       "      <td>2.0</td>\n",
       "      <td>4.0</td>\n",
       "      <td>2014-11-23 15:57:29</td>\n",
       "      <td>0.047</td>\n",
       "      <td>0.809</td>\n",
       "      <td>0.144</td>\n",
       "      <td>0.9756</td>\n",
       "      <td>0</td>\n",
       "      <td>4.02</td>\n",
       "      <td>198</td>\n",
       "    </tr>\n",
       "  </tbody>\n",
       "</table>\n",
       "</div>"
      ],
      "text/plain": [
       "                review_id                 user_id             business_id  \\\n",
       "0  LG2ZaYiOgpr2DK_90pYjNw  V34qejxNsCbcgD8C0HVk-Q  HQl28KMwrEKHqhFrrDqVNQ   \n",
       "1  14_N-s_7TsEpzgjnXJMu9Q  V34qejxNsCbcgD8C0HVk-Q  eoJfl5vG7X87QhcKb0nt5Q   \n",
       "2  B6-F7JQzRIiMQpphyPR3VA  V34qejxNsCbcgD8C0HVk-Q  0youcKV6-eE3F2MQj1l6Fw   \n",
       "3  jCza0LPv1vNU0FF-NFMWQA  V34qejxNsCbcgD8C0HVk-Q  ErxACeMyF4hSQyGhpEt4Tw   \n",
       "4  VVWXis_BbvDbts-IgCmegA  V34qejxNsCbcgD8C0HVk-Q  54ne9NBqgiWQAx0-RrOaFQ   \n",
       "\n",
       "   stars                                               text  cool  useful  \\\n",
       "0    5.0  I love Deagan's. I do. I really do. The atmosp...   0.0     1.0   \n",
       "1    4.0  This is exactly what you think it will be. A h...   3.0     4.0   \n",
       "2    4.0  I attended a group event here with about 80 pe...   1.0     1.0   \n",
       "3    5.0  This is definitely one of my favorite Thai res...   1.0     1.0   \n",
       "4    3.0  I'd heard of this place, but I had no idea wha...   2.0     4.0   \n",
       "\n",
       "                  date    neg    neu    pos  compound  review_type  \\\n",
       "0  2015-12-05 03:18:11  0.026  0.745  0.229    0.9499            1   \n",
       "1  2014-11-27 05:28:11  0.000  0.682  0.318    0.9862            0   \n",
       "2  2014-11-08 19:11:34  0.000  0.676  0.324    0.9814            0   \n",
       "3  2019-12-04 14:09:06  0.021  0.749  0.231    0.9894            1   \n",
       "4  2014-11-23 15:57:29  0.047  0.809  0.144    0.9756            0   \n",
       "\n",
       "   average_stars  text_count  \n",
       "0           4.02          83  \n",
       "1           4.02          88  \n",
       "2           4.02          69  \n",
       "3           4.02         162  \n",
       "4           4.02         198  "
      ]
     },
     "execution_count": 147,
     "metadata": {},
     "output_type": "execute_result"
    }
   ],
   "source": [
    "review_df['text_count'] = review_df['text'].str.split().apply(len)\n",
    "review_df.head()"
   ]
  },
  {
   "cell_type": "markdown",
   "metadata": {},
   "source": [
    "### 2.4 Define positive or negative based on sentiment analysis\n",
    "The Compound score is a metric that calculates the sum of all the lexicon ratings which have been normalized between -1(most extreme negative) and +1 (most extreme positive).\n",
    "\n",
    "- positive sentiment : (compound score >= 0.05)\n",
    "- neutral sentiment : (compound score > -0.05) and (compound score < 0.05)\n",
    "- negative sentiment : (compound score <= -0.05)"
   ]
  },
  {
   "cell_type": "code",
   "execution_count": 142,
   "metadata": {},
   "outputs": [],
   "source": [
    "# Get sentiment score\n",
    "review_df['sentiment_result'] = pd.DataFrame(review_df.apply(lambda x: analyse_sentiment(x['text']), axis = 1))\n",
    "\n",
    "# Normalize the sentiment_result \n",
    "norm_sentiment_df = pd.json_normalize(review_df['sentiment_result'])\n",
    "review_df = review_df.join(norm_sentiment_df)\n",
    "\n",
    "# Drop sentiment_result column\n",
    "review_df.drop(columns = ['sentiment_result'],inplace = True)"
   ]
  },
  {
   "cell_type": "markdown",
   "metadata": {},
   "source": [
    "### Summary of Review Dataset\n",
    "1. Reduced business dataset from 8,021,121 to 3,270,132 rows.(59% reduction) using filered business dataframe's business_id column.\n",
    "2. No NaNs found\n",
    "3. Added two new columns:\n",
    "    - review_type: defines whether review is positive or negative in binary value based on user's average star rating.\n",
    "    - text_count: total text count per review\n",
    "4. Applied sentiment analysis"
   ]
  },
  {
   "cell_type": "markdown",
   "metadata": {},
   "source": [
    "## 3) Cleaning User and Tip dataset\n",
    "1. Filter user dataset using filtered review dataframe using user_id\n",
    "2. Filter tip dataset using filtered user dataset's user_id\n",
    "3. Define tips as positive or negative using sentiment analysis"
   ]
  },
  {
   "cell_type": "markdown",
   "metadata": {},
   "source": [
    "### 3.1 Filter user dataset using filtered review dataframe using user_id\n",
    "Need to filter out user dataframe based on filtered review dataframe to further filter our tip dataframe."
   ]
  },
  {
   "cell_type": "code",
   "execution_count": 111,
   "metadata": {},
   "outputs": [
    {
     "name": "stdout",
     "output_type": "stream",
     "text": [
      "<class 'pandas.core.frame.DataFrame'>\n",
      "RangeIndex: 1968703 entries, 0 to 1968702\n",
      "Data columns (total 22 columns):\n",
      " #   Column              Dtype  \n",
      "---  ------              -----  \n",
      " 0   fans                int64  \n",
      " 1   compliment_more     int64  \n",
      " 2   friends             object \n",
      " 3   compliment_plain    int64  \n",
      " 4   elite               object \n",
      " 5   compliment_cute     int64  \n",
      " 6   funny               int64  \n",
      " 7   average_stars       float64\n",
      " 8   user_id             object \n",
      " 9   compliment_profile  int64  \n",
      " 10  yelping_since       object \n",
      " 11  review_count        int64  \n",
      " 12  name                object \n",
      " 13  compliment_list     int64  \n",
      " 14  cool                int64  \n",
      " 15  compliment_hot      int64  \n",
      " 16  compliment_writer   int64  \n",
      " 17  useful              int64  \n",
      " 18  compliment_funny    int64  \n",
      " 19  compliment_note     int64  \n",
      " 20  compliment_cool     int64  \n",
      " 21  compliment_photos   int64  \n",
      "dtypes: float64(1), int64(16), object(5)\n",
      "memory usage: 330.4+ MB\n"
     ]
    }
   ],
   "source": [
    "user_df.info()"
   ]
  },
  {
   "cell_type": "code",
   "execution_count": 112,
   "metadata": {},
   "outputs": [],
   "source": [
    "m = user_df['user_id'].isin(review_df['user_id'])\n",
    "user_df = user_df[m].reset_index(drop=True)"
   ]
  },
  {
   "cell_type": "code",
   "execution_count": 113,
   "metadata": {},
   "outputs": [
    {
     "data": {
      "text/plain": [
       "(1086990, 22)"
      ]
     },
     "execution_count": 113,
     "metadata": {},
     "output_type": "execute_result"
    }
   ],
   "source": [
    "user_df.shape"
   ]
  },
  {
   "cell_type": "markdown",
   "metadata": {},
   "source": [
    "### 3.2 Filter tip dataset using filtered user dataset's user_id"
   ]
  },
  {
   "cell_type": "code",
   "execution_count": 115,
   "metadata": {},
   "outputs": [
    {
     "name": "stdout",
     "output_type": "stream",
     "text": [
      "<class 'pandas.core.frame.DataFrame'>\n",
      "RangeIndex: 1320761 entries, 0 to 1320760\n",
      "Data columns (total 5 columns):\n",
      " #   Column            Non-Null Count    Dtype \n",
      "---  ------            --------------    ----- \n",
      " 0   compliment_count  1320761 non-null  int64 \n",
      " 1   date              1320761 non-null  object\n",
      " 2   business_id       1320761 non-null  object\n",
      " 3   text              1320753 non-null  object\n",
      " 4   user_id           1320761 non-null  object\n",
      "dtypes: int64(1), object(4)\n",
      "memory usage: 50.4+ MB\n"
     ]
    }
   ],
   "source": [
    "tip_df.info()"
   ]
  },
  {
   "cell_type": "code",
   "execution_count": 116,
   "metadata": {},
   "outputs": [],
   "source": [
    "# Get filtered businesses tips \n",
    "m = tip_df['user_id'].isin(user_df['user_id'])\n",
    "tip_df = tip_df[m].reset_index(drop=True)"
   ]
  },
  {
   "cell_type": "code",
   "execution_count": 117,
   "metadata": {},
   "outputs": [
    {
     "data": {
      "text/plain": [
       "compliment_count    0\n",
       "date                0\n",
       "business_id         0\n",
       "text                0\n",
       "user_id             0\n",
       "dtype: int64"
      ]
     },
     "execution_count": 117,
     "metadata": {},
     "output_type": "execute_result"
    }
   ],
   "source": [
    "tip_df.dropna(inplace=True)\n",
    "tip_df.isna().sum()"
   ]
  },
  {
   "cell_type": "code",
   "execution_count": 118,
   "metadata": {},
   "outputs": [
    {
     "data": {
      "text/html": [
       "<div>\n",
       "<style scoped>\n",
       "    .dataframe tbody tr th:only-of-type {\n",
       "        vertical-align: middle;\n",
       "    }\n",
       "\n",
       "    .dataframe tbody tr th {\n",
       "        vertical-align: top;\n",
       "    }\n",
       "\n",
       "    .dataframe thead th {\n",
       "        text-align: right;\n",
       "    }\n",
       "</style>\n",
       "<table border=\"1\" class=\"dataframe\">\n",
       "  <thead>\n",
       "    <tr style=\"text-align: right;\">\n",
       "      <th></th>\n",
       "      <th>business_id</th>\n",
       "      <th>text</th>\n",
       "      <th>date</th>\n",
       "    </tr>\n",
       "  </thead>\n",
       "  <tbody>\n",
       "    <tr>\n",
       "      <th>0</th>\n",
       "      <td>UYX5zL_Xj9WEc_Wp-FrqHw</td>\n",
       "      <td>Here for a quick mtg</td>\n",
       "      <td>2013-11-26 18:20:08</td>\n",
       "    </tr>\n",
       "    <tr>\n",
       "      <th>1</th>\n",
       "      <td>Ch3HkwQYv1YKw_FO06vBWA</td>\n",
       "      <td>Cucumber strawberry refresher</td>\n",
       "      <td>2014-06-15 22:26:45</td>\n",
       "    </tr>\n",
       "    <tr>\n",
       "      <th>2</th>\n",
       "      <td>rDoT-MgxGRiYqCmi0bG10g</td>\n",
       "      <td>Very nice good service good food</td>\n",
       "      <td>2016-07-18 22:03:42</td>\n",
       "    </tr>\n",
       "  </tbody>\n",
       "</table>\n",
       "</div>"
      ],
      "text/plain": [
       "              business_id                              text  \\\n",
       "0  UYX5zL_Xj9WEc_Wp-FrqHw              Here for a quick mtg   \n",
       "1  Ch3HkwQYv1YKw_FO06vBWA     Cucumber strawberry refresher   \n",
       "2  rDoT-MgxGRiYqCmi0bG10g  Very nice good service good food   \n",
       "\n",
       "                  date  \n",
       "0  2013-11-26 18:20:08  \n",
       "1  2014-06-15 22:26:45  \n",
       "2  2016-07-18 22:03:42  "
      ]
     },
     "execution_count": 118,
     "metadata": {},
     "output_type": "execute_result"
    }
   ],
   "source": [
    "# Get business_id and text columns only\n",
    "tip_df = tip_df[['business_id', 'text', 'date']]\n",
    "tip_df.head(3)"
   ]
  },
  {
   "cell_type": "code",
   "execution_count": 119,
   "metadata": {},
   "outputs": [
    {
     "data": {
      "text/plain": [
       "(1136880, 3)"
      ]
     },
     "execution_count": 119,
     "metadata": {},
     "output_type": "execute_result"
    }
   ],
   "source": [
    "tip_df.shape"
   ]
  },
  {
   "cell_type": "markdown",
   "metadata": {},
   "source": [
    "### 3.3 Define tips as positive or negative using sentiment analysis\n",
    "Unlike review dataframe, tips does not have any quantifiable values to determine whether it is a good comment or not for the restaurants. Therefore, sentiment analysis is used to define each tip as positive (1) or negative (0) referencing its compound score."
   ]
  },
  {
   "cell_type": "code",
   "execution_count": 135,
   "metadata": {},
   "outputs": [],
   "source": [
    "# Import sentiment analysis\n",
    "from nltk.sentiment.vader import SentimentIntensityAnalyzer\n",
    "analyser = SentimentIntensityAnalyzer()"
   ]
  },
  {
   "cell_type": "code",
   "execution_count": 128,
   "metadata": {},
   "outputs": [],
   "source": [
    "# Convert text column to string datatype\n",
    "tip_df['text'] = tip_df['text'].astype(\"string\")"
   ]
  },
  {
   "cell_type": "code",
   "execution_count": null,
   "metadata": {},
   "outputs": [],
   "source": [
    "# Get sentiment score\n",
    "tip_df['sentiment_result'] = pd.DataFrame(tip_df.apply(lambda x: analyse_sentiment(x['text']), axis = 1))\n",
    "\n",
    "# Normalize the sentiment_result \n",
    "norm_sentiment_df = pd.json_normalize(tip_df['sentiment_result'])\n",
    "tip_df = tip_df.join(norm_sentiment_df)\n",
    "\n",
    "# Drop sentiment_result column\n",
    "tip_df.drop(columns = ['sentiment_result'],inplace = True)"
   ]
  },
  {
   "cell_type": "code",
   "execution_count": 130,
   "metadata": {},
   "outputs": [
    {
     "data": {
      "text/html": [
       "<div>\n",
       "<style scoped>\n",
       "    .dataframe tbody tr th:only-of-type {\n",
       "        vertical-align: middle;\n",
       "    }\n",
       "\n",
       "    .dataframe tbody tr th {\n",
       "        vertical-align: top;\n",
       "    }\n",
       "\n",
       "    .dataframe thead th {\n",
       "        text-align: right;\n",
       "    }\n",
       "</style>\n",
       "<table border=\"1\" class=\"dataframe\">\n",
       "  <thead>\n",
       "    <tr style=\"text-align: right;\">\n",
       "      <th></th>\n",
       "      <th>business_id</th>\n",
       "      <th>text</th>\n",
       "      <th>date</th>\n",
       "      <th>neg</th>\n",
       "      <th>neu</th>\n",
       "      <th>pos</th>\n",
       "      <th>compound</th>\n",
       "      <th>text_count</th>\n",
       "    </tr>\n",
       "  </thead>\n",
       "  <tbody>\n",
       "    <tr>\n",
       "      <th>0</th>\n",
       "      <td>UYX5zL_Xj9WEc_Wp-FrqHw</td>\n",
       "      <td>Here for a quick mtg</td>\n",
       "      <td>2013-11-26 18:20:08</td>\n",
       "      <td>0.0</td>\n",
       "      <td>1.000</td>\n",
       "      <td>0.000</td>\n",
       "      <td>0.0000</td>\n",
       "      <td>5</td>\n",
       "    </tr>\n",
       "    <tr>\n",
       "      <th>1</th>\n",
       "      <td>Ch3HkwQYv1YKw_FO06vBWA</td>\n",
       "      <td>Cucumber strawberry refresher</td>\n",
       "      <td>2014-06-15 22:26:45</td>\n",
       "      <td>0.0</td>\n",
       "      <td>1.000</td>\n",
       "      <td>0.000</td>\n",
       "      <td>0.0000</td>\n",
       "      <td>3</td>\n",
       "    </tr>\n",
       "    <tr>\n",
       "      <th>2</th>\n",
       "      <td>rDoT-MgxGRiYqCmi0bG10g</td>\n",
       "      <td>Very nice good service good food</td>\n",
       "      <td>2016-07-18 22:03:42</td>\n",
       "      <td>0.0</td>\n",
       "      <td>0.241</td>\n",
       "      <td>0.759</td>\n",
       "      <td>0.8573</td>\n",
       "      <td>6</td>\n",
       "    </tr>\n",
       "    <tr>\n",
       "      <th>3</th>\n",
       "      <td>OHXnDV01gLokiX1ELaQufA</td>\n",
       "      <td>It's a small place. The staff is friendly.</td>\n",
       "      <td>2014-06-06 01:10:34</td>\n",
       "      <td>0.0</td>\n",
       "      <td>0.652</td>\n",
       "      <td>0.348</td>\n",
       "      <td>0.4939</td>\n",
       "      <td>8</td>\n",
       "    </tr>\n",
       "    <tr>\n",
       "      <th>4</th>\n",
       "      <td>GMrwDXRlAZU2zj5nH6l4vQ</td>\n",
       "      <td>8 sandwiches, $24 total...what a bargain!!! An...</td>\n",
       "      <td>2011-04-08 18:12:01</td>\n",
       "      <td>0.0</td>\n",
       "      <td>0.498</td>\n",
       "      <td>0.502</td>\n",
       "      <td>0.7946</td>\n",
       "      <td>11</td>\n",
       "    </tr>\n",
       "  </tbody>\n",
       "</table>\n",
       "</div>"
      ],
      "text/plain": [
       "              business_id                                               text  \\\n",
       "0  UYX5zL_Xj9WEc_Wp-FrqHw                               Here for a quick mtg   \n",
       "1  Ch3HkwQYv1YKw_FO06vBWA                      Cucumber strawberry refresher   \n",
       "2  rDoT-MgxGRiYqCmi0bG10g                   Very nice good service good food   \n",
       "3  OHXnDV01gLokiX1ELaQufA         It's a small place. The staff is friendly.   \n",
       "4  GMrwDXRlAZU2zj5nH6l4vQ  8 sandwiches, $24 total...what a bargain!!! An...   \n",
       "\n",
       "                  date  neg    neu    pos  compound  text_count  \n",
       "0  2013-11-26 18:20:08  0.0  1.000  0.000    0.0000           5  \n",
       "1  2014-06-15 22:26:45  0.0  1.000  0.000    0.0000           3  \n",
       "2  2016-07-18 22:03:42  0.0  0.241  0.759    0.8573           6  \n",
       "3  2014-06-06 01:10:34  0.0  0.652  0.348    0.4939           8  \n",
       "4  2011-04-08 18:12:01  0.0  0.498  0.502    0.7946          11  "
      ]
     },
     "execution_count": 130,
     "metadata": {},
     "output_type": "execute_result"
    }
   ],
   "source": [
    "# Get tip text count to later compare whether negative tip tend to have more text count than positive\n",
    "tip_df['text_count'] = tip_df['text'].str.split().apply(len)\n",
    "tip_df.head()"
   ]
  },
  {
   "cell_type": "markdown",
   "metadata": {},
   "source": [
    "The Compound score is a metric that calculates the sum of all the lexicon ratings which have been normalized between -1(most extreme negative) and +1 (most extreme positive).\n",
    "\n",
    "- positive sentiment : (compound score >= 0.05)\n",
    "- neutral sentiment : (compound score > -0.05) and (compound score < 0.05)\n",
    "- negative sentiment : (compound score <= -0.05)"
   ]
  },
  {
   "cell_type": "markdown",
   "metadata": {},
   "source": [
    "### Summary of Tip Dataset\n",
    "1. Filtered tip dataset using updated user dataset's user_id.\n",
    "2. Removed all columns except user_id, text, and date.\n",
    "3. Reduced tip dataset from 1,320,761 to 1,136,880 rows.\n",
    "4. Defined positive or negative tip using sentiment analysis\n",
    "5. Removed two rows that had null values."
   ]
  },
  {
   "cell_type": "markdown",
   "metadata": {},
   "source": [
    "## 4) Cleaning Check-In dataset\n",
    "1. Filter checkin dataset using updated business dataset's business_id column values"
   ]
  },
  {
   "cell_type": "code",
   "execution_count": 120,
   "metadata": {},
   "outputs": [
    {
     "name": "stdout",
     "output_type": "stream",
     "text": [
      "<class 'pandas.core.frame.DataFrame'>\n",
      "RangeIndex: 175187 entries, 0 to 175186\n",
      "Data columns (total 2 columns):\n",
      " #   Column       Non-Null Count   Dtype \n",
      "---  ------       --------------   ----- \n",
      " 0   date         175187 non-null  object\n",
      " 1   business_id  175187 non-null  object\n",
      "dtypes: object(2)\n",
      "memory usage: 2.7+ MB\n"
     ]
    }
   ],
   "source": [
    "checkin_df.info()"
   ]
  },
  {
   "cell_type": "code",
   "execution_count": 121,
   "metadata": {},
   "outputs": [
    {
     "data": {
      "text/plain": [
       "date           0\n",
       "business_id    0\n",
       "dtype: int64"
      ]
     },
     "execution_count": 121,
     "metadata": {},
     "output_type": "execute_result"
    }
   ],
   "source": [
    "checkin_df.isna().sum()"
   ]
  },
  {
   "cell_type": "code",
   "execution_count": 122,
   "metadata": {},
   "outputs": [],
   "source": [
    "# Get check-ins that are in business dataframe\n",
    "m = checkin_df['business_id'].isin(business_df['business_id'])\n",
    "checkin_df = checkin_df[m].reset_index(drop=True)"
   ]
  },
  {
   "cell_type": "code",
   "execution_count": 123,
   "metadata": {},
   "outputs": [
    {
     "data": {
      "text/html": [
       "<div>\n",
       "<style scoped>\n",
       "    .dataframe tbody tr th:only-of-type {\n",
       "        vertical-align: middle;\n",
       "    }\n",
       "\n",
       "    .dataframe tbody tr th {\n",
       "        vertical-align: top;\n",
       "    }\n",
       "\n",
       "    .dataframe thead th {\n",
       "        text-align: right;\n",
       "    }\n",
       "</style>\n",
       "<table border=\"1\" class=\"dataframe\">\n",
       "  <thead>\n",
       "    <tr style=\"text-align: right;\">\n",
       "      <th></th>\n",
       "      <th>date</th>\n",
       "      <th>business_id</th>\n",
       "    </tr>\n",
       "  </thead>\n",
       "  <tbody>\n",
       "    <tr>\n",
       "      <th>0</th>\n",
       "      <td>2016-04-26 19:49:16, 2016-08-30 18:36:57, 2016...</td>\n",
       "      <td>--1UhMGODdWsrMastO9DZw</td>\n",
       "    </tr>\n",
       "    <tr>\n",
       "      <th>1</th>\n",
       "      <td>2011-06-04 18:22:23, 2011-07-23 23:51:33, 2012...</td>\n",
       "      <td>--6MefnULPED_I942VcFNA</td>\n",
       "    </tr>\n",
       "    <tr>\n",
       "      <th>2</th>\n",
       "      <td>2014-12-29 19:25:50, 2015-01-17 01:49:14, 2015...</td>\n",
       "      <td>--7zmmkVg-IMGaXbuVd0SQ</td>\n",
       "    </tr>\n",
       "  </tbody>\n",
       "</table>\n",
       "</div>"
      ],
      "text/plain": [
       "                                                date             business_id\n",
       "0  2016-04-26 19:49:16, 2016-08-30 18:36:57, 2016...  --1UhMGODdWsrMastO9DZw\n",
       "1  2011-06-04 18:22:23, 2011-07-23 23:51:33, 2012...  --6MefnULPED_I942VcFNA\n",
       "2  2014-12-29 19:25:50, 2015-01-17 01:49:14, 2015...  --7zmmkVg-IMGaXbuVd0SQ"
      ]
     },
     "execution_count": 123,
     "metadata": {},
     "output_type": "execute_result"
    }
   ],
   "source": [
    "checkin_df.head(3)"
   ]
  },
  {
   "cell_type": "code",
   "execution_count": 124,
   "metadata": {},
   "outputs": [
    {
     "data": {
      "text/plain": [
       "(42296, 2)"
      ]
     },
     "execution_count": 124,
     "metadata": {},
     "output_type": "execute_result"
    }
   ],
   "source": [
    "checkin_df.shape"
   ]
  },
  {
   "cell_type": "markdown",
   "metadata": {},
   "source": [
    "### Summary of Check-In Dataset\n",
    "1. Filtered checkin dataset using filtered review dataframe\n",
    "2. Reduced checkin dataset from 175187 to 42296 rows.\n",
    "3. No null values were found"
   ]
  },
  {
   "cell_type": "markdown",
   "metadata": {},
   "source": [
    "## Save clean datasets as csv files"
   ]
  },
  {
   "cell_type": "code",
   "execution_count": null,
   "metadata": {},
   "outputs": [],
   "source": [
    "business_df.to_csv('./dataset/clean_business.csv')\n",
    "checkin_df.to_csv('./dataset/clean_checkin.csv')\n",
    "review_df.to_csv('./dataset/clean_review.csv')\n",
    "tip_df.to_csv('./dataset/clean_tip.csv')"
   ]
  }
 ],
 "metadata": {
  "kernelspec": {
   "display_name": "Python 3",
   "language": "python",
   "name": "python3"
  },
  "language_info": {
   "codemirror_mode": {
    "name": "ipython",
    "version": 3
   },
   "file_extension": ".py",
   "mimetype": "text/x-python",
   "name": "python",
   "nbconvert_exporter": "python",
   "pygments_lexer": "ipython3",
   "version": "3.8.3"
  }
 },
 "nbformat": 4,
 "nbformat_minor": 4
}
