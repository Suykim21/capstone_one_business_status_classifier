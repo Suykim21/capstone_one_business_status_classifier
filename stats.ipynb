{
 "cells": [
  {
   "cell_type": "code",
   "execution_count": 132,
   "metadata": {},
   "outputs": [],
   "source": [
    "# Import essentials\n",
    "import pandas as pd\n",
    "import numpy as np\n",
    "\n",
    "# Visualization\n",
    "import matplotlib.pyplot as plt\n",
    "import matplotlib.lines as mlines\n",
    "import seaborn as sns\n",
    "\n",
    "# Set white grid styling\n",
    "sns.set_style('whitegrid')\n",
    "\n",
    "# Stats\n",
    "import statsmodels.formula.api as smf\n",
    "import statsmodels.stats.multicomp as multi\n",
    "import scipy.stats as stats\n",
    "\n",
    "# Ignore warning messages\n",
    "import warnings\n",
    "warnings.filterwarnings('ignore')"
   ]
  },
  {
   "cell_type": "code",
   "execution_count": 133,
   "metadata": {},
   "outputs": [],
   "source": [
    "# Read dataset files\n",
    "test_df = pd.read_csv('./dataset/test.csv', index_col=0)"
   ]
  },
  {
   "cell_type": "code",
   "execution_count": 187,
   "metadata": {},
   "outputs": [],
   "source": [
    "test_df.dropna(inplace=True) # There was NaNs on revenue column\n",
    "test_df.to_csv('./dataset/ml_test.csv')"
   ]
  },
  {
   "cell_type": "markdown",
   "metadata": {},
   "source": [
    "# Statistical Analysis\n",
    "In this section, I'll be applying three separate hypothesis tests:\n",
    "- **ANOVA (Analysis of Variance)** - Testing categorical and quantitaive Variables to determine whether is_open and lifespan columns are related\n",
    "- **Chi-Square** - Testing two categorical variables\n",
    "- **Pearson Correlation** - Testing two qunatitative variables\n",
    "\n",
    "I'll be making decision whether to reject null hypothesis ($H_0$) or not based on standard p-value cutoff of 0.05 or 5%.\n",
    "- p-value < $\\alpha$ (0.05) - Data providing significant evidence against the null hypothesis ($H_0$) and accept the alternate hypothesis ($H_a$). In other words, it is more than 95% likely that the association of interest would be present following repeated smaples drawn from the population.\n",
    "- p-value > $\\alpha$ (0.05) - Data do not provide enough evidence against the null hypothesis ($H_0$)"
   ]
  },
  {
   "cell_type": "code",
   "execution_count": 167,
   "metadata": {},
   "outputs": [
    {
     "data": {
      "text/html": [
       "<div>\n",
       "<style scoped>\n",
       "    .dataframe tbody tr th:only-of-type {\n",
       "        vertical-align: middle;\n",
       "    }\n",
       "\n",
       "    .dataframe tbody tr th {\n",
       "        vertical-align: top;\n",
       "    }\n",
       "\n",
       "    .dataframe thead th {\n",
       "        text-align: right;\n",
       "    }\n",
       "</style>\n",
       "<table border=\"1\" class=\"dataframe\">\n",
       "  <thead>\n",
       "    <tr style=\"text-align: right;\">\n",
       "      <th></th>\n",
       "      <th>review_count</th>\n",
       "      <th>adjusted_stars</th>\n",
       "      <th>price</th>\n",
       "      <th>is_open</th>\n",
       "      <th>caters</th>\n",
       "      <th>goodforkids</th>\n",
       "      <th>alcohol</th>\n",
       "      <th>goodforgroups</th>\n",
       "      <th>tableservice</th>\n",
       "      <th>drivethru</th>\n",
       "      <th>...</th>\n",
       "      <th>pos</th>\n",
       "      <th>compound</th>\n",
       "      <th>revenue</th>\n",
       "      <th>pos_review</th>\n",
       "      <th>neg_review</th>\n",
       "      <th>stars_1.0</th>\n",
       "      <th>stars_2.0</th>\n",
       "      <th>stars_3.0</th>\n",
       "      <th>stars_4.0</th>\n",
       "      <th>stars_5.0</th>\n",
       "    </tr>\n",
       "  </thead>\n",
       "  <tbody>\n",
       "    <tr>\n",
       "      <th>0</th>\n",
       "      <td>0.001342</td>\n",
       "      <td>0.670984</td>\n",
       "      <td>0.000000</td>\n",
       "      <td>1.0</td>\n",
       "      <td>0.0</td>\n",
       "      <td>0.0</td>\n",
       "      <td>0.0</td>\n",
       "      <td>0.0</td>\n",
       "      <td>0.0</td>\n",
       "      <td>0.0</td>\n",
       "      <td>...</td>\n",
       "      <td>0.535683</td>\n",
       "      <td>0.953855</td>\n",
       "      <td>0.000066</td>\n",
       "      <td>0.005952</td>\n",
       "      <td>0.002024</td>\n",
       "      <td>0.000000</td>\n",
       "      <td>0.007353</td>\n",
       "      <td>0.000000</td>\n",
       "      <td>0.000000</td>\n",
       "      <td>0.006250</td>\n",
       "    </tr>\n",
       "    <tr>\n",
       "      <th>1</th>\n",
       "      <td>0.004027</td>\n",
       "      <td>0.678756</td>\n",
       "      <td>0.000000</td>\n",
       "      <td>1.0</td>\n",
       "      <td>0.0</td>\n",
       "      <td>1.0</td>\n",
       "      <td>0.0</td>\n",
       "      <td>0.0</td>\n",
       "      <td>0.0</td>\n",
       "      <td>0.0</td>\n",
       "      <td>...</td>\n",
       "      <td>0.453430</td>\n",
       "      <td>0.806740</td>\n",
       "      <td>0.000157</td>\n",
       "      <td>0.008929</td>\n",
       "      <td>0.002024</td>\n",
       "      <td>0.000000</td>\n",
       "      <td>0.000000</td>\n",
       "      <td>0.005917</td>\n",
       "      <td>0.006329</td>\n",
       "      <td>0.006250</td>\n",
       "    </tr>\n",
       "    <tr>\n",
       "      <th>2</th>\n",
       "      <td>0.004027</td>\n",
       "      <td>0.544041</td>\n",
       "      <td>0.000000</td>\n",
       "      <td>0.0</td>\n",
       "      <td>0.0</td>\n",
       "      <td>0.0</td>\n",
       "      <td>1.0</td>\n",
       "      <td>0.0</td>\n",
       "      <td>0.0</td>\n",
       "      <td>0.0</td>\n",
       "      <td>...</td>\n",
       "      <td>0.363436</td>\n",
       "      <td>0.598692</td>\n",
       "      <td>0.000079</td>\n",
       "      <td>0.004464</td>\n",
       "      <td>0.010121</td>\n",
       "      <td>0.006154</td>\n",
       "      <td>0.022059</td>\n",
       "      <td>0.000000</td>\n",
       "      <td>0.003165</td>\n",
       "      <td>0.003125</td>\n",
       "    </tr>\n",
       "    <tr>\n",
       "      <th>3</th>\n",
       "      <td>0.025503</td>\n",
       "      <td>0.704663</td>\n",
       "      <td>0.333333</td>\n",
       "      <td>1.0</td>\n",
       "      <td>0.0</td>\n",
       "      <td>0.0</td>\n",
       "      <td>0.0</td>\n",
       "      <td>0.0</td>\n",
       "      <td>1.0</td>\n",
       "      <td>0.0</td>\n",
       "      <td>...</td>\n",
       "      <td>0.508811</td>\n",
       "      <td>0.909050</td>\n",
       "      <td>0.000931</td>\n",
       "      <td>0.028274</td>\n",
       "      <td>0.010121</td>\n",
       "      <td>0.000000</td>\n",
       "      <td>0.007353</td>\n",
       "      <td>0.011834</td>\n",
       "      <td>0.018987</td>\n",
       "      <td>0.023438</td>\n",
       "    </tr>\n",
       "    <tr>\n",
       "      <th>4</th>\n",
       "      <td>0.100671</td>\n",
       "      <td>0.730570</td>\n",
       "      <td>0.333333</td>\n",
       "      <td>1.0</td>\n",
       "      <td>0.0</td>\n",
       "      <td>0.0</td>\n",
       "      <td>1.0</td>\n",
       "      <td>1.0</td>\n",
       "      <td>0.0</td>\n",
       "      <td>0.0</td>\n",
       "      <td>...</td>\n",
       "      <td>0.593778</td>\n",
       "      <td>0.906064</td>\n",
       "      <td>0.006413</td>\n",
       "      <td>0.101190</td>\n",
       "      <td>0.024291</td>\n",
       "      <td>0.009231</td>\n",
       "      <td>0.007353</td>\n",
       "      <td>0.023669</td>\n",
       "      <td>0.025316</td>\n",
       "      <td>0.100000</td>\n",
       "    </tr>\n",
       "    <tr>\n",
       "      <th>...</th>\n",
       "      <td>...</td>\n",
       "      <td>...</td>\n",
       "      <td>...</td>\n",
       "      <td>...</td>\n",
       "      <td>...</td>\n",
       "      <td>...</td>\n",
       "      <td>...</td>\n",
       "      <td>...</td>\n",
       "      <td>...</td>\n",
       "      <td>...</td>\n",
       "      <td>...</td>\n",
       "      <td>...</td>\n",
       "      <td>...</td>\n",
       "      <td>...</td>\n",
       "      <td>...</td>\n",
       "      <td>...</td>\n",
       "      <td>...</td>\n",
       "      <td>...</td>\n",
       "      <td>...</td>\n",
       "      <td>...</td>\n",
       "      <td>...</td>\n",
       "    </tr>\n",
       "    <tr>\n",
       "      <th>39819</th>\n",
       "      <td>0.006711</td>\n",
       "      <td>0.443005</td>\n",
       "      <td>1.000000</td>\n",
       "      <td>0.0</td>\n",
       "      <td>0.0</td>\n",
       "      <td>0.0</td>\n",
       "      <td>1.0</td>\n",
       "      <td>1.0</td>\n",
       "      <td>0.0</td>\n",
       "      <td>0.0</td>\n",
       "      <td>...</td>\n",
       "      <td>0.310022</td>\n",
       "      <td>0.497336</td>\n",
       "      <td>0.000695</td>\n",
       "      <td>0.000000</td>\n",
       "      <td>0.016194</td>\n",
       "      <td>0.018462</td>\n",
       "      <td>0.007353</td>\n",
       "      <td>0.005917</td>\n",
       "      <td>0.000000</td>\n",
       "      <td>0.000000</td>\n",
       "    </tr>\n",
       "    <tr>\n",
       "      <th>39820</th>\n",
       "      <td>0.303356</td>\n",
       "      <td>0.743523</td>\n",
       "      <td>0.000000</td>\n",
       "      <td>1.0</td>\n",
       "      <td>1.0</td>\n",
       "      <td>1.0</td>\n",
       "      <td>1.0</td>\n",
       "      <td>1.0</td>\n",
       "      <td>1.0</td>\n",
       "      <td>0.0</td>\n",
       "      <td>...</td>\n",
       "      <td>0.506767</td>\n",
       "      <td>0.851346</td>\n",
       "      <td>0.008538</td>\n",
       "      <td>0.254464</td>\n",
       "      <td>0.129555</td>\n",
       "      <td>0.049231</td>\n",
       "      <td>0.058824</td>\n",
       "      <td>0.130178</td>\n",
       "      <td>0.196203</td>\n",
       "      <td>0.198437</td>\n",
       "    </tr>\n",
       "    <tr>\n",
       "      <th>39821</th>\n",
       "      <td>0.022819</td>\n",
       "      <td>0.437824</td>\n",
       "      <td>0.000000</td>\n",
       "      <td>1.0</td>\n",
       "      <td>0.0</td>\n",
       "      <td>1.0</td>\n",
       "      <td>0.0</td>\n",
       "      <td>1.0</td>\n",
       "      <td>0.0</td>\n",
       "      <td>0.0</td>\n",
       "      <td>...</td>\n",
       "      <td>0.295655</td>\n",
       "      <td>0.640372</td>\n",
       "      <td>0.000341</td>\n",
       "      <td>0.008929</td>\n",
       "      <td>0.032389</td>\n",
       "      <td>0.024615</td>\n",
       "      <td>0.022059</td>\n",
       "      <td>0.041420</td>\n",
       "      <td>0.009494</td>\n",
       "      <td>0.001563</td>\n",
       "    </tr>\n",
       "    <tr>\n",
       "      <th>39822</th>\n",
       "      <td>0.122148</td>\n",
       "      <td>0.733161</td>\n",
       "      <td>0.333333</td>\n",
       "      <td>0.0</td>\n",
       "      <td>0.0</td>\n",
       "      <td>0.0</td>\n",
       "      <td>1.0</td>\n",
       "      <td>1.0</td>\n",
       "      <td>1.0</td>\n",
       "      <td>0.0</td>\n",
       "      <td>...</td>\n",
       "      <td>0.531041</td>\n",
       "      <td>0.912972</td>\n",
       "      <td>0.005049</td>\n",
       "      <td>0.107143</td>\n",
       "      <td>0.050607</td>\n",
       "      <td>0.015385</td>\n",
       "      <td>0.088235</td>\n",
       "      <td>0.047337</td>\n",
       "      <td>0.063291</td>\n",
       "      <td>0.081250</td>\n",
       "    </tr>\n",
       "    <tr>\n",
       "      <th>39823</th>\n",
       "      <td>0.001342</td>\n",
       "      <td>0.670984</td>\n",
       "      <td>0.333333</td>\n",
       "      <td>0.0</td>\n",
       "      <td>0.0</td>\n",
       "      <td>1.0</td>\n",
       "      <td>1.0</td>\n",
       "      <td>1.0</td>\n",
       "      <td>0.0</td>\n",
       "      <td>0.0</td>\n",
       "      <td>...</td>\n",
       "      <td>0.567401</td>\n",
       "      <td>0.981578</td>\n",
       "      <td>0.000249</td>\n",
       "      <td>0.005952</td>\n",
       "      <td>0.002024</td>\n",
       "      <td>0.000000</td>\n",
       "      <td>0.000000</td>\n",
       "      <td>0.005917</td>\n",
       "      <td>0.006329</td>\n",
       "      <td>0.003125</td>\n",
       "    </tr>\n",
       "  </tbody>\n",
       "</table>\n",
       "<p>38858 rows × 158 columns</p>\n",
       "</div>"
      ],
      "text/plain": [
       "       review_count  adjusted_stars     price  is_open  caters  goodforkids  \\\n",
       "0          0.001342        0.670984  0.000000      1.0     0.0          0.0   \n",
       "1          0.004027        0.678756  0.000000      1.0     0.0          1.0   \n",
       "2          0.004027        0.544041  0.000000      0.0     0.0          0.0   \n",
       "3          0.025503        0.704663  0.333333      1.0     0.0          0.0   \n",
       "4          0.100671        0.730570  0.333333      1.0     0.0          0.0   \n",
       "...             ...             ...       ...      ...     ...          ...   \n",
       "39819      0.006711        0.443005  1.000000      0.0     0.0          0.0   \n",
       "39820      0.303356        0.743523  0.000000      1.0     1.0          1.0   \n",
       "39821      0.022819        0.437824  0.000000      1.0     0.0          1.0   \n",
       "39822      0.122148        0.733161  0.333333      0.0     0.0          0.0   \n",
       "39823      0.001342        0.670984  0.333333      0.0     0.0          1.0   \n",
       "\n",
       "       alcohol  goodforgroups  tableservice  drivethru  ...       pos  \\\n",
       "0          0.0            0.0           0.0        0.0  ...  0.535683   \n",
       "1          0.0            0.0           0.0        0.0  ...  0.453430   \n",
       "2          1.0            0.0           0.0        0.0  ...  0.363436   \n",
       "3          0.0            0.0           1.0        0.0  ...  0.508811   \n",
       "4          1.0            1.0           0.0        0.0  ...  0.593778   \n",
       "...        ...            ...           ...        ...  ...       ...   \n",
       "39819      1.0            1.0           0.0        0.0  ...  0.310022   \n",
       "39820      1.0            1.0           1.0        0.0  ...  0.506767   \n",
       "39821      0.0            1.0           0.0        0.0  ...  0.295655   \n",
       "39822      1.0            1.0           1.0        0.0  ...  0.531041   \n",
       "39823      1.0            1.0           0.0        0.0  ...  0.567401   \n",
       "\n",
       "       compound   revenue  pos_review  neg_review  stars_1.0  stars_2.0  \\\n",
       "0      0.953855  0.000066    0.005952    0.002024   0.000000   0.007353   \n",
       "1      0.806740  0.000157    0.008929    0.002024   0.000000   0.000000   \n",
       "2      0.598692  0.000079    0.004464    0.010121   0.006154   0.022059   \n",
       "3      0.909050  0.000931    0.028274    0.010121   0.000000   0.007353   \n",
       "4      0.906064  0.006413    0.101190    0.024291   0.009231   0.007353   \n",
       "...         ...       ...         ...         ...        ...        ...   \n",
       "39819  0.497336  0.000695    0.000000    0.016194   0.018462   0.007353   \n",
       "39820  0.851346  0.008538    0.254464    0.129555   0.049231   0.058824   \n",
       "39821  0.640372  0.000341    0.008929    0.032389   0.024615   0.022059   \n",
       "39822  0.912972  0.005049    0.107143    0.050607   0.015385   0.088235   \n",
       "39823  0.981578  0.000249    0.005952    0.002024   0.000000   0.000000   \n",
       "\n",
       "       stars_3.0  stars_4.0  stars_5.0  \n",
       "0       0.000000   0.000000   0.006250  \n",
       "1       0.005917   0.006329   0.006250  \n",
       "2       0.000000   0.003165   0.003125  \n",
       "3       0.011834   0.018987   0.023438  \n",
       "4       0.023669   0.025316   0.100000  \n",
       "...          ...        ...        ...  \n",
       "39819   0.005917   0.000000   0.000000  \n",
       "39820   0.130178   0.196203   0.198437  \n",
       "39821   0.041420   0.009494   0.001563  \n",
       "39822   0.047337   0.063291   0.081250  \n",
       "39823   0.005917   0.006329   0.003125  \n",
       "\n",
       "[38858 rows x 158 columns]"
      ]
     },
     "execution_count": 167,
     "metadata": {},
     "output_type": "execute_result"
    }
   ],
   "source": [
    "test_df"
   ]
  },
  {
   "cell_type": "markdown",
   "metadata": {},
   "source": [
    "## ANOVA Testing - Categorical and Quantitative Variables\n",
    "Evaluate whether or not there's an association between restaurant's current business status (close or open - categorical variable) and how long restaurant has been operating for (lifespan - quantitative variable).\n",
    "\n",
    "- $H_0$ - Restaurant's lifespan and restaurant's business status are ***unrelated***.\n",
    "- $H_a$ - Restaurant's lifespan and restaurant's business status are ***related***."
   ]
  },
  {
   "cell_type": "markdown",
   "metadata": {},
   "source": [
    "Restaurants that are *open for business* has average lifespan of **0.38** with standard deviation of **0.24**"
   ]
  },
  {
   "cell_type": "code",
   "execution_count": 168,
   "metadata": {},
   "outputs": [
    {
     "data": {
      "text/plain": [
       "count    25028.000000\n",
       "mean         0.384211\n",
       "std          0.242716\n",
       "min          0.000000\n",
       "25%          0.170844\n",
       "50%          0.362797\n",
       "75%          0.586412\n",
       "max          1.000000\n",
       "Name: lifespan, dtype: float64"
      ]
     },
     "execution_count": 168,
     "metadata": {},
     "output_type": "execute_result"
    }
   ],
   "source": [
    "test_df[test_df['is_open'] == 1]['lifespan'].describe()"
   ]
  },
  {
   "cell_type": "markdown",
   "metadata": {},
   "source": [
    "Restaurants that are *closed for business* has average lifespan of **0.24** with standard deviation of **0.18**"
   ]
  },
  {
   "cell_type": "code",
   "execution_count": 169,
   "metadata": {},
   "outputs": [
    {
     "data": {
      "text/plain": [
       "count    13830.000000\n",
       "mean         0.243786\n",
       "std          0.183021\n",
       "min          0.000000\n",
       "25%          0.096306\n",
       "50%          0.197889\n",
       "75%          0.351583\n",
       "max          0.980211\n",
       "Name: lifespan, dtype: float64"
      ]
     },
     "execution_count": 169,
     "metadata": {},
     "output_type": "execute_result"
    }
   ],
   "source": [
    "test_df[test_df['is_open'] == 0]['lifespan'].describe()"
   ]
  },
  {
   "cell_type": "markdown",
   "metadata": {},
   "source": [
    "While it is true that 0.38 lifespan is more than 0.24 lifespan, it's not at all clear that this is a large enough difference to reject the null hypothesis. Or to say that restaurants with higher lifespan are more likely to be open than restaurants with low lifespan. So we ned to assess the evidence in order to determine whether the data provides srong evidence against the null hypothesis to cliam that there is no relationship between lifespan and restaurant business status (is_open)"
   ]
  },
  {
   "cell_type": "markdown",
   "metadata": {},
   "source": [
    "#### Visualizing open and closed businesses' lifespan\n",
    "Open restaurants generally have higher lifespan and there are minor overlap because of small amount of variation within two groups, which demonstrates that thse two groups does not have equal population needs where rejecting null hypothesis is more likely than accepting it."
   ]
  },
  {
   "cell_type": "code",
   "execution_count": 170,
   "metadata": {},
   "outputs": [
    {
     "data": {
      "image/png": "[encoded data removed]",
      "text/plain": [
       "<Figure size 432x288 with 1 Axes>"
      ]
     },
     "metadata": {},
     "output_type": "display_data"
    }
   ],
   "source": [
    "ax = sns.boxplot(x='is_open', y='lifespan', hue='is_open', data=test_df, dodge=False)\n",
    "ax.set(xlabel='business status')\n",
    "plt.legend(loc='upper left', title='status');"
   ]
  },
  {
   "cell_type": "markdown",
   "metadata": {},
   "source": [
    "#### Testing\n",
    "- Explanatory variable - categorical: is_open (1=Open / 0=Close)\n",
    "- Response variable - quantitative: (Range 0-1)"
   ]
  },
  {
   "cell_type": "code",
   "execution_count": 171,
   "metadata": {},
   "outputs": [
    {
     "data": {
      "text/html": [
       "<table class=\"simpletable\">\n",
       "<caption>OLS Regression Results</caption>\n",
       "<tr>\n",
       "  <th>Dep. Variable:</th>        <td>lifespan</td>     <th>  R-squared:         </th> <td>   0.083</td>\n",
       "</tr>\n",
       "<tr>\n",
       "  <th>Model:</th>                   <td>OLS</td>       <th>  Adj. R-squared:    </th> <td>   0.083</td>\n",
       "</tr>\n",
       "<tr>\n",
       "  <th>Method:</th>             <td>Least Squares</td>  <th>  F-statistic:       </th> <td>   3523.</td>\n",
       "</tr>\n",
       "<tr>\n",
       "  <th>Date:</th>             <td>Mon, 30 Nov 2020</td> <th>  Prob (F-statistic):</th>  <td>  0.00</td> \n",
       "</tr>\n",
       "<tr>\n",
       "  <th>Time:</th>                 <td>22:55:07</td>     <th>  Log-Likelihood:    </th> <td>  3120.1</td>\n",
       "</tr>\n",
       "<tr>\n",
       "  <th>No. Observations:</th>      <td> 38858</td>      <th>  AIC:               </th> <td>  -6236.</td>\n",
       "</tr>\n",
       "<tr>\n",
       "  <th>Df Residuals:</th>          <td> 38856</td>      <th>  BIC:               </th> <td>  -6219.</td>\n",
       "</tr>\n",
       "<tr>\n",
       "  <th>Df Model:</th>              <td>     1</td>      <th>                     </th>     <td> </td>   \n",
       "</tr>\n",
       "<tr>\n",
       "  <th>Covariance Type:</th>      <td>nonrobust</td>    <th>                     </th>     <td> </td>   \n",
       "</tr>\n",
       "</table>\n",
       "<table class=\"simpletable\">\n",
       "<tr>\n",
       "          <td></td>             <th>coef</th>     <th>std err</th>      <th>t</th>      <th>P>|t|</th>  <th>[0.025</th>    <th>0.975]</th>  \n",
       "</tr>\n",
       "<tr>\n",
       "  <th>Intercept</th>         <td>    0.2438</td> <td>    0.002</td> <td>  128.386</td> <td> 0.000</td> <td>    0.240</td> <td>    0.248</td>\n",
       "</tr>\n",
       "<tr>\n",
       "  <th>C(is_open)[T.1.0]</th> <td>    0.1404</td> <td>    0.002</td> <td>   59.351</td> <td> 0.000</td> <td>    0.136</td> <td>    0.145</td>\n",
       "</tr>\n",
       "</table>\n",
       "<table class=\"simpletable\">\n",
       "<tr>\n",
       "  <th>Omnibus:</th>       <td>3210.521</td> <th>  Durbin-Watson:     </th> <td>   1.994</td>\n",
       "</tr>\n",
       "<tr>\n",
       "  <th>Prob(Omnibus):</th>  <td> 0.000</td>  <th>  Jarque-Bera (JB):  </th> <td>1815.244</td>\n",
       "</tr>\n",
       "<tr>\n",
       "  <th>Skew:</th>           <td> 0.386</td>  <th>  Prob(JB):          </th> <td>    0.00</td>\n",
       "</tr>\n",
       "<tr>\n",
       "  <th>Kurtosis:</th>       <td> 2.275</td>  <th>  Cond. No.          </th> <td>    3.11</td>\n",
       "</tr>\n",
       "</table><br/><br/>Warnings:<br/>[1] Standard Errors assume that the covariance matrix of the errors is correctly specified."
      ],
      "text/plain": [
       "<class 'statsmodels.iolib.summary.Summary'>\n",
       "\"\"\"\n",
       "                            OLS Regression Results                            \n",
       "==============================================================================\n",
       "Dep. Variable:               lifespan   R-squared:                       0.083\n",
       "Model:                            OLS   Adj. R-squared:                  0.083\n",
       "Method:                 Least Squares   F-statistic:                     3523.\n",
       "Date:                Mon, 30 Nov 2020   Prob (F-statistic):               0.00\n",
       "Time:                        22:55:07   Log-Likelihood:                 3120.1\n",
       "No. Observations:               38858   AIC:                            -6236.\n",
       "Df Residuals:                   38856   BIC:                            -6219.\n",
       "Df Model:                           1                                         \n",
       "Covariance Type:            nonrobust                                         \n",
       "=====================================================================================\n",
       "                        coef    std err          t      P>|t|      [0.025      0.975]\n",
       "-------------------------------------------------------------------------------------\n",
       "Intercept             0.2438      0.002    128.386      0.000       0.240       0.248\n",
       "C(is_open)[T.1.0]     0.1404      0.002     59.351      0.000       0.136       0.145\n",
       "==============================================================================\n",
       "Omnibus:                     3210.521   Durbin-Watson:                   1.994\n",
       "Prob(Omnibus):                  0.000   Jarque-Bera (JB):             1815.244\n",
       "Skew:                           0.386   Prob(JB):                         0.00\n",
       "Kurtosis:                       2.275   Cond. No.                         3.11\n",
       "==============================================================================\n",
       "\n",
       "Warnings:\n",
       "[1] Standard Errors assume that the covariance matrix of the errors is correctly specified.\n",
       "\"\"\""
      ]
     },
     "execution_count": 171,
     "metadata": {},
     "output_type": "execute_result"
    }
   ],
   "source": [
    "# Using ols method for calculating the F-stats nd associated p-value\n",
    "# formula=continuous variable ~ C(categorical variable)\n",
    "model_one = smf.ols(formula='lifespan ~ C(is_open)', data=test_df).fit()\n",
    "model_one.summary()"
   ]
  },
  {
   "cell_type": "markdown",
   "metadata": {},
   "source": [
    "P-value is incredible small with high F-statistics which tells us that there is an association between restaurant lifespan and closed/open restaurant status (is_open). "
   ]
  },
  {
   "cell_type": "markdown",
   "metadata": {},
   "source": [
    "#### Retaurant Status and Revenues\n",
    "- $H_0$ - Restaurant's revenues and restaurant's business status are ***unrelated***.\n",
    "- $H_a$ - Restaurant's revenues and restaurant's business status are ***related***."
   ]
  },
  {
   "cell_type": "markdown",
   "metadata": {},
   "source": [
    "Restaurants that are *open for business* has average revenue of **0.006** with standard deviation of **0.013**"
   ]
  },
  {
   "cell_type": "code",
   "execution_count": 172,
   "metadata": {},
   "outputs": [
    {
     "data": {
      "text/plain": [
       "count    25028.000000\n",
       "mean         0.005927\n",
       "std          0.013574\n",
       "min          0.000013\n",
       "25%          0.000485\n",
       "50%          0.001600\n",
       "75%          0.005495\n",
       "max          1.000000\n",
       "Name: revenue, dtype: float64"
      ]
     },
     "execution_count": 172,
     "metadata": {},
     "output_type": "execute_result"
    }
   ],
   "source": [
    "test_df[test_df['is_open'] == 1]['revenue'].describe()"
   ]
  },
  {
   "cell_type": "markdown",
   "metadata": {},
   "source": [
    "Restaurants that are *open for business* has average revenue of **0.003** with standard deviation of **0.007**"
   ]
  },
  {
   "cell_type": "code",
   "execution_count": 173,
   "metadata": {},
   "outputs": [
    {
     "data": {
      "text/plain": [
       "count    13830.000000\n",
       "mean         0.003248\n",
       "std          0.007698\n",
       "min          0.000000\n",
       "25%          0.000354\n",
       "50%          0.000918\n",
       "75%          0.002715\n",
       "max          0.127202\n",
       "Name: revenue, dtype: float64"
      ]
     },
     "execution_count": 173,
     "metadata": {},
     "output_type": "execute_result"
    }
   ],
   "source": [
    "test_df[test_df['is_open'] == 0]['revenue'].describe()"
   ]
  },
  {
   "cell_type": "markdown",
   "metadata": {},
   "source": [
    "Open restaurants generally have higher revenues compared to closed restaurants"
   ]
  },
  {
   "cell_type": "code",
   "execution_count": 174,
   "metadata": {},
   "outputs": [
    {
     "data": {
      "text/html": [
       "<table class=\"simpletable\">\n",
       "<caption>OLS Regression Results</caption>\n",
       "<tr>\n",
       "  <th>Dep. Variable:</th>         <td>revenue</td>     <th>  R-squared:         </th>  <td>   0.012</td> \n",
       "</tr>\n",
       "<tr>\n",
       "  <th>Model:</th>                   <td>OLS</td>       <th>  Adj. R-squared:    </th>  <td>   0.012</td> \n",
       "</tr>\n",
       "<tr>\n",
       "  <th>Method:</th>             <td>Least Squares</td>  <th>  F-statistic:       </th>  <td>   457.4</td> \n",
       "</tr>\n",
       "<tr>\n",
       "  <th>Date:</th>             <td>Mon, 30 Nov 2020</td> <th>  Prob (F-statistic):</th>  <td>6.87e-101</td>\n",
       "</tr>\n",
       "<tr>\n",
       "  <th>Time:</th>                 <td>22:55:39</td>     <th>  Log-Likelihood:    </th> <td>1.1731e+05</td>\n",
       "</tr>\n",
       "<tr>\n",
       "  <th>No. Observations:</th>      <td> 38858</td>      <th>  AIC:               </th> <td>-2.346e+05</td>\n",
       "</tr>\n",
       "<tr>\n",
       "  <th>Df Residuals:</th>          <td> 38856</td>      <th>  BIC:               </th> <td>-2.346e+05</td>\n",
       "</tr>\n",
       "<tr>\n",
       "  <th>Df Model:</th>              <td>     1</td>      <th>                     </th>      <td> </td>    \n",
       "</tr>\n",
       "<tr>\n",
       "  <th>Covariance Type:</th>      <td>nonrobust</td>    <th>                     </th>      <td> </td>    \n",
       "</tr>\n",
       "</table>\n",
       "<table class=\"simpletable\">\n",
       "<tr>\n",
       "          <td></td>             <th>coef</th>     <th>std err</th>      <th>t</th>      <th>P>|t|</th>  <th>[0.025</th>    <th>0.975]</th>  \n",
       "</tr>\n",
       "<tr>\n",
       "  <th>Intercept</th>         <td>    0.0032</td> <td>    0.000</td> <td>   32.310</td> <td> 0.000</td> <td>    0.003</td> <td>    0.003</td>\n",
       "</tr>\n",
       "<tr>\n",
       "  <th>C(is_open)[T.1.0]</th> <td>    0.0027</td> <td>    0.000</td> <td>   21.386</td> <td> 0.000</td> <td>    0.002</td> <td>    0.003</td>\n",
       "</tr>\n",
       "</table>\n",
       "<table class=\"simpletable\">\n",
       "<tr>\n",
       "  <th>Omnibus:</th>       <td>84954.102</td> <th>  Durbin-Watson:     </th>    <td>   1.998</td>   \n",
       "</tr>\n",
       "<tr>\n",
       "  <th>Prob(Omnibus):</th>  <td> 0.000</td>   <th>  Jarque-Bera (JB):  </th> <td>2788518431.294</td>\n",
       "</tr>\n",
       "<tr>\n",
       "  <th>Skew:</th>           <td>19.120</td>   <th>  Prob(JB):          </th>    <td>    0.00</td>   \n",
       "</tr>\n",
       "<tr>\n",
       "  <th>Kurtosis:</th>      <td>1314.800</td>  <th>  Cond. No.          </th>    <td>    3.11</td>   \n",
       "</tr>\n",
       "</table><br/><br/>Warnings:<br/>[1] Standard Errors assume that the covariance matrix of the errors is correctly specified."
      ],
      "text/plain": [
       "<class 'statsmodels.iolib.summary.Summary'>\n",
       "\"\"\"\n",
       "                            OLS Regression Results                            \n",
       "==============================================================================\n",
       "Dep. Variable:                revenue   R-squared:                       0.012\n",
       "Model:                            OLS   Adj. R-squared:                  0.012\n",
       "Method:                 Least Squares   F-statistic:                     457.4\n",
       "Date:                Mon, 30 Nov 2020   Prob (F-statistic):          6.87e-101\n",
       "Time:                        22:55:39   Log-Likelihood:             1.1731e+05\n",
       "No. Observations:               38858   AIC:                        -2.346e+05\n",
       "Df Residuals:                   38856   BIC:                        -2.346e+05\n",
       "Df Model:                           1                                         \n",
       "Covariance Type:            nonrobust                                         \n",
       "=====================================================================================\n",
       "                        coef    std err          t      P>|t|      [0.025      0.975]\n",
       "-------------------------------------------------------------------------------------\n",
       "Intercept             0.0032      0.000     32.310      0.000       0.003       0.003\n",
       "C(is_open)[T.1.0]     0.0027      0.000     21.386      0.000       0.002       0.003\n",
       "==============================================================================\n",
       "Omnibus:                    84954.102   Durbin-Watson:                   1.998\n",
       "Prob(Omnibus):                  0.000   Jarque-Bera (JB):       2788518431.294\n",
       "Skew:                          19.120   Prob(JB):                         0.00\n",
       "Kurtosis:                    1314.800   Cond. No.                         3.11\n",
       "==============================================================================\n",
       "\n",
       "Warnings:\n",
       "[1] Standard Errors assume that the covariance matrix of the errors is correctly specified.\n",
       "\"\"\""
      ]
     },
     "execution_count": 174,
     "metadata": {},
     "output_type": "execute_result"
    }
   ],
   "source": [
    "# Using ols method for calculating the F-stats nd associated p-value\n",
    "# formula=continuous variable ~ C(categorical variable)\n",
    "model_two = smf.ols(formula='revenue ~ C(is_open)', data=test_df).fit()\n",
    "model_two.summary()"
   ]
  },
  {
   "cell_type": "markdown",
   "metadata": {},
   "source": [
    "P-value is significantly less than alpha; therefore, we can safely state that there is a relationship between business status and its revenue. In other words, there is higher likelihood that restaurants with high revenue are open."
   ]
  },
  {
   "cell_type": "markdown",
   "metadata": {},
   "source": [
    "## Chi Square Test - Two Categorical Variables\n",
    "Evaluate whether or not there's an association between restaurant's business status (close or open - categorical variable) and star ratings columns.\n",
    "\n",
    "- $H_0$ - Restaurant's lifespan and restaurant's star rating counts are ***unrelated***.\n",
    "- $H_a$ - Restaurant's lifespan and restaurant's star rating counts are ***related***."
   ]
  },
  {
   "cell_type": "markdown",
   "metadata": {},
   "source": [
    "#### Create Observed Data\n",
    "- Get required stars and is_open column column\n",
    "- Catplot for visualization\n",
    "- Create contingency table\n",
    "- Invoke chi-square test"
   ]
  },
  {
   "cell_type": "code",
   "execution_count": 175,
   "metadata": {},
   "outputs": [],
   "source": [
    "cols = test_df.columns[-5:].tolist() # get stars_1.0, stars_2.0, stars_3.0, stars_4.0, stars_5.0 columns\n",
    "cols.append('is_open')\n",
    "star_df = test_df[cols]"
   ]
  },
  {
   "cell_type": "markdown",
   "metadata": {},
   "source": [
    "#### Plot to visualize difference between close and open"
   ]
  },
  {
   "cell_type": "code",
   "execution_count": 176,
   "metadata": {},
   "outputs": [
    {
     "data": {
      "text/html": [
       "<div>\n",
       "<style scoped>\n",
       "    .dataframe tbody tr th:only-of-type {\n",
       "        vertical-align: middle;\n",
       "    }\n",
       "\n",
       "    .dataframe tbody tr th {\n",
       "        vertical-align: top;\n",
       "    }\n",
       "\n",
       "    .dataframe thead th {\n",
       "        text-align: right;\n",
       "    }\n",
       "</style>\n",
       "<table border=\"1\" class=\"dataframe\">\n",
       "  <thead>\n",
       "    <tr style=\"text-align: right;\">\n",
       "      <th></th>\n",
       "      <th>is_open</th>\n",
       "      <th>rating_range</th>\n",
       "      <th>count</th>\n",
       "    </tr>\n",
       "  </thead>\n",
       "  <tbody>\n",
       "    <tr>\n",
       "      <th>0</th>\n",
       "      <td>1.0</td>\n",
       "      <td>stars_1.0</td>\n",
       "      <td>0.000000</td>\n",
       "    </tr>\n",
       "    <tr>\n",
       "      <th>1</th>\n",
       "      <td>1.0</td>\n",
       "      <td>stars_1.0</td>\n",
       "      <td>0.000000</td>\n",
       "    </tr>\n",
       "    <tr>\n",
       "      <th>2</th>\n",
       "      <td>0.0</td>\n",
       "      <td>stars_1.0</td>\n",
       "      <td>0.006154</td>\n",
       "    </tr>\n",
       "    <tr>\n",
       "      <th>3</th>\n",
       "      <td>1.0</td>\n",
       "      <td>stars_1.0</td>\n",
       "      <td>0.000000</td>\n",
       "    </tr>\n",
       "    <tr>\n",
       "      <th>4</th>\n",
       "      <td>1.0</td>\n",
       "      <td>stars_1.0</td>\n",
       "      <td>0.009231</td>\n",
       "    </tr>\n",
       "  </tbody>\n",
       "</table>\n",
       "</div>"
      ],
      "text/plain": [
       "   is_open rating_range     count\n",
       "0      1.0    stars_1.0  0.000000\n",
       "1      1.0    stars_1.0  0.000000\n",
       "2      0.0    stars_1.0  0.006154\n",
       "3      1.0    stars_1.0  0.000000\n",
       "4      1.0    stars_1.0  0.009231"
      ]
     },
     "execution_count": 176,
     "metadata": {},
     "output_type": "execute_result"
    }
   ],
   "source": [
    "catplot_df = star_df.melt('is_open', var_name='rating_range', value_name='count')\n",
    "catplot_df.head()"
   ]
  },
  {
   "cell_type": "code",
   "execution_count": 177,
   "metadata": {},
   "outputs": [
    {
     "data": {
      "image/png": "[encoded data removed]",
      "text/plain": [
       "<Figure size 437.625x360 with 1 Axes>"
      ]
     },
     "metadata": {},
     "output_type": "display_data"
    }
   ],
   "source": [
    "sns.catplot(x='is_open', y='count', hue='rating_range', data=catplot_df, kind='bar', ci=None)\n",
    "plt.xlabel('Business Status')\n",
    "plt.ylabel('Proportion Rating Dependent');"
   ]
  },
  {
   "cell_type": "markdown",
   "metadata": {},
   "source": [
    "Just from the visualization alone, open restaurants tend to have higher star ratings compared to closed restaurants."
   ]
  },
  {
   "cell_type": "markdown",
   "metadata": {},
   "source": [
    "#### Create contingency table"
   ]
  },
  {
   "cell_type": "code",
   "execution_count": 178,
   "metadata": {},
   "outputs": [
    {
     "data": {
      "text/html": [
       "<div>\n",
       "<style scoped>\n",
       "    .dataframe tbody tr th:only-of-type {\n",
       "        vertical-align: middle;\n",
       "    }\n",
       "\n",
       "    .dataframe tbody tr th {\n",
       "        vertical-align: top;\n",
       "    }\n",
       "\n",
       "    .dataframe thead th {\n",
       "        text-align: right;\n",
       "    }\n",
       "</style>\n",
       "<table border=\"1\" class=\"dataframe\">\n",
       "  <thead>\n",
       "    <tr style=\"text-align: right;\">\n",
       "      <th></th>\n",
       "      <th>stars_1.0</th>\n",
       "      <th>stars_2.0</th>\n",
       "      <th>stars_3.0</th>\n",
       "      <th>stars_4.0</th>\n",
       "      <th>stars_5.0</th>\n",
       "    </tr>\n",
       "    <tr>\n",
       "      <th>is_open</th>\n",
       "      <th></th>\n",
       "      <th></th>\n",
       "      <th></th>\n",
       "      <th></th>\n",
       "      <th></th>\n",
       "    </tr>\n",
       "  </thead>\n",
       "  <tbody>\n",
       "    <tr>\n",
       "      <th>0.0</th>\n",
       "      <td>213.793846</td>\n",
       "      <td>440.191176</td>\n",
       "      <td>492.763314</td>\n",
       "      <td>484.319620</td>\n",
       "      <td>320.445313</td>\n",
       "    </tr>\n",
       "    <tr>\n",
       "      <th>1.0</th>\n",
       "      <td>600.960000</td>\n",
       "      <td>1147.455882</td>\n",
       "      <td>1405.988166</td>\n",
       "      <td>1592.613924</td>\n",
       "      <td>1412.606250</td>\n",
       "    </tr>\n",
       "  </tbody>\n",
       "</table>\n",
       "</div>"
      ],
      "text/plain": [
       "          stars_1.0    stars_2.0    stars_3.0    stars_4.0    stars_5.0\n",
       "is_open                                                                \n",
       "0.0      213.793846   440.191176   492.763314   484.319620   320.445313\n",
       "1.0      600.960000  1147.455882  1405.988166  1592.613924  1412.606250"
      ]
     },
     "execution_count": 178,
     "metadata": {},
     "output_type": "execute_result"
    }
   ],
   "source": [
    "ct_df = pd.pivot_table(star_df, index='is_open', aggfunc='sum')\n",
    "ct_df"
   ]
  },
  {
   "cell_type": "code",
   "execution_count": 179,
   "metadata": {},
   "outputs": [
    {
     "data": {
      "text/html": [
       "<div>\n",
       "<style scoped>\n",
       "    .dataframe tbody tr th:only-of-type {\n",
       "        vertical-align: middle;\n",
       "    }\n",
       "\n",
       "    .dataframe tbody tr th {\n",
       "        vertical-align: top;\n",
       "    }\n",
       "\n",
       "    .dataframe thead th {\n",
       "        text-align: right;\n",
       "    }\n",
       "</style>\n",
       "<table border=\"1\" class=\"dataframe\">\n",
       "  <thead>\n",
       "    <tr style=\"text-align: right;\">\n",
       "      <th></th>\n",
       "      <th>stars_1.0</th>\n",
       "      <th>stars_2.0</th>\n",
       "      <th>stars_3.0</th>\n",
       "      <th>stars_4.0</th>\n",
       "      <th>stars_5.0</th>\n",
       "    </tr>\n",
       "    <tr>\n",
       "      <th>is_open</th>\n",
       "      <th></th>\n",
       "      <th></th>\n",
       "      <th></th>\n",
       "      <th></th>\n",
       "      <th></th>\n",
       "    </tr>\n",
       "  </thead>\n",
       "  <tbody>\n",
       "    <tr>\n",
       "      <th>0.0</th>\n",
       "      <td>0.262403</td>\n",
       "      <td>0.27726</td>\n",
       "      <td>0.25952</td>\n",
       "      <td>0.23319</td>\n",
       "      <td>0.184902</td>\n",
       "    </tr>\n",
       "    <tr>\n",
       "      <th>1.0</th>\n",
       "      <td>0.737597</td>\n",
       "      <td>0.72274</td>\n",
       "      <td>0.74048</td>\n",
       "      <td>0.76681</td>\n",
       "      <td>0.815098</td>\n",
       "    </tr>\n",
       "  </tbody>\n",
       "</table>\n",
       "</div>"
      ],
      "text/plain": [
       "         stars_1.0  stars_2.0  stars_3.0  stars_4.0  stars_5.0\n",
       "is_open                                                       \n",
       "0.0       0.262403    0.27726    0.25952    0.23319   0.184902\n",
       "1.0       0.737597    0.72274    0.74048    0.76681   0.815098"
      ]
     },
     "execution_count": 179,
     "metadata": {},
     "output_type": "execute_result"
    }
   ],
   "source": [
    "# Get percentage based on column total\n",
    "colsum = ct_df.sum(axis=0)\n",
    "colpct = ct_df / colsum\n",
    "colpct"
   ]
  },
  {
   "cell_type": "markdown",
   "metadata": {},
   "source": [
    "Each columns and rows add up to 100%, just by looking at a glance, for stars rating columns from 3.0 to 5.0 - it significantly has high ratings given to open restaurants compared to closed restaurants."
   ]
  },
  {
   "cell_type": "markdown",
   "metadata": {},
   "source": [
    "#### Invoke Chi-Square test"
   ]
  },
  {
   "cell_type": "code",
   "execution_count": 180,
   "metadata": {},
   "outputs": [
    {
     "data": {
      "text/plain": [
       "(47.56763858046413,\n",
       " 1.1614131994070885e-09,\n",
       " 4,\n",
       " array([[ 196.0271224 ,  381.98271268,  456.83342323,  499.70344788,\n",
       "          416.9665628 ],\n",
       "        [ 618.72672376, 1205.66434614, 1441.91805606, 1577.23009642,\n",
       "         1316.0849997 ]]))"
      ]
     },
     "execution_count": 180,
     "metadata": {},
     "output_type": "execute_result"
    }
   ],
   "source": [
    "cs_one = stats.chi2_contingency(ct_df)\n",
    "cs_one"
   ]
  },
  {
   "cell_type": "markdown",
   "metadata": {},
   "source": [
    "Looking at chi-square result, the chi-squre value is large, 48, and the p-value shown in scientific notation is quite small, approximately 8.7e to the negative 10, which clearly tells us that stars columns and is_open column are significantly associated."
   ]
  },
  {
   "cell_type": "markdown",
   "metadata": {},
   "source": [
    "## Pearson Correlation - Two Quantitative Variables\n",
    "Earlier in this section, we found out that restaurant's revenues and its business status are associated. In other words, restaurant's revenues has some influence whether restaurants will remain open or not. In this section, I'll be testing whether sentiment's compound score has *strong positive* linear relationship with revenues or not. If there is a positive relationship, we can safely state that higher sentiment's compound score can yield restaurants to remain open.\n",
    "\n",
    "- $H_0$ - Restaurant's revenue and restaurant's sentiment's compound score are ***unrelated***.\n",
    "- $H_a$ - Restaurant's revenue and restaurant's sentiment's compound score are ***related***."
   ]
  },
  {
   "cell_type": "code",
   "execution_count": 184,
   "metadata": {},
   "outputs": [
    {
     "data": {
      "text/html": [
       "<div>\n",
       "<style scoped>\n",
       "    .dataframe tbody tr th:only-of-type {\n",
       "        vertical-align: middle;\n",
       "    }\n",
       "\n",
       "    .dataframe tbody tr th {\n",
       "        vertical-align: top;\n",
       "    }\n",
       "\n",
       "    .dataframe thead th {\n",
       "        text-align: right;\n",
       "    }\n",
       "</style>\n",
       "<table border=\"1\" class=\"dataframe\">\n",
       "  <thead>\n",
       "    <tr style=\"text-align: right;\">\n",
       "      <th></th>\n",
       "      <th>compound</th>\n",
       "      <th>revenue</th>\n",
       "    </tr>\n",
       "  </thead>\n",
       "  <tbody>\n",
       "    <tr>\n",
       "      <th>0</th>\n",
       "      <td>0.953855</td>\n",
       "      <td>0.000066</td>\n",
       "    </tr>\n",
       "    <tr>\n",
       "      <th>1</th>\n",
       "      <td>0.806740</td>\n",
       "      <td>0.000157</td>\n",
       "    </tr>\n",
       "    <tr>\n",
       "      <th>2</th>\n",
       "      <td>0.598692</td>\n",
       "      <td>0.000079</td>\n",
       "    </tr>\n",
       "    <tr>\n",
       "      <th>3</th>\n",
       "      <td>0.909050</td>\n",
       "      <td>0.000931</td>\n",
       "    </tr>\n",
       "    <tr>\n",
       "      <th>4</th>\n",
       "      <td>0.906064</td>\n",
       "      <td>0.006413</td>\n",
       "    </tr>\n",
       "  </tbody>\n",
       "</table>\n",
       "</div>"
      ],
      "text/plain": [
       "   compound   revenue\n",
       "0  0.953855  0.000066\n",
       "1  0.806740  0.000157\n",
       "2  0.598692  0.000079\n",
       "3  0.909050  0.000931\n",
       "4  0.906064  0.006413"
      ]
     },
     "execution_count": 184,
     "metadata": {},
     "output_type": "execute_result"
    }
   ],
   "source": [
    "corr_df = test_df[['compound', 'revenue']]\n",
    "corr_df.head()"
   ]
  },
  {
   "cell_type": "markdown",
   "metadata": {},
   "source": [
    "#### Plot Linear Regression "
   ]
  },
  {
   "cell_type": "code",
   "execution_count": 185,
   "metadata": {},
   "outputs": [
    {
     "data": {
      "image/png": "[encoded data removed]",
      "text/plain": [
       "<Figure size 252x360 with 1 Axes>"
      ]
     },
     "metadata": {},
     "output_type": "display_data"
    }
   ],
   "source": [
    "sns.pairplot(corr_df.sample(n=200), x_vars='compound', y_vars='revenue', size=5, aspect = 0.7, kind='reg');"
   ]
  },
  {
   "cell_type": "markdown",
   "metadata": {},
   "source": [
    "#### Pearson's Correlation Test"
   ]
  },
  {
   "cell_type": "code",
   "execution_count": 186,
   "metadata": {},
   "outputs": [
    {
     "data": {
      "text/plain": [
       "(0.0809460134636913, 1.7018709667392612e-57)"
      ]
     },
     "execution_count": 186,
     "metadata": {},
     "output_type": "execute_result"
    }
   ],
   "source": [
    "stats.pearsonr(corr_df['compound'], corr_df['revenue'])"
   ]
  },
  {
   "cell_type": "markdown",
   "metadata": {},
   "source": [
    "Pearson correlation returned correlation coefficient of approximately **0.08** with a very small p-value of 1.7e negative 57. The relationship between revenue and compound are statistically signficant with slight positive linear relationship as shown on the graph above. However, residuals (distance between data points and line) for the most part seem okay as majority of the datapoints are congested in one area but there are significant number of datapoints that are far from the line."
   ]
  },
  {
   "cell_type": "markdown",
   "metadata": {},
   "source": [
    "## Summary of Statistical Analysis\n",
    "- **ANOVA (Analysis of Variance)** - Tested restaurant's lifespan and revenue (explanatory variables) and its business status (response variable) which concluded lifespan/revenue and is_open columns are associated, rejecting null hypothesis due to having very small p-value.\n",
    "- **Chi-Square** - Tested stars columns (1.0-5.0) and restaurant's lifespan which also resulted in having association, open restaurants had significantly higher ratings count.\n",
    "- **Pearson Correlation** - Tested between restaurant's revenue and its sentiment's compound score - it has slightly positive linear relationship with low p-value, most data points are congested in one area, however there are significant number of data points that has high residual value."
   ]
  }
 ],
 "metadata": {
  "kernelspec": {
   "display_name": "Python 3",
   "language": "python",
   "name": "python3"
  },
  "language_info": {
   "codemirror_mode": {
    "name": "ipython",
    "version": 3
   },
   "file_extension": ".py",
   "mimetype": "text/x-python",
   "name": "python",
   "nbconvert_exporter": "python",
   "pygments_lexer": "ipython3",
   "version": "3.8.3"
  }
 },
 "nbformat": 4,
 "nbformat_minor": 4
}
